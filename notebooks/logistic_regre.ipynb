{
 "cells": [
  {
   "cell_type": "markdown",
   "id": "e3515b26-5357-4163-80ab-ac37b942f681",
   "metadata": {},
   "source": [
    "# Modeling"
   ]
  },
  {
   "cell_type": "code",
   "execution_count": 52,
   "id": "9e58d3d5-3df5-450b-9b58-5186e5f2c6af",
   "metadata": {},
   "outputs": [],
   "source": [
    "import pandas as pd\n",
    "import numpy as np\n",
    "\n",
    "from sklearn.model_selection import train_test_split\n",
    "from sklearn.linear_model import LogisticRegression\n",
    "from sklearn.dummy import DummyClassifier\n",
    "from sklearn.metrics import accuracy_score,recall_score,precision_score,f1_score\n",
    "from sklearn.model_selection import StratifiedKFold\n",
    "from sklearn.model_selection import GridSearchCV\n",
    "from sklearn.metrics import confusion_matrix\n",
    "from sklearn.metrics import classification_report\n",
    "from sklearn.metrics import ConfusionMatrixDisplay\n",
    "from sklearn import metrics\n",
    "import matplotlib.pyplot as plt\n",
    "import warnings\n",
    "warnings.simplefilter(action = 'ignore', category = FutureWarning)\n",
    "from sklearn.metrics import mean_squared_error, mean_absolute_percentage_error\n",
    "from keras.models import Sequential\n",
    "from keras.layers import Dense\n",
    "from keras.layers import LSTM\n",
    "from sklearn.preprocessing import MinMaxScaler\n",
    "from keras.preprocessing.sequence import TimeseriesGenerator"
   ]
  },
  {
   "cell_type": "code",
   "execution_count": 65,
   "id": "203e5c9f-df53-4064-bbb7-915389aebbc3",
   "metadata": {},
   "outputs": [],
   "source": [
    "# load data\n",
    "# data with feature selection and without adding features\n",
    "path_1 = '/Users/yutingmei/Projects/APlusBernstein-Project/data/processed/weight/dt_processed_weight_0.csv'\n",
    "df1 = pd.read_csv(path_1)\n",
    "\n",
    "path_2 = '/Users/yutingmei/Projects/APlusBernstein-Project/data/processed/weight/feature/dt_processed_weight_feature_1.csv'\n",
    "df2 = pd.read_csv(path_2)\n",
    "\n",
    "path = '/Users/yutingmei/Projects/APlusBernstein-Project/data/raw/FactorTimingData-ABVU2022.xlsx'\n",
    "target = pd.read_excel(path, sheet_name = 'target')"
   ]
  },
  {
   "cell_type": "markdown",
   "id": "ff67ad4c-6956-4fa1-a58e-2089c67ab96a",
   "metadata": {},
   "source": [
    "#### train test split"
   ]
  },
  {
   "cell_type": "code",
   "execution_count": 66,
   "id": "95fac251-90aa-4067-9da2-b2839f92b9de",
   "metadata": {},
   "outputs": [],
   "source": [
    "# the first row can't be filled\n",
    "df1 = df1.iloc[1:-1,:]\n",
    "df2 = df2.iloc[:-1, :]"
   ]
  },
  {
   "cell_type": "code",
   "execution_count": 67,
   "id": "68de80c2-1fcc-44f9-bcf4-411980a425d6",
   "metadata": {},
   "outputs": [],
   "source": [
    "y = target.iloc[1:, -3]"
   ]
  },
  {
   "cell_type": "code",
   "execution_count": 68,
   "id": "b926ab72-4c4a-4c88-b5f8-91eef5217785",
   "metadata": {},
   "outputs": [],
   "source": [
    "df1['y'] = target.iloc[1:, -3]\n",
    "df2['y'] = target.iloc[1:, -3]"
   ]
  },
  {
   "cell_type": "code",
   "execution_count": 69,
   "id": "07923b20-f084-458f-a7b8-2874eadb410c",
   "metadata": {},
   "outputs": [],
   "source": [
    "scaler = MinMaxScaler(feature_range=(0, 1))\n",
    "df1 = scaler.fit_transform(df1)\n",
    "df2 = scaler.fit_transform(df2)"
   ]
  },
  {
   "cell_type": "code",
   "execution_count": 35,
   "id": "6d2e4a34-82db-46d8-a46b-20448cf24b42",
   "metadata": {},
   "outputs": [],
   "source": [
    "test_size = 1000\n",
    "\n",
    "X_train1 = df1[:-test_size]\n",
    "X_test1 = df1[-test_size:]\n",
    "\n",
    "X_train2 = df2[:-test_size]\n",
    "X_test2 = df2[-test_size:]"
   ]
  },
  {
   "cell_type": "code",
   "execution_count": 36,
   "id": "e425339f-e64c-4654-8961-c2705ac24d54",
   "metadata": {},
   "outputs": [],
   "source": [
    "y_train1 = y[:-test_size]\n",
    "y_test1 = y[-test_size:]\n",
    "\n",
    "y_train2 = y[:-test_size]\n",
    "y_test2 = y[-test_size:]"
   ]
  },
  {
   "cell_type": "markdown",
   "id": "baea5577-f684-4749-a2f5-d0736a482d2f",
   "metadata": {},
   "source": [
    "#### baseline model"
   ]
  },
  {
   "cell_type": "code",
   "execution_count": 8,
   "id": "e197fcd5-6e8d-46f8-9d52-a6c85fb2d959",
   "metadata": {},
   "outputs": [],
   "source": [
    "# baseline model\n",
    "# make predictions with most frequency\n",
    "def daseline(X_train, X_test, y_train, y_test):\n",
    "    clf = DummyClassifier(strategy= 'most_frequent').fit(X_train,y_train)\n",
    "    y_pred = clf.predict(X_test)\n",
    "    #Distribution of y test\n",
    "    print('y actual : \\n' +  str(y_test.value_counts()))\n",
    "    #Distribution of y predicted\n",
    "    print('y predicted : \\n' + str(pd.Series(y_pred).value_counts()))\n",
    "    print('Accuracy Score : ' + str(accuracy_score(y_test,y_pred)))\n",
    "    print('Precision Score : ' + str(precision_score(y_test,y_pred)))\n",
    "    print('Recall Score : ' + str(recall_score(y_test,y_pred)))\n",
    "    print('F1 Score : ' + str(f1_score(y_test,y_pred)))"
   ]
  },
  {
   "cell_type": "code",
   "execution_count": 9,
   "id": "c9f350c2-4acb-49a1-b782-23dfc3448d4d",
   "metadata": {},
   "outputs": [
    {
     "name": "stdout",
     "output_type": "stream",
     "text": [
      "y actual : \n",
      "1    555\n",
      "0    506\n",
      "Name: sc_1d_fwd_rel_d, dtype: int64\n",
      "y predicted : \n",
      "1    1061\n",
      "dtype: int64\n",
      "Accuracy Score : 0.5230914231856739\n",
      "Precision Score : 0.5230914231856739\n",
      "Recall Score : 1.0\n",
      "F1 Score : 0.6868811881188118\n"
     ]
    }
   ],
   "source": [
    "daseline(X_train1, X_test1, y_train1, y_test1)"
   ]
  },
  {
   "cell_type": "code",
   "execution_count": 9,
   "id": "9657e915-c85e-417b-80f9-c486596f52c7",
   "metadata": {},
   "outputs": [
    {
     "name": "stdout",
     "output_type": "stream",
     "text": [
      "y actual : \n",
      "1    552\n",
      "0    509\n",
      "Name: sc_1d_fwd_rel_d, dtype: int64\n",
      "y predicted : \n",
      "1    1061\n",
      "dtype: int64\n",
      "Accuracy Score : 0.5202639019792649\n",
      "Precision Score : 0.5202639019792649\n",
      "Recall Score : 1.0\n",
      "F1 Score : 0.6844389336639801\n"
     ]
    }
   ],
   "source": [
    "daseline(X_train2, X_test2, y_train2, y_test2)"
   ]
  },
  {
   "cell_type": "markdown",
   "id": "62cc22f2-0c6b-429a-aa9c-2521176a0d98",
   "metadata": {},
   "source": [
    "#### logistic regression"
   ]
  },
  {
   "cell_type": "code",
   "execution_count": 11,
   "id": "9861f597-251b-4b54-8752-506eaf9931e3",
   "metadata": {},
   "outputs": [],
   "source": [
    "def grid_proc(param_grid, model, X_train, X_test, y_train, y_test):\n",
    "    cv = StratifiedKFold(n_splits=10, shuffle=True)\n",
    "    gs = GridSearchCV(estimator=model,\n",
    "                 param_grid = param_grid,\n",
    "                 scoring = 'balanced_accuracy',\n",
    "                 cv= cv,\n",
    "                 n_jobs =-1,\n",
    "                refit=True)\n",
    "    gs = gs.fit(X_train, y_train)\n",
    "    gs_p = gs.predict(X_test)\n",
    "    gs_df= pd.DataFrame(gs.cv_results_)\n",
    "    return gs, gs_p, gs_df"
   ]
  },
  {
   "cell_type": "code",
   "execution_count": 12,
   "id": "4604b180-7e2d-40f9-b366-c8a2e8575f99",
   "metadata": {},
   "outputs": [],
   "source": [
    "model1 = LogisticRegression()\n",
    "params1 = {'l1_ratio':np.linspace(0.1,0.9,15),\n",
    "           # 'l2_ratio':np.linspace(0,1,10),\n",
    "               'C': np.logspace(-2, 1, 20),\n",
    "              'solver':['saga'],\n",
    "              'tol':[0.05, 0.01,  0.02, 0.05, 0.075, 0.1],\n",
    "          'penalty':['elasticnet'],\n",
    "          'max_iter':[150, 200, 250]}"
   ]
  },
  {
   "cell_type": "code",
   "execution_count": 15,
   "id": "e38596db-95c9-4109-be48-07e4e85bd8be",
   "metadata": {},
   "outputs": [],
   "source": [
    "grid_search_log1, log_predict1, results_log1 = grid_proc(param_grid = params1, \n",
    "                         model = model1, X_train = X_train1, X_test = X_test1, \n",
    "                         y_train = y_train1, y_test = y_test1)"
   ]
  },
  {
   "cell_type": "code",
   "execution_count": 21,
   "id": "07153a9a-de3a-4144-801a-68cb23765c0c",
   "metadata": {},
   "outputs": [],
   "source": [
    "model2 = LogisticRegression()\n",
    "params2 = {'l1_ratio':np.linspace(0.3,1,15),\n",
    "               'C': np.logspace(0, 2, 20),\n",
    "              'solver':['saga'],\n",
    "              'tol':[0.05,  0.01, 0.025, 0.05, 0.75, 0.1],\n",
    "          'penalty':['elasticnet'],\n",
    "          'max_iter':[150, 200, 250]}"
   ]
  },
  {
   "cell_type": "code",
   "execution_count": 23,
   "id": "7960d0b9-b672-4a0a-b717-0e50298e5fd4",
   "metadata": {},
   "outputs": [],
   "source": [
    "grid_search_log2, log_predict2, results_log2 = grid_proc(param_grid = params2, \n",
    "                         model = model2, X_train = X_train2, X_test = X_test2, \n",
    "                         y_train = y_train2, y_test = y_test2)"
   ]
  },
  {
   "cell_type": "code",
   "execution_count": 22,
   "id": "1c3707a0-9802-41ac-897c-a4fb9b3081f7",
   "metadata": {},
   "outputs": [
    {
     "data": {
      "text/plain": [
       "LogisticRegression(C=1.623776739188721, l1_ratio=0.1, max_iter=200,\n",
       "                   penalty='elasticnet', solver='saga', tol=0.1)"
      ]
     },
     "execution_count": 22,
     "metadata": {},
     "output_type": "execute_result"
    }
   ],
   "source": [
    "grid_search_log1.best_estimator_"
   ]
  },
  {
   "cell_type": "code",
   "execution_count": 24,
   "id": "22dce5c6-2e0c-46dc-ac3c-73cca757787f",
   "metadata": {},
   "outputs": [
    {
     "data": {
      "text/plain": [
       "LogisticRegression(C=8.858667904100825, l1_ratio=0.8499999999999999,\n",
       "                   max_iter=150, penalty='elasticnet', solver='saga', tol=0.75)"
      ]
     },
     "execution_count": 24,
     "metadata": {},
     "output_type": "execute_result"
    }
   ],
   "source": [
    "grid_search_log2.best_estimator_"
   ]
  },
  {
   "cell_type": "markdown",
   "id": "978a039a-c3aa-4f84-a2d1-3b2974728c1b",
   "metadata": {},
   "source": [
    "##### regression matrix"
   ]
  },
  {
   "cell_type": "code",
   "execution_count": 17,
   "id": "51da5962-f863-43ee-bfd2-d686ba2c5ebc",
   "metadata": {},
   "outputs": [],
   "source": [
    "def regre_matrix(y_test, y_pred):\n",
    "    rmse = lambda act, pred: np.sqrt(mean_squared_error(act, pred))\n",
    "    # Error metrics\n",
    "    print(f'RMSE: {rmse(y_test, y_pred)}')\n",
    "    print(f'MAPE: {mean_absolute_percentage_error(y_test, y_pred)}')"
   ]
  },
  {
   "cell_type": "code",
   "execution_count": 18,
   "id": "3275d51c-fa4b-4d69-b355-2474719f9ba3",
   "metadata": {},
   "outputs": [
    {
     "name": "stdout",
     "output_type": "stream",
     "text": [
      "RMSE: 0.7028513356322231\n",
      "MAPE: 828662331436171.5\n"
     ]
    }
   ],
   "source": [
    "regre_matrix(y_test1, log_predict1)"
   ]
  },
  {
   "cell_type": "code",
   "execution_count": 25,
   "id": "b6185a04-cc61-4a0b-9b2c-b31999080d86",
   "metadata": {},
   "outputs": [
    {
     "name": "stdout",
     "output_type": "stream",
     "text": [
      "RMSE: 0.7042726744663603\n",
      "MAPE: 1319554690819555.2\n"
     ]
    }
   ],
   "source": [
    "regre_matrix(y_test2, log_predict2)"
   ]
  },
  {
   "cell_type": "markdown",
   "id": "6b6dd79f-a014-44be-b711-9328e7271ab6",
   "metadata": {},
   "source": [
    "##### confusion matrix"
   ]
  },
  {
   "cell_type": "code",
   "execution_count": 19,
   "id": "5cc8366c-3abd-427d-8dcb-c1657cc90e95",
   "metadata": {},
   "outputs": [],
   "source": [
    "def get_metric(y_test, y_pred, model):\n",
    "    cm = confusion_matrix(y_test, y_pred)\n",
    "    report = classification_report(y_test, y_pred)\n",
    "    disp = ConfusionMatrixDisplay(confusion_matrix=cm,\n",
    "                               display_labels=model.classes_)\n",
    "    accu = metrics.accuracy_score(y_test, y_pred)\n",
    "    print(report)\n",
    "    print(\"Accuracy:\",accu)\n",
    "    disp.plot()\n",
    "    plt.show()"
   ]
  },
  {
   "cell_type": "code",
   "execution_count": 20,
   "id": "9a200a1f-419b-4da2-8d5f-a7b739378b25",
   "metadata": {},
   "outputs": [
    {
     "name": "stdout",
     "output_type": "stream",
     "text": [
      "              precision    recall  f1-score   support\n",
      "\n",
      "           0       0.52      0.65      0.58       523\n",
      "           1       0.48      0.35      0.40       477\n",
      "\n",
      "    accuracy                           0.51      1000\n",
      "   macro avg       0.50      0.50      0.49      1000\n",
      "weighted avg       0.50      0.51      0.49      1000\n",
      "\n",
      "Accuracy: 0.506\n"
     ]
    },
    {
     "data": {
      "image/png": "[encoded data removed]",
      "text/plain": [
       "<Figure size 432x288 with 2 Axes>"
      ]
     },
     "metadata": {
      "needs_background": "light"
     },
     "output_type": "display_data"
    }
   ],
   "source": [
    "# bad performance using logistic regression\n",
    "get_metric(y_test1, log_predict1, grid_search_log1)"
   ]
  },
  {
   "cell_type": "code",
   "execution_count": 26,
   "id": "e464b61c-fa88-491d-a56d-3a1692680af8",
   "metadata": {},
   "outputs": [
    {
     "name": "stdout",
     "output_type": "stream",
     "text": [
      "              precision    recall  f1-score   support\n",
      "\n",
      "           0       0.53      0.44      0.48       523\n",
      "           1       0.48      0.57      0.52       477\n",
      "\n",
      "    accuracy                           0.50      1000\n",
      "   macro avg       0.51      0.51      0.50      1000\n",
      "weighted avg       0.51      0.50      0.50      1000\n",
      "\n",
      "Accuracy: 0.504\n"
     ]
    },
    {
     "data": {
      "image/png": "[encoded data removed]",
      "text/plain": [
       "<Figure size 432x288 with 2 Axes>"
      ]
     },
     "metadata": {
      "needs_background": "light"
     },
     "output_type": "display_data"
    }
   ],
   "source": [
    "get_metric(y_test2, log_predict2, grid_search_log2)"
   ]
  },
  {
   "cell_type": "code",
   "execution_count": null,
   "id": "f415d4fa-56b9-4a59-bb9f-0ee53cec36cf",
   "metadata": {},
   "outputs": [],
   "source": []
  }
 ],
 "metadata": {
  "kernelspec": {
   "display_name": "Python 3 (ipykernel)",
   "language": "python",
   "name": "python3"
  },
  "language_info": {
   "codemirror_mode": {
    "name": "ipython",
    "version": 3
   },
   "file_extension": ".py",
   "mimetype": "text/x-python",
   "name": "python",
   "nbconvert_exporter": "python",
   "pygments_lexer": "ipython3",
   "version": "3.9.7"
  }
 },
 "nbformat": 4,
 "nbformat_minor": 5
}
