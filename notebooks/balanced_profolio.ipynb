{
 "cells": [
  {
   "cell_type": "markdown",
   "id": "563a2165-9790-494f-84ce-356d54e78c22",
   "metadata": {},
   "source": [
    "## balanced_profolio"
   ]
  },
  {
   "cell_type": "code",
   "execution_count": 49,
   "id": "c3788075-3616-46a6-81bb-60ba09224f73",
   "metadata": {},
   "outputs": [],
   "source": [
    "import pandas as pd\n",
    "import numpy as np\n",
    "import math"
   ]
  },
  {
   "cell_type": "code",
   "execution_count": 50,
   "id": "2ade80d2",
   "metadata": {},
   "outputs": [],
   "source": [
    "path = '/Users/yutingmei/APlusBernstein-Project/data/pred/lstm_preds.csv'\n",
    "target = pd.read_csv(path)"
   ]
  },
  {
   "cell_type": "code",
   "execution_count": 3,
   "id": "f16e9089-c780-4d2f-bbdd-4bb9bb751ce7",
   "metadata": {},
   "outputs": [],
   "source": [
    "# target = target.iloc[1: , :]\n",
    "# target = target.reset_index(drop=True)"
   ]
  },
  {
   "cell_type": "code",
   "execution_count": 51,
   "id": "48f97ff1-5ea8-4115-b93c-17e35e6c21ef",
   "metadata": {},
   "outputs": [
    {
     "data": {
      "text/html": [
       "<div>\n",
       "<style scoped>\n",
       "    .dataframe tbody tr th:only-of-type {\n",
       "        vertical-align: middle;\n",
       "    }\n",
       "\n",
       "    .dataframe tbody tr th {\n",
       "        vertical-align: top;\n",
       "    }\n",
       "\n",
       "    .dataframe thead th {\n",
       "        text-align: right;\n",
       "    }\n",
       "</style>\n",
       "<table border=\"1\" class=\"dataframe\">\n",
       "  <thead>\n",
       "    <tr style=\"text-align: right;\">\n",
       "      <th></th>\n",
       "      <th>sc</th>\n",
       "      <th>mom</th>\n",
       "      <th>value</th>\n",
       "      <th>.pred_prob_sc_lstm</th>\n",
       "      <th>.pred_prob_mom_lstm</th>\n",
       "      <th>.pred_prob_value_lstm</th>\n",
       "      <th>.pred_sc_lstm</th>\n",
       "      <th>.pred_mom_lstm</th>\n",
       "      <th>.pred_value_lstm</th>\n",
       "      <th>s_&amp;_p_500_ret</th>\n",
       "      <th>sc_1d_fwd_ret</th>\n",
       "      <th>mom_1d_fwd_ret</th>\n",
       "      <th>value_1d_fwd_ret</th>\n",
       "    </tr>\n",
       "  </thead>\n",
       "  <tbody>\n",
       "    <tr>\n",
       "      <th>0</th>\n",
       "      <td>1</td>\n",
       "      <td>0</td>\n",
       "      <td>1</td>\n",
       "      <td>0.495916</td>\n",
       "      <td>0.551642</td>\n",
       "      <td>0.551642</td>\n",
       "      <td>0</td>\n",
       "      <td>1</td>\n",
       "      <td>0</td>\n",
       "      <td>NaN</td>\n",
       "      <td>0.005083</td>\n",
       "      <td>-0.000662</td>\n",
       "      <td>0.001758</td>\n",
       "    </tr>\n",
       "    <tr>\n",
       "      <th>1</th>\n",
       "      <td>0</td>\n",
       "      <td>0</td>\n",
       "      <td>1</td>\n",
       "      <td>0.507404</td>\n",
       "      <td>0.537511</td>\n",
       "      <td>0.537511</td>\n",
       "      <td>1</td>\n",
       "      <td>1</td>\n",
       "      <td>0</td>\n",
       "      <td>-0.000333</td>\n",
       "      <td>-0.008109</td>\n",
       "      <td>-0.002763</td>\n",
       "      <td>-0.001990</td>\n",
       "    </tr>\n",
       "    <tr>\n",
       "      <th>2</th>\n",
       "      <td>1</td>\n",
       "      <td>1</td>\n",
       "      <td>1</td>\n",
       "      <td>0.513883</td>\n",
       "      <td>0.548627</td>\n",
       "      <td>0.548627</td>\n",
       "      <td>1</td>\n",
       "      <td>1</td>\n",
       "      <td>0</td>\n",
       "      <td>-0.002512</td>\n",
       "      <td>0.008351</td>\n",
       "      <td>0.009081</td>\n",
       "      <td>0.006174</td>\n",
       "    </tr>\n",
       "    <tr>\n",
       "      <th>3</th>\n",
       "      <td>1</td>\n",
       "      <td>1</td>\n",
       "      <td>1</td>\n",
       "      <td>0.525089</td>\n",
       "      <td>0.551225</td>\n",
       "      <td>0.551225</td>\n",
       "      <td>1</td>\n",
       "      <td>1</td>\n",
       "      <td>0</td>\n",
       "      <td>0.006082</td>\n",
       "      <td>0.001307</td>\n",
       "      <td>0.007427</td>\n",
       "      <td>0.001928</td>\n",
       "    </tr>\n",
       "    <tr>\n",
       "      <th>4</th>\n",
       "      <td>0</td>\n",
       "      <td>1</td>\n",
       "      <td>1</td>\n",
       "      <td>0.535904</td>\n",
       "      <td>0.556041</td>\n",
       "      <td>0.556041</td>\n",
       "      <td>1</td>\n",
       "      <td>1</td>\n",
       "      <td>0</td>\n",
       "      <td>-0.000212</td>\n",
       "      <td>0.000261</td>\n",
       "      <td>0.001359</td>\n",
       "      <td>0.002828</td>\n",
       "    </tr>\n",
       "    <tr>\n",
       "      <th>...</th>\n",
       "      <td>...</td>\n",
       "      <td>...</td>\n",
       "      <td>...</td>\n",
       "      <td>...</td>\n",
       "      <td>...</td>\n",
       "      <td>...</td>\n",
       "      <td>...</td>\n",
       "      <td>...</td>\n",
       "      <td>...</td>\n",
       "      <td>...</td>\n",
       "      <td>...</td>\n",
       "      <td>...</td>\n",
       "      <td>...</td>\n",
       "    </tr>\n",
       "    <tr>\n",
       "      <th>1841</th>\n",
       "      <td>1</td>\n",
       "      <td>0</td>\n",
       "      <td>0</td>\n",
       "      <td>0.473095</td>\n",
       "      <td>0.508067</td>\n",
       "      <td>0.508067</td>\n",
       "      <td>0</td>\n",
       "      <td>1</td>\n",
       "      <td>0</td>\n",
       "      <td>-0.000215</td>\n",
       "      <td>0.001707</td>\n",
       "      <td>-0.004040</td>\n",
       "      <td>-0.002439</td>\n",
       "    </tr>\n",
       "    <tr>\n",
       "      <th>1842</th>\n",
       "      <td>0</td>\n",
       "      <td>0</td>\n",
       "      <td>0</td>\n",
       "      <td>0.475162</td>\n",
       "      <td>0.510649</td>\n",
       "      <td>0.510649</td>\n",
       "      <td>0</td>\n",
       "      <td>1</td>\n",
       "      <td>0</td>\n",
       "      <td>-0.000846</td>\n",
       "      <td>-0.003714</td>\n",
       "      <td>-0.004661</td>\n",
       "      <td>0.006674</td>\n",
       "    </tr>\n",
       "    <tr>\n",
       "      <th>1843</th>\n",
       "      <td>0</td>\n",
       "      <td>0</td>\n",
       "      <td>0</td>\n",
       "      <td>0.484604</td>\n",
       "      <td>0.517438</td>\n",
       "      <td>0.517438</td>\n",
       "      <td>0</td>\n",
       "      <td>1</td>\n",
       "      <td>0</td>\n",
       "      <td>0.006763</td>\n",
       "      <td>-0.013597</td>\n",
       "      <td>-0.007605</td>\n",
       "      <td>-0.009775</td>\n",
       "    </tr>\n",
       "    <tr>\n",
       "      <th>1844</th>\n",
       "      <td>1</td>\n",
       "      <td>0</td>\n",
       "      <td>1</td>\n",
       "      <td>0.492156</td>\n",
       "      <td>0.528105</td>\n",
       "      <td>0.528105</td>\n",
       "      <td>0</td>\n",
       "      <td>1</td>\n",
       "      <td>0</td>\n",
       "      <td>-0.007195</td>\n",
       "      <td>0.004891</td>\n",
       "      <td>-0.007206</td>\n",
       "      <td>0.008705</td>\n",
       "    </tr>\n",
       "    <tr>\n",
       "      <th>1845</th>\n",
       "      <td>0</td>\n",
       "      <td>0</td>\n",
       "      <td>1</td>\n",
       "      <td>0.484199</td>\n",
       "      <td>0.521795</td>\n",
       "      <td>0.521795</td>\n",
       "      <td>0</td>\n",
       "      <td>1</td>\n",
       "      <td>0</td>\n",
       "      <td>0.002748</td>\n",
       "      <td>-0.011948</td>\n",
       "      <td>-0.020149</td>\n",
       "      <td>-0.001448</td>\n",
       "    </tr>\n",
       "  </tbody>\n",
       "</table>\n",
       "<p>1846 rows × 13 columns</p>\n",
       "</div>"
      ],
      "text/plain": [
       "      sc  mom  value  .pred_prob_sc_lstm  .pred_prob_mom_lstm  \\\n",
       "0      1    0      1            0.495916             0.551642   \n",
       "1      0    0      1            0.507404             0.537511   \n",
       "2      1    1      1            0.513883             0.548627   \n",
       "3      1    1      1            0.525089             0.551225   \n",
       "4      0    1      1            0.535904             0.556041   \n",
       "...   ..  ...    ...                 ...                  ...   \n",
       "1841   1    0      0            0.473095             0.508067   \n",
       "1842   0    0      0            0.475162             0.510649   \n",
       "1843   0    0      0            0.484604             0.517438   \n",
       "1844   1    0      1            0.492156             0.528105   \n",
       "1845   0    0      1            0.484199             0.521795   \n",
       "\n",
       "      .pred_prob_value_lstm  .pred_sc_lstm  .pred_mom_lstm  .pred_value_lstm  \\\n",
       "0                  0.551642              0               1                 0   \n",
       "1                  0.537511              1               1                 0   \n",
       "2                  0.548627              1               1                 0   \n",
       "3                  0.551225              1               1                 0   \n",
       "4                  0.556041              1               1                 0   \n",
       "...                     ...            ...             ...               ...   \n",
       "1841               0.508067              0               1                 0   \n",
       "1842               0.510649              0               1                 0   \n",
       "1843               0.517438              0               1                 0   \n",
       "1844               0.528105              0               1                 0   \n",
       "1845               0.521795              0               1                 0   \n",
       "\n",
       "      s_&_p_500_ret  sc_1d_fwd_ret  mom_1d_fwd_ret  value_1d_fwd_ret  \n",
       "0               NaN       0.005083       -0.000662          0.001758  \n",
       "1         -0.000333      -0.008109       -0.002763         -0.001990  \n",
       "2         -0.002512       0.008351        0.009081          0.006174  \n",
       "3          0.006082       0.001307        0.007427          0.001928  \n",
       "4         -0.000212       0.000261        0.001359          0.002828  \n",
       "...             ...            ...             ...               ...  \n",
       "1841      -0.000215       0.001707       -0.004040         -0.002439  \n",
       "1842      -0.000846      -0.003714       -0.004661          0.006674  \n",
       "1843       0.006763      -0.013597       -0.007605         -0.009775  \n",
       "1844      -0.007195       0.004891       -0.007206          0.008705  \n",
       "1845       0.002748      -0.011948       -0.020149         -0.001448  \n",
       "\n",
       "[1846 rows x 13 columns]"
      ]
     },
     "execution_count": 51,
     "metadata": {},
     "output_type": "execute_result"
    }
   ],
   "source": [
    "target"
   ]
  },
  {
   "cell_type": "code",
   "execution_count": 38,
   "id": "6d9d6513-e7f6-4e0d-b9e2-9d400f1e7ce7",
   "metadata": {},
   "outputs": [],
   "source": [
    "#path = '/Users/yutingmei/Projects/APlusBernstein-Project/data/raw/FactorTimingData-ABVU2022.xlsx'\n",
    "#target = pd.read_excel(path, sheet_name = 'target')"
   ]
  },
  {
   "cell_type": "code",
   "execution_count": 5,
   "id": "ceb6eeb8-d56e-46d1-befd-08cecb9273b0",
   "metadata": {},
   "outputs": [],
   "source": [
    "#chceck this code I think there is something wrong with s&p data\n",
    "\n",
    "# def balanced_profolio(target):\n",
    "#     #target_ = target.iloc[:, 1:4]\n",
    "#     # target = target.iloc[:, -3:]#the return values\n",
    "#     start = 100000\n",
    "#     #s_p = target.iloc[:, 4]\n",
    "#     s_p = target.iloc[:, -4]#s&p\n",
    "#     #s_p = target[\"s_&_p_500_ret\"]\n",
    "#     real = target.iloc[:, 0:3]#real values in 1 or 0\n",
    "#     compare_result = []\n",
    "#     pred = target.iloc[:,6:9]\n",
    "#     op = target.iloc[:,-3:]\n",
    "# #     long = []\n",
    "# #     short = []\n",
    "#     total_list = []\n",
    "# #     direct = []\n",
    "#     for i in range(target.shape[0]):\n",
    "#         row = op.iloc[i, :]\n",
    "#         if pred.iloc[i,:].sum() >= 2:\n",
    "#             # pred direction\n",
    "#             op_invest = 1\n",
    "#             op_s_p = -1\n",
    "#         else:\n",
    "#             op_invest = -1\n",
    "#             op_s_p = 1\n",
    "#         add = sum(list(map(lambda x: (start / 3) * (1 + op_invest * x), row)))\n",
    "#         total = (add) + ((1 + (op_s_p * s_p[i])) * start)\n",
    "#         total_list.append(total)\n",
    "#         compare_result.append((total - (start * 2)) / (start * 2))\n",
    "#         start = total / 2 \n",
    "#     return compare_result, total_list"
   ]
  },
  {
   "cell_type": "code",
   "execution_count": 6,
   "id": "76ecc79e-3ccf-4e85-867a-4d99c5cc154d",
   "metadata": {},
   "outputs": [],
   "source": [
    "# compare_result, total = balanced_profolio(target)"
   ]
  },
  {
   "cell_type": "code",
   "execution_count": 51,
   "id": "06a75f7f",
   "metadata": {},
   "outputs": [],
   "source": [
    "#pred = target.iloc[:, 6:9]\n",
    "#balanced_profolio(target, pred = target.iloc[:, 6:9])"
   ]
  },
  {
   "cell_type": "code",
   "execution_count": 58,
   "id": "102a464b",
   "metadata": {},
   "outputs": [],
   "source": [
    "#understanding s&p trend \n",
    "#this is invest in s&p and let it go for the entire time period \n",
    "#let the s&p run for the entire trend our model should do better than that \n",
    "#here its previous start*s&p and then that value is multiplied to next s&p and so on\n",
    "\n",
    "# s_p = target.iloc[:, 9]\n",
    "#s_p = s_p.iloc[1: , :]"
   ]
  },
  {
   "cell_type": "code",
   "execution_count": null,
   "id": "adf40926",
   "metadata": {},
   "outputs": [],
   "source": [
    "# start = 100000\n",
    "# value = 0\n",
    "# l = []\n",
    "# for i in s_p:\n",
    "#     start = i*start\n",
    "#     l.append(start)\n",
    "#     start == start"
   ]
  },
  {
   "cell_type": "code",
   "execution_count": 58,
   "id": "e1741d35-dee2-44ae-8efa-12a7f808bfe6",
   "metadata": {},
   "outputs": [],
   "source": [
    "def long_short_etf(target):\n",
    "    start = 100000\n",
    "    s_p = target.iloc[:, -4]#s&p\n",
    "    #s_p = target[\"s_&_p_500_ret\"]\n",
    "    # real = target.iloc[:, 0:3]#real values in 1 or 0\n",
    "    excess_return = []\n",
    "    pred = target.iloc[:,6:9]\n",
    "    op = target.iloc[:,-3:]\n",
    "    # total_list = []\n",
    "    return_list = []\n",
    "    total_list = []\n",
    "    for i in range(target.shape[0]):\n",
    "        row = op.iloc[i, :]\n",
    "        direct_pred = list(map(lambda x: -1 if x == 0 else 1, pred.iloc[i,:]))\n",
    "        add = sum(list(map(lambda x,y: (start / 3) * (1 +  y * x), row, direct_pred)))\n",
    "        # if pred.iloc[i,:].sum() >= 2:\n",
    "        #     # pred direction\n",
    "        #     op_invest = 1\n",
    "        #     op_s_p = -1\n",
    "        # else:\n",
    "        #     op_invest = -1\n",
    "        #     op_s_p = 1\n",
    "        # add = sum(list(map(lambda x: (start / 3) * (1 + op_invest * x), row)))\n",
    "        # total = (add) + ((1 + (op_s_p * s_p[i])) * start)\n",
    "        # total_list.append(total)\n",
    "        percentage = (add - start) / (start) \n",
    "        return_list.append(percentage)\n",
    "        total_list.append(add)\n",
    "        if i == target.shape[0] - 1:\n",
    "            excess_return.append(None)\n",
    "        else:\n",
    "            excess_return.append(percentage - s_p[i + 1])\n",
    "        start = add \n",
    "    return excess_return, return_list, total_list"
   ]
  },
  {
   "cell_type": "code",
   "execution_count": 59,
   "id": "d1c91ef8-d71a-4ae6-8472-02ea4531767c",
   "metadata": {},
   "outputs": [],
   "source": [
    "excess_return, return_list, total = long_short_etf(target)"
   ]
  },
  {
   "cell_type": "code",
   "execution_count": 56,
   "id": "f2fb7de1-b797-4ddf-ab65-27929d22f44d",
   "metadata": {},
   "outputs": [
    {
     "data": {
      "text/plain": [
       "[-0.0025007104558903664,\n",
       " -0.002960448947110505,\n",
       " 0.0037526262584299187,\n",
       " 0.0022685225142926027,\n",
       " -0.0004027571471250438,\n",
       " 0.0028197954507109993,\n",
       " -0.006599531958871702,\n",
       " 0.005073208418034815,\n",
       " 0.0009221859645221845,\n",
       " 0.002376905907637439]"
      ]
     },
     "execution_count": 56,
     "metadata": {},
     "output_type": "execute_result"
    }
   ],
   "source": [
    "return_list[:10]"
   ]
  },
  {
   "cell_type": "code",
   "execution_count": 57,
   "id": "58c261b8-2864-4e2c-b90b-cd52541cc32e",
   "metadata": {},
   "outputs": [
    {
     "data": {
      "text/plain": [
       "[-0.0021677373884987665,\n",
       " -0.00044866814912880495,\n",
       " -0.0023291464880024816,\n",
       " 0.0024807235285046027,\n",
       " -0.0007510583623697438,\n",
       " 0.0005131033233860991,\n",
       " 0.005976660662588598,\n",
       " -0.005744733534471884,\n",
       " -0.004244002149982216,\n",
       " 0.003724031498695439]"
      ]
     },
     "execution_count": 57,
     "metadata": {},
     "output_type": "execute_result"
    }
   ],
   "source": [
    "excess_return[:10]"
   ]
  },
  {
   "cell_type": "code",
   "execution_count": 62,
   "id": "7cb06c0b-eaf9-4a9b-9f5e-7878b0f90f98",
   "metadata": {},
   "outputs": [
    {
     "data": {
      "text/plain": [
       "99749.92895441096"
      ]
     },
     "execution_count": 62,
     "metadata": {},
     "output_type": "execute_result"
    }
   ],
   "source": [
    "total[0]"
   ]
  },
  {
   "cell_type": "code",
   "execution_count": 61,
   "id": "359b7391-af85-4674-8d8c-9113ee2b506b",
   "metadata": {},
   "outputs": [
    {
     "data": {
      "text/plain": [
       "88690.43295223032"
      ]
     },
     "execution_count": 61,
     "metadata": {},
     "output_type": "execute_result"
    }
   ],
   "source": [
    "total[-1]"
   ]
  },
  {
   "cell_type": "code",
   "execution_count": null,
   "id": "aa782fcc-7102-4764-843e-b0af403b9f36",
   "metadata": {},
   "outputs": [],
   "source": []
  }
 ],
 "metadata": {
  "kernelspec": {
   "display_name": "Python 3 (ipykernel)",
   "language": "python",
   "name": "python3"
  },
  "language_info": {
   "codemirror_mode": {
    "name": "ipython",
    "version": 3
   },
   "file_extension": ".py",
   "mimetype": "text/x-python",
   "name": "python",
   "nbconvert_exporter": "python",
   "pygments_lexer": "ipython3",
   "version": "3.9.7"
  }
 },
 "nbformat": 4,
 "nbformat_minor": 5
}
