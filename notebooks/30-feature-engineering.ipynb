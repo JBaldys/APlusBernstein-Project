{
 "cells": [
  {
   "cell_type": "markdown",
   "metadata": {},
   "source": [
    "# 30-feature-engineering\n",
    "> Generating new features for the dataset\n",
    "\n",
    "In this notebook, we generate new features to be used in the dataset.  Keep in mind that depending on the framework you're using, you may want to generate/validate code/functions here to be used as a part of a pipeline in the 40-modeling notebook."
   ]
  },
  {
   "cell_type": "markdown",
   "metadata": {},
   "source": [
    "#### Common helpful packages"
   ]
  },
  {
   "cell_type": "code",
   "execution_count": 1,
   "metadata": {},
   "outputs": [],
   "source": [
    "#Data analysis and processing\n",
    "import pandas as pd\n",
    "import numpy as np\n",
    "\n",
    "#plotting\n",
    "import matplotlib.pyplot as plt\n",
    "import seaborn as sns\n",
    "\n",
    "#Assertions and testing\n",
    "import great_expectations as ge\n",
    "\n",
    "from sklearn.preprocessing import StandardScaler\n",
    "from factor_analyzer import FactorAnalyzer\n",
    "import math\n",
    "from sklearn.decomposition import PCA\n",
    "from matplotlib import style\n",
    "import statsmodels.api as sm\n",
    "from statsmodels.stats.outliers_influence import variance_inflation_factor\n",
    "from numpy.linalg import eig\n",
    "from sklearn.model_selection import GridSearchCV\n",
    "from sklearn.linear_model import Lasso\n",
    "import scipy.stats as stats\n",
    "from scipy.stats import kendalltau\n",
    "import pymannkendall as mk"
   ]
  },
  {
   "cell_type": "code",
   "execution_count": 2,
   "metadata": {},
   "outputs": [],
   "source": [
    "import glob\n",
    "import os\n",
    "path = '/Users/yutingmei/Projects/APlusBernstein-Project/data/raw/FactorTimingData-ABVU2022.xlsx'\n",
    "path2 = '/Users/yutingmei/Projects/APlusBernstein-Project/data/processed/imputed_na_value_data.xlsx'\n",
    "raw = pd.read_excel(path, sheet_name = 'price')\n",
    "target = pd.read_excel(path, sheet_name = 'target')\n",
    "# dt is the processed data\n",
    "dt = pd.read_excel(path2)"
   ]
  },
  {
   "cell_type": "code",
   "execution_count": 74,
   "metadata": {},
   "outputs": [],
   "source": [
    "path3 = '/Users/yutingmei/Projects/APlusBernstein-Project/data/processed/df_imputed.csv'\n",
    "df_avg = pd.read_csv(path3)"
   ]
  },
  {
   "cell_type": "code",
   "execution_count": 15,
   "metadata": {},
   "outputs": [],
   "source": [
    "path4 = '/Users/yutingmei/Projects/APlusBernstein-Project/data/processed/dt_imputed_weight.csv'\n",
    "df_weight = pd.read_csv(path4)"
   ]
  },
  {
   "cell_type": "code",
   "execution_count": 3,
   "metadata": {},
   "outputs": [],
   "source": [
    "def strip_cols(df):\n",
    "    update_col = {}\n",
    "    col_all_list = df.columns.to_list()\n",
    "    strip_col = list(map(lambda x: x.strip(),col_all_list))\n",
    "    for q in range(len(col_all_list)):\n",
    "        update_col[col_all_list[q]]= strip_col[q]   \n",
    "    df.rename(columns = update_col, inplace=True)\n",
    "    return df"
   ]
  },
  {
   "cell_type": "code",
   "execution_count": 4,
   "metadata": {},
   "outputs": [],
   "source": [
    "raw = strip_cols(raw)\n",
    "raw = raw.iloc[:, 1:]"
   ]
  },
  {
   "cell_type": "code",
   "execution_count": 5,
   "metadata": {},
   "outputs": [],
   "source": [
    "sc = StandardScaler()\n",
    "#dt_r_d = pd.DataFrame(sc.fit_transform(dt), columns = dt.columns)\n",
    "raw = pd.DataFrame(sc.fit_transform(raw), columns = raw.columns)"
   ]
  },
  {
   "cell_type": "code",
   "execution_count": 73,
   "metadata": {},
   "outputs": [],
   "source": [
    "def strip_col(df):\n",
    "    update_col = {}\n",
    "    # for q in range(len(col_list)):\n",
    "    #     update_col[col_list[q]]= strip_col[q]\n",
    "\n",
    "    col_all_list = df.columns.to_list()\n",
    "    strip_col = list(map(lambda x: x.strip(),col_all_list))\n",
    "    for q in range(len(col_all_list)):\n",
    "        update_col[col_all_list[q]]= strip_col[q]\n",
    "        df.rename(columns = update_col, inplace=True)\n",
    "    return df"
   ]
  },
  {
   "cell_type": "code",
   "execution_count": 75,
   "metadata": {},
   "outputs": [],
   "source": [
    "df_avg = strip_col(df_avg)"
   ]
  },
  {
   "cell_type": "markdown",
   "metadata": {},
   "source": [
    "#### filling NA with weight strategy"
   ]
  },
  {
   "cell_type": "code",
   "execution_count": 6,
   "metadata": {},
   "outputs": [],
   "source": [
    "# handle missing values in front\n",
    "cols_r = raw.columns.to_list()\n",
    "missing_index_sum = []\n",
    "front_miss = []\n",
    "for i in cols_r:\n",
    "    missing_index = raw[raw[i].isnull()].index.tolist()\n",
    "    missing_index_sum.append(missing_index)\n",
    "    if 0 in missing_index:\n",
    "        front_miss.append(i)\n",
    "        \n",
    "na_l = list(raw.isnull().sum() * 100 / len(raw))\n",
    "na_col_list = [raw.columns.to_list()[i] for i in range(len(na_l)) if na_l[i] != 0]"
   ]
  },
  {
   "cell_type": "code",
   "execution_count": 7,
   "metadata": {},
   "outputs": [],
   "source": [
    "def get_percentage(df):\n",
    "    cols_df = df.columns.to_list()\n",
    "    percentage_change_sum = pd.DataFrame()\n",
    "    for i in cols_df:\n",
    "        percentage_change = []\n",
    "        for j in range(raw.shape[0] - 1):\n",
    "            if j == 0:\n",
    "                percentage_change.append(None)\n",
    "            else:\n",
    "                if not pd.isnull(df.loc[j + 1, i]) and not pd.isnull(df.loc[j, i]):\n",
    "                    percentage_change.append((df.loc[j + 1, i] - df.loc[j , i]) / df.loc[j , i])\n",
    "                else:\n",
    "                    percentage_change.append(None)\n",
    "        percentage_change_sum[i] = percentage_change\n",
    "    return percentage_change_sum"
   ]
  },
  {
   "cell_type": "code",
   "execution_count": 11,
   "metadata": {},
   "outputs": [],
   "source": [
    "def impute_forward(df, miss_cols):\n",
    "    corr_matrix = df.corr().abs()\n",
    "    #weight_sum_l = corr_matrix.sum() - 1\n",
    "    raw_percentage = get_percentage(df)\n",
    "    # for i in range(df.shape[1]):\n",
    "    #     corr_matrix.iloc[:, i] = corr_matrix.iloc[:, i] / weight_sum_l[i]\n",
    "    for k in miss_cols:\n",
    "        missing_l = df[df[k].isnull()].index.tolist()\n",
    "        for j in missing_l[::-1]:\n",
    "            if j < (df.shape[0] - 1) and j != 0:\n",
    "                col_index = df.columns.get_loc(k)\n",
    "                raw_percentage_minus = raw_percentage.loc[:, raw_percentage.columns != k]\n",
    "                corr_matrix_col = corr_matrix.loc[:, k]\n",
    "                corr_matrix_minus = [corr_matrix_col[i] for i in range(len(corr_matrix_col)) if i != col_index]\n",
    "                weighted = 0\n",
    "                sum_corr = 0\n",
    "                for i in range(len(corr_matrix_minus)):\n",
    "                    if not pd.isnull(raw_percentage_minus.iloc[j, i]):\n",
    "                        sum_corr += corr_matrix_minus[i]\n",
    "                for i in range(len(corr_matrix_minus)):\n",
    "                    if not pd.isnull(corr_matrix_minus[i]) and not pd.isnull(raw_percentage_minus.iloc[j, i]):\n",
    "                        weighted += (corr_matrix_minus[i] / sum_corr) * raw_percentage_minus.iloc[j, i]\n",
    "                    df[k][j] = df[k][j + 1] / (weighted + 1)\n",
    "            elif j == 0:\n",
    "                df[k][j] = df[k][j + 1] + np.random.normal()\n",
    "            elif j == df.shape[0] - 1:\n",
    "                df[k][j] = df[k][j - 1] + np.random.normal()\n",
    "    return df"
   ]
  },
  {
   "cell_type": "code",
   "execution_count": 12,
   "metadata": {},
   "outputs": [],
   "source": [
    "raw_processed = impute_forward(raw, na_col_list)"
   ]
  },
  {
   "cell_type": "code",
   "execution_count": 15,
   "metadata": {},
   "outputs": [],
   "source": [
    "na_after = list(raw_processed.isnull().sum() * 100 / len(raw_processed))\n",
    "na_after_list = [raw_processed.columns.to_list()[i] for i in range(len(na_after)) if na_after[i] != 0]"
   ]
  },
  {
   "cell_type": "code",
   "execution_count": 18,
   "metadata": {},
   "outputs": [
    {
     "data": {
      "text/plain": [
       "['Oil Vol',\n",
       " 'Ted Spread',\n",
       " 'Global Economic Policy Uncertainty',\n",
       " 'JPM Equity Sentiment']"
      ]
     },
     "execution_count": 18,
     "metadata": {},
     "output_type": "execute_result"
    }
   ],
   "source": [
    "# still have some columns with NAs\n",
    "# since it impute forward, some columns with NAs at the end still can't impute\n",
    "na_after_list"
   ]
  },
  {
   "cell_type": "code",
   "execution_count": 50,
   "metadata": {},
   "outputs": [],
   "source": [
    "# from lag plots, it showed there's no seasonality within data\n",
    "# but some might has trend\n",
    "# do Kendall’s Tau test about whether there's trend within columns with NAs\n",
    "# linear interpolation: data with trend\n",
    "# median imputation: data without trend\n",
    "\n",
    "for i in na_after_list:\n",
    "    check_trend = list(mk.original_test(raw_processed[i]))\n",
    "    if check_trend[1] == True:\n",
    "        raw_processed[i] = raw_processed[i].interpolate()\n",
    "    else:\n",
    "        raw_processed[i].fillna(raw_processed[i].median(), inplace = True)"
   ]
  },
  {
   "cell_type": "code",
   "execution_count": 54,
   "metadata": {},
   "outputs": [
    {
     "data": {
      "text/plain": [
       "True"
      ]
     },
     "execution_count": 54,
     "metadata": {},
     "output_type": "execute_result"
    }
   ],
   "source": [
    "na_check = list(raw_processed.isnull().sum() * 100 / len(raw_processed))\n",
    "# check if still have NAs, if no, should be True\n",
    "len([i for i in na_check if i == 0]) == raw_processed.shape[1]"
   ]
  },
  {
   "cell_type": "code",
   "execution_count": 56,
   "metadata": {},
   "outputs": [],
   "source": [
    "path_g = '/Users/yutingmei/Projects/APlusBernstein-Project/data/processed/'\n",
    "raw_processed.to_csv(path_g + 'dt_imputed_weight.csv', index = False)"
   ]
  },
  {
   "cell_type": "markdown",
   "metadata": {},
   "source": [
    "## feature selection"
   ]
  },
  {
   "cell_type": "markdown",
   "metadata": {},
   "source": [
    "* deal with missing values"
   ]
  },
  {
   "cell_type": "code",
   "execution_count": 62,
   "metadata": {},
   "outputs": [],
   "source": [
    "na_l = list(raw.isnull().sum() * 100 / len(raw))"
   ]
  },
  {
   "cell_type": "code",
   "execution_count": 63,
   "metadata": {},
   "outputs": [],
   "source": [
    "filter_na = [i for i in range(len(raw.columns)) if na_l[i] == 0]\n",
    "less_50 = [i for i in range(len(raw.columns)) if na_l[i] <= 50 and na_l[i] != 0]\n",
    "equal90 = [i for i in range(len(raw.columns)) if na_l[i] >= 90]"
   ]
  },
  {
   "cell_type": "code",
   "execution_count": 21,
   "metadata": {},
   "outputs": [
    {
     "data": {
      "text/plain": [
       "[80, 81, 82, 83, 84, 85, 86, 88, 89, 90, 91, 92]"
      ]
     },
     "execution_count": 21,
     "metadata": {},
     "output_type": "execute_result"
    }
   ],
   "source": [
    "# remove them first\n",
    "equal90"
   ]
  },
  {
   "cell_type": "code",
   "execution_count": 22,
   "metadata": {},
   "outputs": [],
   "source": [
    "with_na = list(set([i for i in range(len(raw.columns))]) - set(filter_na))"
   ]
  },
  {
   "cell_type": "code",
   "execution_count": 16,
   "metadata": {},
   "outputs": [],
   "source": [
    "sum = {}\n",
    "for i in with_na:\n",
    "    sum[[j.strip() for j in dt.columns.tolist()][i]] = na_l[i]\n",
    "    \n",
    "sum_50 = {}\n",
    "for i in less_50:\n",
    "    sum_50[[j.strip() for j in dt.columns.tolist()][i]] = na_l[i]\n",
    "    "
   ]
  },
  {
   "cell_type": "code",
   "execution_count": 4,
   "metadata": {},
   "outputs": [],
   "source": [
    "# drop the features with high missing values proportions\n",
    "#need_to_drop = [dt.columns.to_list()[i] for i in equal90]\n",
    "#dt_r = dt.drop(need_to_drop, axis = 1)\n",
    "#dt_r_d = dt_r.iloc[:,1:]\n",
    "sc = StandardScaler()\n",
    "dt_r_d = pd.DataFrame(sc.fit_transform(dt), columns = dt.columns)"
   ]
  },
  {
   "cell_type": "markdown",
   "metadata": {},
   "source": [
    "##### issue with multicollinearity( with data filled with NA by simple method)"
   ]
  },
  {
   "cell_type": "markdown",
   "metadata": {},
   "source": [
    "* correlation coefficient "
   ]
  },
  {
   "cell_type": "code",
   "execution_count": 25,
   "metadata": {},
   "outputs": [
    {
     "data": {
      "text/plain": [
       "<seaborn.matrix.ClusterGrid at 0x7fc84996b730>"
      ]
     },
     "execution_count": 25,
     "metadata": {},
     "output_type": "execute_result"
    },
    {
     "data": {
      "image/png": "[encoded data removed]",
      "text/plain": [
       "<Figure size 720x720 with 4 Axes>"
      ]
     },
     "metadata": {
      "needs_background": "light"
     },
     "output_type": "display_data"
    }
   ],
   "source": [
    "# rough look\n",
    "# > 0.7 can be seen as threshold\n",
    "sns.clustermap(dt_r_d[list(map(lambda x: x.strip(), dt_r_d.columns.tolist()))].corr().abs())"
   ]
  },
  {
   "cell_type": "code",
   "execution_count": 26,
   "metadata": {},
   "outputs": [],
   "source": [
    "# add y\n",
    "#dt_r_d[target.columns.to_list()[-3:]] = target.iloc[:,-3:]"
   ]
  },
  {
   "cell_type": "markdown",
   "metadata": {},
   "source": [
    "### Deal with multicolinearity"
   ]
  },
  {
   "cell_type": "markdown",
   "metadata": {},
   "source": [
    "#### tolerrant method: lasso"
   ]
  },
  {
   "cell_type": "markdown",
   "metadata": {},
   "source": [
    "_result compare_: the first edition, weight edition, average edition"
   ]
  },
  {
   "cell_type": "code",
   "execution_count": 58,
   "metadata": {},
   "outputs": [],
   "source": [
    "lasso = Lasso()\n",
    "alpha_range = np.linspace(0.001,0.01, num=100)\n",
    "params = {'alpha':alpha_range}\n",
    "# scoring = ?\n",
    "lassoreg = GridSearchCV(lasso, params, cv = 10)"
   ]
  },
  {
   "cell_type": "code",
   "execution_count": 48,
   "metadata": {},
   "outputs": [],
   "source": [
    "def get_lasso(df, target):\n",
    "    coef_sum = []\n",
    "    if df.shape[0] == 5306:\n",
    "        df = df.iloc[1:-1,:]\n",
    "    for i in range(3, 0, -1):\n",
    "        lassoreg.fit(df, target.iloc[:,-i])\n",
    "        clf = Lasso(alpha=lassoreg.best_params_['alpha'])\n",
    "        clf.fit(df, target.iloc[:,-i])\n",
    "        print(lassoreg.best_params_)\n",
    "        index = [i for i in range(len(list(clf.coef_))) if list(clf.coef_)[i] != 0]\n",
    "        coef_sum.append(index)\n",
    "    return coef_sum"
   ]
  },
  {
   "cell_type": "markdown",
   "metadata": {},
   "source": [
    "- the first edition"
   ]
  },
  {
   "cell_type": "code",
   "execution_count": 7,
   "metadata": {},
   "outputs": [
    {
     "data": {
      "text/plain": [
       "[[21, 26, 59, 75, 79, 89, 94],\n",
       " [1, 13, 14, 15, 23, 36, 40, 79, 84, 85, 91],\n",
       " [0, 1, 11, 15, 28, 40, 46, 64, 76, 77, 81, 85, 91, 99, 101, 109]]"
      ]
     },
     "execution_count": 7,
     "metadata": {},
     "output_type": "execute_result"
    }
   ],
   "source": [
    "# the index of features for three models\n",
    "# result with the first edition of NA imputation\n",
    "coef_sum"
   ]
  },
  {
   "cell_type": "code",
   "execution_count": 8,
   "metadata": {},
   "outputs": [
    {
     "data": {
      "text/plain": [
       "[[21                           WTI Crude Oil\n",
       "  26                    iTraxx Crossover 5Yr\n",
       "  59                       EquityBond premia\n",
       "  75           EM Economic Activity Surprise\n",
       "  79        Citi US Inflation Surprise Index\n",
       "  89    Conference Board Consumer Confidence\n",
       "  94                                     IWM\n",
       "  dtype: object],\n",
       " [1                                   V2X\n",
       "  13                          S&P 500 VRP\n",
       "  14                         S&P 500 Skew\n",
       "  15                 EURUSD Risk Reversal\n",
       "  23                                 Gold\n",
       "  36                       US 10Y over 3M\n",
       "  40                        GTGBP3MO Corp\n",
       "  79     Citi US Inflation Surprise Index\n",
       "  84       EU Economic Policy Uncertainty\n",
       "  85    China Economic Policy Uncertainty\n",
       "  91               EU Consumer Confidence\n",
       "  dtype: object],\n",
       " [0                                    VIX\n",
       "  1                                    V2X\n",
       "  11                         USDJPY 1M Vol\n",
       "  15                  EURUSD Risk Reversal\n",
       "  28                            CDX HY 5Yr\n",
       "  40                         GTGBP3MO Corp\n",
       "  46                         GTITL3MO Corp\n",
       "  64            JPM EMBI+ Sovereign Spread\n",
       "  76         US Economic Activity Surprise\n",
       "  77      China Economic Activity Surprise\n",
       "  81           US Trade Policy Uncertainty\n",
       "  85     China Economic Policy Uncertainty\n",
       "  91                EU Consumer Confidence\n",
       "  99                  USDJPY ATM Vol 1Y-3M\n",
       "  101                G10 Carry Trade Index\n",
       "  109                  Copper 1 year carry\n",
       "  dtype: object]]"
      ]
     },
     "execution_count": 8,
     "metadata": {},
     "output_type": "execute_result"
    }
   ],
   "source": [
    "# print name of columns\n",
    "# result with the first edition of NA imputation\n",
    "[[pd.Series(dt_r_d.columns.to_list())[i]] for i in coef_sum]"
   ]
  },
  {
   "cell_type": "markdown",
   "metadata": {},
   "source": [
    "- weight edition"
   ]
  },
  {
   "cell_type": "code",
   "execution_count": 93,
   "metadata": {},
   "outputs": [],
   "source": [
    "lasso = Lasso()\n",
    "alpha_range = np.linspace(0.01,0.25, num=150)\n",
    "params = {'alpha':alpha_range}\n",
    "# scoring = ?\n",
    "lassoreg = GridSearchCV(lasso, params, cv = 10)"
   ]
  },
  {
   "cell_type": "code",
   "execution_count": 94,
   "metadata": {},
   "outputs": [
    {
     "name": "stdout",
     "output_type": "stream",
     "text": [
      "{'alpha': 0.018053691275167785}\n",
      "{'alpha': 0.25}\n",
      "{'alpha': 0.16624161073825502}\n"
     ]
    },
    {
     "data": {
      "text/plain": [
       "[[2,\n",
       "  4,\n",
       "  8,\n",
       "  16,\n",
       "  17,\n",
       "  25,\n",
       "  26,\n",
       "  27,\n",
       "  28,\n",
       "  31,\n",
       "  40,\n",
       "  44,\n",
       "  46,\n",
       "  53,\n",
       "  55,\n",
       "  56,\n",
       "  57,\n",
       "  58,\n",
       "  65,\n",
       "  66,\n",
       "  67,\n",
       "  68,\n",
       "  77,\n",
       "  78,\n",
       "  79,\n",
       "  80,\n",
       "  81,\n",
       "  82,\n",
       "  83,\n",
       "  84,\n",
       "  85,\n",
       "  86,\n",
       "  87,\n",
       "  88,\n",
       "  89,\n",
       "  90,\n",
       "  91,\n",
       "  95,\n",
       "  109],\n",
       " [2,\n",
       "  4,\n",
       "  17,\n",
       "  26,\n",
       "  27,\n",
       "  28,\n",
       "  31,\n",
       "  40,\n",
       "  44,\n",
       "  55,\n",
       "  56,\n",
       "  57,\n",
       "  58,\n",
       "  65,\n",
       "  66,\n",
       "  67,\n",
       "  68,\n",
       "  77,\n",
       "  78,\n",
       "  82,\n",
       "  83,\n",
       "  84,\n",
       "  85,\n",
       "  86,\n",
       "  90,\n",
       "  95,\n",
       "  109],\n",
       " [2,\n",
       "  4,\n",
       "  26,\n",
       "  27,\n",
       "  28,\n",
       "  31,\n",
       "  40,\n",
       "  44,\n",
       "  55,\n",
       "  56,\n",
       "  57,\n",
       "  58,\n",
       "  65,\n",
       "  66,\n",
       "  67,\n",
       "  68,\n",
       "  77,\n",
       "  78,\n",
       "  80,\n",
       "  82,\n",
       "  83,\n",
       "  84,\n",
       "  86,\n",
       "  90,\n",
       "  91,\n",
       "  95,\n",
       "  109]]"
      ]
     },
     "execution_count": 94,
     "metadata": {},
     "output_type": "execute_result"
    }
   ],
   "source": [
    "# the index of features for three models\n",
    "# result with the weight edition of NA imputation\n",
    "coef_sum_2 = get_lasso(raw_processed)\n",
    "coef_sum_2"
   ]
  },
  {
   "cell_type": "code",
   "execution_count": 95,
   "metadata": {},
   "outputs": [
    {
     "data": {
      "text/plain": [
       "[[2                                    MSCI EM Vol\n",
       "  4                                        Oil Vol\n",
       "  8                                  JPM G7 FX Vol\n",
       "  16                          USDJPY Risk Reversal\n",
       "  17                          EURJPY Risk Reversal\n",
       "  25                             iTraxx Europe 5Yr\n",
       "  26                          iTraxx Crossover 5Yr\n",
       "  27                                    CDX IG 5Yr\n",
       "  28                                    CDX HY 5Yr\n",
       "  31                                           JPY\n",
       "  40                                 GTGBP3MO Corp\n",
       "  44                                 GTDEM3MO Corp\n",
       "  46                                 GTITL3MO Corp\n",
       "  53                                     GDP Libor\n",
       "  55                     S&P 500 Price-to-Earnings\n",
       "  56                                           P/B\n",
       "  57                  US Value P/E over Growth P/E\n",
       "  58                  US Value P/B over Growth P/B\n",
       "  65                              US IG CDS spread\n",
       "  66                              US HY CDS spread\n",
       "  67                      US HY over IG CDS spread\n",
       "  68                              EU IG CDS spread\n",
       "  77              China Economic Activity Surprise\n",
       "  78            US Recession Probability in 1 year\n",
       "  79              Citi US Inflation Surprise Index\n",
       "  80            Global Economic Policy Uncertainty\n",
       "  81                   US Trade Policy Uncertainty\n",
       "  82                US Monetary Policy Uncertainty\n",
       "  83                US Economic Policy Uncertainty\n",
       "  84                EU Economic Policy Uncertainty\n",
       "  85             China Economic Policy Uncertainty\n",
       "  86                          JPM Equity Sentiment\n",
       "  87                            US ISM Service PMI\n",
       "  88                      US ISM Manufacturing PMI\n",
       "  89          Conference Board Consumer Confidence\n",
       "  90     University of Michigan Consumer Sentiment\n",
       "  91                        EU Consumer Confidence\n",
       "  95            MSCI USA High Dividend Yield Index\n",
       "  109                          Copper 1 year carry\n",
       "  dtype: object],\n",
       " [2                                    MSCI EM Vol\n",
       "  4                                        Oil Vol\n",
       "  17                          EURJPY Risk Reversal\n",
       "  26                          iTraxx Crossover 5Yr\n",
       "  27                                    CDX IG 5Yr\n",
       "  28                                    CDX HY 5Yr\n",
       "  31                                           JPY\n",
       "  40                                 GTGBP3MO Corp\n",
       "  44                                 GTDEM3MO Corp\n",
       "  55                     S&P 500 Price-to-Earnings\n",
       "  56                                           P/B\n",
       "  57                  US Value P/E over Growth P/E\n",
       "  58                  US Value P/B over Growth P/B\n",
       "  65                              US IG CDS spread\n",
       "  66                              US HY CDS spread\n",
       "  67                      US HY over IG CDS spread\n",
       "  68                              EU IG CDS spread\n",
       "  77              China Economic Activity Surprise\n",
       "  78            US Recession Probability in 1 year\n",
       "  82                US Monetary Policy Uncertainty\n",
       "  83                US Economic Policy Uncertainty\n",
       "  84                EU Economic Policy Uncertainty\n",
       "  85             China Economic Policy Uncertainty\n",
       "  86                          JPM Equity Sentiment\n",
       "  90     University of Michigan Consumer Sentiment\n",
       "  95            MSCI USA High Dividend Yield Index\n",
       "  109                          Copper 1 year carry\n",
       "  dtype: object],\n",
       " [2                                    MSCI EM Vol\n",
       "  4                                        Oil Vol\n",
       "  26                          iTraxx Crossover 5Yr\n",
       "  27                                    CDX IG 5Yr\n",
       "  28                                    CDX HY 5Yr\n",
       "  31                                           JPY\n",
       "  40                                 GTGBP3MO Corp\n",
       "  44                                 GTDEM3MO Corp\n",
       "  55                     S&P 500 Price-to-Earnings\n",
       "  56                                           P/B\n",
       "  57                  US Value P/E over Growth P/E\n",
       "  58                  US Value P/B over Growth P/B\n",
       "  65                              US IG CDS spread\n",
       "  66                              US HY CDS spread\n",
       "  67                      US HY over IG CDS spread\n",
       "  68                              EU IG CDS spread\n",
       "  77              China Economic Activity Surprise\n",
       "  78            US Recession Probability in 1 year\n",
       "  80            Global Economic Policy Uncertainty\n",
       "  82                US Monetary Policy Uncertainty\n",
       "  83                US Economic Policy Uncertainty\n",
       "  84                EU Economic Policy Uncertainty\n",
       "  86                          JPM Equity Sentiment\n",
       "  90     University of Michigan Consumer Sentiment\n",
       "  91                        EU Consumer Confidence\n",
       "  95            MSCI USA High Dividend Yield Index\n",
       "  109                          Copper 1 year carry\n",
       "  dtype: object]]"
      ]
     },
     "execution_count": 95,
     "metadata": {},
     "output_type": "execute_result"
    }
   ],
   "source": [
    "# print name of columns\n",
    "# result with the weight edition of NA imputation\n",
    "[[pd.Series(raw_processed.columns.to_list())[i]] for i in coef_sum_2]"
   ]
  },
  {
   "cell_type": "markdown",
   "metadata": {},
   "source": [
    "#### variance inflation factor"
   ]
  },
  {
   "cell_type": "markdown",
   "metadata": {},
   "source": [
    "_result compare_: the first edition, weight edition, average edition"
   ]
  },
  {
   "cell_type": "markdown",
   "metadata": {},
   "source": [
    "- the first edition"
   ]
  },
  {
   "cell_type": "code",
   "execution_count": 72,
   "metadata": {},
   "outputs": [],
   "source": [
    "# a measure of the amount of multicollinearity in a set of multiple regression variables\n",
    "# only be implemented after filling NA\n",
    "# more than 5 ~ 15( don't know exact threshold ) can be seen as high, then can be removed\n",
    "# can also be seen as method for testing if still have multicolinearity\n",
    "\n",
    "def vif(coef, df):\n",
    "    f_info = pd.DataFrame()\n",
    "    f_info['variance_inflation_factor'] = [variance_inflation_factor(df.iloc[:, coef].values, i) for i in range(df.iloc[:, coef].shape[1])]\n",
    "    f_info['Column'] = df.iloc[:, coef].columns\n",
    "    f_info.sort_values('variance_inflation_factor', ascending=False)\n",
    "    return f_info"
   ]
  },
  {
   "cell_type": "code",
   "execution_count": 12,
   "metadata": {},
   "outputs": [
    {
     "name": "stdout",
     "output_type": "stream",
     "text": [
      "1. vif:\n",
      "   variance_inflation_factor                                Column\n",
      "0                   1.671168                         WTI Crude Oil\n",
      "1                   7.761000                  iTraxx Crossover 5Yr\n",
      "2                   3.073055                     EquityBond premia\n",
      "3                   1.052805         EM Economic Activity Surprise\n",
      "4                   1.288013      Citi US Inflation Surprise Index\n",
      "5                   2.573111  Conference Board Consumer Confidence\n",
      "6                   6.821109                                   IWM\n",
      "**********************************************************************\n",
      "2. vif:\n",
      "    variance_inflation_factor                             Column\n",
      "0                    2.108380                                V2X\n",
      "1                    2.143130                        S&P 500 VRP\n",
      "2                    1.966768                       S&P 500 Skew\n",
      "3                    1.819018               EURUSD Risk Reversal\n",
      "4                    4.126071                               Gold\n",
      "5                    1.915998                     US 10Y over 3M\n",
      "6                    1.231790                      GTGBP3MO Corp\n",
      "7                    1.297982   Citi US Inflation Surprise Index\n",
      "8                    2.750436     EU Economic Policy Uncertainty\n",
      "9                    3.288605  China Economic Policy Uncertainty\n",
      "10                   1.861387             EU Consumer Confidence\n",
      "**********************************************************************\n",
      "3. vif:\n",
      "    variance_inflation_factor                             Column\n",
      "0                    9.208258                                VIX\n",
      "1                    7.779333                                V2X\n",
      "2                    6.057987                      USDJPY 1M Vol\n",
      "3                    2.145081               EURUSD Risk Reversal\n",
      "4                   11.930735                         CDX HY 5Yr\n",
      "5                    2.575160                      GTGBP3MO Corp\n",
      "6                    3.550341                      GTITL3MO Corp\n",
      "7                    2.279813         JPM EMBI+ Sovereign Spread\n",
      "8                    1.096237      US Economic Activity Surprise\n",
      "9                    1.085862   China Economic Activity Surprise\n",
      "10                   2.811846        US Trade Policy Uncertainty\n",
      "11                   5.580710  China Economic Policy Uncertainty\n",
      "12                   2.363838             EU Consumer Confidence\n",
      "13                   6.186102               USDJPY ATM Vol 1Y-3M\n",
      "14                  12.209223              G10 Carry Trade Index\n",
      "15                   1.373686                Copper 1 year carry\n",
      "**********************************************************************\n"
     ]
    }
   ],
   "source": [
    "# test multicollinearity from lasso\n",
    "# some still have high vif, need to be removed\n",
    "# result with the first edition of NA imputation\n",
    "for i in range(3):\n",
    "    print(f\"{i + 1}\"'. vif:')\n",
    "    print(vif(coef_sum[i]))\n",
    "    print('*'* 70)"
   ]
  },
  {
   "cell_type": "code",
   "execution_count": 67,
   "metadata": {},
   "outputs": [],
   "source": [
    "rv_list = [[1], [], [0, 4, 13, 14]]\n",
    "#rv_valuel = list(map(lambda x,y: list(np.array(x)[y]), coef_sum, rv_list))\n",
    "coef_sum_rv = list(map(lambda x,y: list(np.array(x)[list(set(range(len(x))) - set(y))]), coef_sum, rv_list))"
   ]
  },
  {
   "cell_type": "code",
   "execution_count": 68,
   "metadata": {},
   "outputs": [
    {
     "name": "stdout",
     "output_type": "stream",
     "text": [
      "1. vif:\n",
      "   variance_inflation_factor                                Column\n",
      "0                   1.558173                         WTI Crude Oil\n",
      "1                   2.572637                     EquityBond premia\n",
      "2                   1.046345         EM Economic Activity Surprise\n",
      "3                   1.242535      Citi US Inflation Surprise Index\n",
      "4                   2.532893  Conference Board Consumer Confidence\n",
      "5                   2.178781                                   IWM\n",
      "**********************************************************************\n",
      "2. vif:\n",
      "    variance_inflation_factor                             Column\n",
      "0                    2.108380                                V2X\n",
      "1                    2.143130                        S&P 500 VRP\n",
      "2                    1.966768                       S&P 500 Skew\n",
      "3                    1.819018               EURUSD Risk Reversal\n",
      "4                    4.126071                               Gold\n",
      "5                    1.915998                     US 10Y over 3M\n",
      "6                    1.231790                      GTGBP3MO Corp\n",
      "7                    1.297982   Citi US Inflation Surprise Index\n",
      "8                    2.750436     EU Economic Policy Uncertainty\n",
      "9                    3.288605  China Economic Policy Uncertainty\n",
      "10                   1.861387             EU Consumer Confidence\n",
      "**********************************************************************\n",
      "3. vif:\n",
      "    variance_inflation_factor                             Column\n",
      "0                    1.808940                                V2X\n",
      "1                    2.326681                      USDJPY 1M Vol\n",
      "2                    1.183386               EURUSD Risk Reversal\n",
      "3                    1.899764                      GTGBP3MO Corp\n",
      "4                    2.124245                      GTITL3MO Corp\n",
      "5                    1.624243         JPM EMBI+ Sovereign Spread\n",
      "6                    1.088549      US Economic Activity Surprise\n",
      "7                    1.078933   China Economic Activity Surprise\n",
      "8                    2.707961        US Trade Policy Uncertainty\n",
      "9                    3.674289  China Economic Policy Uncertainty\n",
      "10                   1.679443             EU Consumer Confidence\n",
      "11                   1.293510                Copper 1 year carry\n",
      "**********************************************************************\n"
     ]
    }
   ],
   "source": [
    "# test again\n",
    "for i in range(3):\n",
    "    print(f\"{i + 1}\"'. vif:')\n",
    "    print(vif(coef_sum_rv[i]))\n",
    "    print('*'* 70)"
   ]
  },
  {
   "cell_type": "code",
   "execution_count": 74,
   "metadata": {},
   "outputs": [],
   "source": [
    "path_g = '/Users/yutingmei/Projects/APlusBernstein-Project/data/processed/'\n",
    "for i in range(3):\n",
    "    dt_r_d.iloc[:, coef_sum_rv[i]].to_csv(path_g + 'dt_processed_corr_' + str(i), index = False)"
   ]
  },
  {
   "cell_type": "markdown",
   "metadata": {},
   "source": [
    "* the weight edition"
   ]
  },
  {
   "cell_type": "code",
   "execution_count": 96,
   "metadata": {},
   "outputs": [
    {
     "name": "stdout",
     "output_type": "stream",
     "text": [
      "1. vif:\n",
      "    variance_inflation_factor                                     Column\n",
      "0                    1.139993                                MSCI EM Vol\n",
      "1                    1.274653                                    Oil Vol\n",
      "2                    1.192796                              JPM G7 FX Vol\n",
      "3                   60.576722                       USDJPY Risk Reversal\n",
      "4                   35.381435                       EURJPY Risk Reversal\n",
      "5                 6573.620702                          iTraxx Europe 5Yr\n",
      "6                 5177.812970                       iTraxx Crossover 5Yr\n",
      "7                11443.427669                                 CDX IG 5Yr\n",
      "8                20293.818594                                 CDX HY 5Yr\n",
      "9                    4.208751                                        JPY\n",
      "10                   1.457663                              GTGBP3MO Corp\n",
      "11                   7.777589                              GTDEM3MO Corp\n",
      "12                  11.340515                              GTITL3MO Corp\n",
      "13                   1.001776                                  GDP Libor\n",
      "14                 872.418965                  S&P 500 Price-to-Earnings\n",
      "15                 872.370937                                        P/B\n",
      "16                  91.753581               US Value P/E over Growth P/E\n",
      "17                 537.012299               US Value P/B over Growth P/B\n",
      "18                 830.284561                           US IG CDS spread\n",
      "19                  67.283510                           US HY CDS spread\n",
      "20                  76.945734                   US HY over IG CDS spread\n",
      "21                2642.256006                           EU IG CDS spread\n",
      "22                   1.107288           China Economic Activity Surprise\n",
      "23                   1.507875         US Recession Probability in 1 year\n",
      "24                   1.769653           Citi US Inflation Surprise Index\n",
      "25                   1.186955         Global Economic Policy Uncertainty\n",
      "26                   1.191044                US Trade Policy Uncertainty\n",
      "27                   1.900390             US Monetary Policy Uncertainty\n",
      "28                   1.031535             US Economic Policy Uncertainty\n",
      "29                   1.048233             EU Economic Policy Uncertainty\n",
      "30                   1.767575          China Economic Policy Uncertainty\n",
      "31                  58.057413                       JPM Equity Sentiment\n",
      "32                   5.289978                         US ISM Service PMI\n",
      "33                   6.178911                   US ISM Manufacturing PMI\n",
      "34                   1.344864       Conference Board Consumer Confidence\n",
      "35                  11.501754  University of Michigan Consumer Sentiment\n",
      "36                   9.265877                     EU Consumer Confidence\n",
      "37                2021.706276         MSCI USA High Dividend Yield Index\n",
      "38                 251.573873                        Copper 1 year carry\n",
      "**********************************************************************\n",
      "2. vif:\n",
      "    variance_inflation_factor                                     Column\n",
      "0                    1.034631                                MSCI EM Vol\n",
      "1                    1.249141                                    Oil Vol\n",
      "2                   28.806045                       EURJPY Risk Reversal\n",
      "3                 4777.821880                       iTraxx Crossover 5Yr\n",
      "4                11247.832477                                 CDX IG 5Yr\n",
      "5                18379.551212                                 CDX HY 5Yr\n",
      "6                    2.900932                                        JPY\n",
      "7                    1.180626                              GTGBP3MO Corp\n",
      "8                    2.915285                              GTDEM3MO Corp\n",
      "9                  765.404876                  S&P 500 Price-to-Earnings\n",
      "10                 625.811111                                        P/B\n",
      "11                  91.397127               US Value P/E over Growth P/E\n",
      "12                 529.387886               US Value P/B over Growth P/B\n",
      "13                 634.248300                           US IG CDS spread\n",
      "14                  66.631824                           US HY CDS spread\n",
      "15                  76.524007                   US HY over IG CDS spread\n",
      "16                2387.102074                           EU IG CDS spread\n",
      "17                   1.105150           China Economic Activity Surprise\n",
      "18                   1.404819         US Recession Probability in 1 year\n",
      "19                   1.692369             US Monetary Policy Uncertainty\n",
      "20                   1.006233             US Economic Policy Uncertainty\n",
      "21                   1.022585             EU Economic Policy Uncertainty\n",
      "22                   1.671490          China Economic Policy Uncertainty\n",
      "23                  28.863022                       JPM Equity Sentiment\n",
      "24                   2.766757  University of Michigan Consumer Sentiment\n",
      "25                1877.943822         MSCI USA High Dividend Yield Index\n",
      "26                 242.639755                        Copper 1 year carry\n",
      "**********************************************************************\n",
      "3. vif:\n",
      "    variance_inflation_factor                                     Column\n",
      "0                    1.034611                                MSCI EM Vol\n",
      "1                    1.249109                                    Oil Vol\n",
      "2                 4778.625787                       iTraxx Crossover 5Yr\n",
      "3                11252.210779                                 CDX IG 5Yr\n",
      "4                18388.157929                                 CDX HY 5Yr\n",
      "5                    2.900911                                        JPY\n",
      "6                    1.180621                              GTGBP3MO Corp\n",
      "7                    2.915145                              GTDEM3MO Corp\n",
      "8                  766.797563                  S&P 500 Price-to-Earnings\n",
      "9                  626.031566                                        P/B\n",
      "10                  91.578561               US Value P/E over Growth P/E\n",
      "11                 529.836093               US Value P/B over Growth P/B\n",
      "12                 635.246307                           US IG CDS spread\n",
      "13                  66.708973                           US HY CDS spread\n",
      "14                  76.541229                   US HY over IG CDS spread\n",
      "15                2397.769275                           EU IG CDS spread\n",
      "16                   1.104807           China Economic Activity Surprise\n",
      "17                   1.404949         US Recession Probability in 1 year\n",
      "18                   1.035353         Global Economic Policy Uncertainty\n",
      "19                   1.053796             US Monetary Policy Uncertainty\n",
      "20                   1.002632             US Economic Policy Uncertainty\n",
      "21                   1.016769             EU Economic Policy Uncertainty\n",
      "22                   1.219139                       JPM Equity Sentiment\n",
      "23                  10.884928  University of Michigan Consumer Sentiment\n",
      "24                   9.174324                     EU Consumer Confidence\n",
      "25                1879.240257         MSCI USA High Dividend Yield Index\n",
      "26                 244.418275                        Copper 1 year carry\n",
      "**********************************************************************\n"
     ]
    }
   ],
   "source": [
    "# terrible\n",
    "for i in range(3):\n",
    "    print(f\"{i + 1}\"'. vif:')\n",
    "    print(vif(coef_sum_2[i], raw_processed))\n",
    "    print('*'* 70)"
   ]
  },
  {
   "cell_type": "code",
   "execution_count": 97,
   "metadata": {},
   "outputs": [],
   "source": [
    "rv_list_2 = [list(range(3, 10)) +[11, 12, 31, 33]+ list(range(14, 22))+ list(range(35, 39)), \n",
    "             list(range(2, 6)) + list(range(9, 17)) + [23, 25, 26], \n",
    "             list(range(2, 5)) + list(range(8, 16)) + list(range(23, 27))]\n",
    "coef_sum_rv_2 = list(map(lambda x,y: list(np.array(x)[list(set(range(len(x))) - set(y))]), coef_sum_2, rv_list_2))"
   ]
  },
  {
   "cell_type": "code",
   "execution_count": 98,
   "metadata": {},
   "outputs": [
    {
     "name": "stdout",
     "output_type": "stream",
     "text": [
      "1. vif:\n",
      "    variance_inflation_factor                                Column\n",
      "0                    1.091968                           MSCI EM Vol\n",
      "1                    1.015478                               Oil Vol\n",
      "2                    1.142778                         JPM G7 FX Vol\n",
      "3                    1.579551                    US ISM Service PMI\n",
      "4                    1.090743  Conference Board Consumer Confidence\n",
      "5                    1.017547                         GTGBP3MO Corp\n",
      "6                    1.000800                             GDP Libor\n",
      "7                    1.006229      China Economic Activity Surprise\n",
      "8                    1.017572    US Recession Probability in 1 year\n",
      "9                    1.553123      Citi US Inflation Surprise Index\n",
      "10                   1.181141    Global Economic Policy Uncertainty\n",
      "11                   1.162875           US Trade Policy Uncertainty\n",
      "12                   1.816566        US Monetary Policy Uncertainty\n",
      "13                   1.010513        US Economic Policy Uncertainty\n",
      "14                   1.044446        EU Economic Policy Uncertainty\n",
      "15                   1.702491     China Economic Policy Uncertainty\n",
      "**********************************************************************\n",
      "2. vif:\n",
      "    variance_inflation_factor                                     Column\n",
      "0                    1.004427                                MSCI EM Vol\n",
      "1                    1.012392                                    Oil Vol\n",
      "2                    2.900817                                        JPY\n",
      "3                    1.180589                              GTGBP3MO Corp\n",
      "4                    2.914826                              GTDEM3MO Corp\n",
      "5                    1.102679           China Economic Activity Surprise\n",
      "6                    1.006051         US Recession Probability in 1 year\n",
      "7                    1.691765             US Monetary Policy Uncertainty\n",
      "8                    1.005468             US Economic Policy Uncertainty\n",
      "9                    1.022435             EU Economic Policy Uncertainty\n",
      "10                   1.671039          China Economic Policy Uncertainty\n",
      "11                   1.004769  University of Michigan Consumer Sentiment\n",
      "**********************************************************************\n",
      "3. vif:\n",
      "    variance_inflation_factor                              Column\n",
      "0                    1.004132                         MSCI EM Vol\n",
      "1                    1.008005                             Oil Vol\n",
      "2                    2.900787                                 JPY\n",
      "3                    1.180588                       GTGBP3MO Corp\n",
      "4                    2.914816                       GTDEM3MO Corp\n",
      "5                    1.102701    China Economic Activity Surprise\n",
      "6                    1.006038  US Recession Probability in 1 year\n",
      "7                    1.033944  Global Economic Policy Uncertainty\n",
      "8                    1.050018      US Monetary Policy Uncertainty\n",
      "9                    1.001438      US Economic Policy Uncertainty\n",
      "10                   1.016641      EU Economic Policy Uncertainty\n",
      "11                   1.000028                JPM Equity Sentiment\n",
      "**********************************************************************\n"
     ]
    }
   ],
   "source": [
    "# test\n",
    "# still need to remove some\n",
    "for i in range(3):\n",
    "    print(f\"{i + 1}\"'. vif:')\n",
    "    print(vif(coef_sum_rv_2[i], raw_processed))\n",
    "    print('*'* 70)"
   ]
  },
  {
   "cell_type": "code",
   "execution_count": 99,
   "metadata": {},
   "outputs": [],
   "source": [
    "path_g = '/Users/yutingmei/Projects/APlusBernstein-Project/data/processed/'\n",
    "for i in range(3):\n",
    "    raw_processed.iloc[:, coef_sum_rv_2[i]].to_csv(path_g + 'dt_processed_weight_' + str(i), index = False)"
   ]
  },
  {
   "cell_type": "markdown",
   "metadata": {},
   "source": [
    "## Dimension reduction"
   ]
  },
  {
   "cell_type": "code",
   "execution_count": 53,
   "metadata": {},
   "outputs": [
    {
     "data": {
      "text/plain": [
       "array([[ 1.28036132e+01, -2.28975111e+00,  4.95830367e+00, ...,\n",
       "         3.78432451e-02,  2.94088506e-03, -1.25489652e-16],\n",
       "       [ 1.07163611e+01, -6.90037227e+00,  2.49532210e+00, ...,\n",
       "         3.28654654e-03,  7.27224107e-03, -7.08420173e-16],\n",
       "       [ 1.05488322e+01, -7.05532075e+00,  2.36751171e+00, ...,\n",
       "        -7.17998562e-04,  6.29226733e-03, -1.05017797e-15],\n",
       "       ...,\n",
       "       [-1.13749374e+01, -4.31308245e+00, -1.47988379e+00, ...,\n",
       "         2.85029440e-02, -2.52698686e-04, -3.44183486e-16],\n",
       "       [-1.13277900e+01, -4.24403911e+00, -1.45224924e+00, ...,\n",
       "         3.07420562e-02, -5.09449431e-04,  6.58870914e-17],\n",
       "       [-1.10831454e+01, -4.28472692e+00, -1.37174467e+00, ...,\n",
       "         3.21284040e-02,  1.61932177e-03,  5.69189125e-16]])"
      ]
     },
     "execution_count": 53,
     "metadata": {},
     "output_type": "execute_result"
    }
   ],
   "source": [
    "# sc = StandardScaler()\n",
    "# X_scaled = sc.fit_transform(dt.iloc[:,filter_na[1:]])\n",
    "pca = PCA(n_components = dt_r_d.shape[1])\n",
    "pca.fit_transform(dt_r_d)"
   ]
  },
  {
   "cell_type": "code",
   "execution_count": 56,
   "metadata": {},
   "outputs": [
    {
     "data": {
      "image/png": "[encoded data removed]",
      "text/plain": [
       "<Figure size 640x480 with 1 Axes>"
      ]
     },
     "metadata": {},
     "output_type": "display_data"
    },
    {
     "data": {
      "text/plain": [
       "Text(0.5, 1.0, 'Explained Variance of PCA by Component')"
      ]
     },
     "execution_count": 56,
     "metadata": {},
     "output_type": "execute_result"
    },
    {
     "data": {
      "image/png": "[encoded data removed]",
      "text/plain": [
       "<Figure size 640x480 with 1 Axes>"
      ]
     },
     "metadata": {},
     "output_type": "display_data"
    }
   ],
   "source": [
    "plt.style.use('default')\n",
    "plt.ylabel('Eigenvalues')\n",
    "plt.xlabel('Number of PCs')\n",
    "plt.ylim(0, max(pca.explained_variance_))\n",
    "plt.axhline(y = 1, color = 'r')\n",
    "plt.plot(pca.explained_variance_)\n",
    "plt.title('Screet Plot')\n",
    "plt.show()\n",
    "\n",
    "plt.plot(np.cumsum(pca.explained_variance_ratio_))\n",
    "plt.xlabel('Number of Components')\n",
    "plt.ylabel('Cumulative Explained Variance')\n",
    "plt.axvline(x=12, linewidth=1, color='r', alpha=0.5)\n",
    "plt.title('Explained Variance of PCA by Component')"
   ]
  },
  {
   "cell_type": "code",
   "execution_count": 59,
   "metadata": {},
   "outputs": [],
   "source": [
    "def fa(n_factors_end):\n",
    "    for i in range(2, n_factors_end):\n",
    "        fa = FactorAnalyzer(n_factors=i, rotation=\"varimax\", method=\"principal\", \n",
    "                    is_corr_matrix=False)\n",
    "        fa.fit(dt_r_d)\n",
    "        print(\"Eigenvalues:\")\n",
    "        print(fa.get_eigenvalues()[0])\n",
    "        print()\n",
    "        print(\"Communalities:\")\n",
    "        print(fa.get_communalities())\n",
    "        print()\n",
    "        print(\"Specific Variances:\")\n",
    "        print(fa.get_uniquenesses())\n",
    "        print()\n",
    "        print(\"Factor Loadings:\")\n",
    "        print(fa.loadings_)\n",
    "    plt.plot(fa.get_eigenvalues()[0], marker='o')\n",
    "    plt.xlabel(\"Eigenvalue number\")\n",
    "    plt.ylabel(\"Eigenvalue size\")\n",
    "    plt.title(\"Scree Plot\")"
   ]
  },
  {
   "cell_type": "code",
   "execution_count": 60,
   "metadata": {},
   "outputs": [
    {
     "name": "stdout",
     "output_type": "stream",
     "text": [
      "Eigenvalues:\n",
      "[4.33518023e+01 1.92209392e+01 1.12471902e+01 7.03036969e+00\n",
      " 3.94039508e+00 3.06310742e+00 2.73042577e+00 1.84595880e+00\n",
      " 1.80924736e+00 1.66799458e+00 1.41031673e+00 1.29336998e+00\n",
      " 1.13090482e+00 9.03090383e-01 8.16739515e-01 8.03382362e-01\n",
      " 6.54396105e-01 6.31569787e-01 5.19918430e-01 4.83332822e-01\n",
      " 4.39333258e-01 3.72665816e-01 3.46136788e-01 3.15043347e-01\n",
      " 2.96870523e-01 2.88176750e-01 2.33484722e-01 2.27080073e-01\n",
      " 2.19752524e-01 1.96845160e-01 1.81725137e-01 1.69429029e-01\n",
      " 1.57378870e-01 1.43877123e-01 1.38651361e-01 1.27308847e-01\n",
      " 1.17244947e-01 1.14272827e-01 1.02273202e-01 9.22665743e-02\n",
      " 8.72426920e-02 7.80627394e-02 7.69099886e-02 7.41873636e-02\n",
      " 6.82922557e-02 6.12746137e-02 5.53634506e-02 4.84415172e-02\n",
      " 4.79732453e-02 4.53093993e-02 4.02735985e-02 3.78281356e-02\n",
      " 3.54579085e-02 3.39205611e-02 3.11410363e-02 3.02818405e-02\n",
      " 2.73994799e-02 2.52537453e-02 2.44146696e-02 2.15459605e-02\n",
      " 1.81275528e-02 1.62103074e-02 1.50080877e-02 1.44244398e-02\n",
      " 1.27203358e-02 1.20703150e-02 1.05926731e-02 1.00805152e-02\n",
      " 9.35550504e-03 9.12252299e-03 8.69845362e-03 7.12958844e-03\n",
      " 6.64348718e-03 6.30635414e-03 5.50582494e-03 5.11666785e-03\n",
      " 4.65857817e-03 4.10661694e-03 3.98006170e-03 3.59377878e-03\n",
      " 3.09645176e-03 2.90115326e-03 2.56805432e-03 2.47870052e-03\n",
      " 2.17527152e-03 1.98562405e-03 1.70994521e-03 1.64893416e-03\n",
      " 1.55708017e-03 1.46777759e-03 1.40662599e-03 1.33382852e-03\n",
      " 1.09762867e-03 9.68831536e-04 8.86739251e-04 7.74136683e-04\n",
      " 6.99220011e-04 5.63742501e-04 5.36034258e-04 4.27777944e-04\n",
      " 3.96175682e-04 2.73992462e-04 2.22759682e-04 1.86293695e-04\n",
      " 1.05772610e-04 8.30203087e-05 7.33804581e-05 6.04952239e-05\n",
      " 2.04837882e-05 1.47408504e-16]\n",
      "\n",
      "Communalities:\n",
      "[0.25980994 0.27961934 0.67020937 0.59909621 0.31454595 0.5626939\n",
      " 0.44421465 0.55915228 0.5859234  0.40921657 0.50233727 0.50216724\n",
      " 0.42108855 0.06455979 0.49668878 0.29026315 0.25338667 0.54666821\n",
      " 0.84256389 0.72895873 0.76793109 0.38025784 0.4503962  0.89755049\n",
      " 0.95579553 0.79406912 0.88248544 0.84137263 0.88145112 0.5395259\n",
      " 0.52400178 0.85772857 0.51927366 0.85881612 0.90221961 0.62301629\n",
      " 0.28607738 0.95184849 0.76162064 0.93729029 0.23482553 0.93682937\n",
      " 0.47558101 0.95936275 0.47347985 0.64924856 0.41966925 0.80434869\n",
      " 0.49454904 0.90221961 0.7244228  0.52744102 0.81581865 0.79444401\n",
      " 0.57564287 0.92720652 0.93998895 0.79401732 0.7170224  0.79153169\n",
      " 0.7963667  0.69408639 0.32093982 0.53627242 0.47831258 0.66294512\n",
      " 0.76120775 0.76827177 0.53357172 0.26047612 0.56430042 0.80311545\n",
      " 0.02283726 0.06769591 0.07504858 0.00097179 0.04125308 0.01054488\n",
      " 0.37896898 0.08129262 0.54655492 0.27926829 0.04823216 0.3205431\n",
      " 0.53752417 0.53894901 0.03829755 0.30136604 0.14561407 0.77473585\n",
      " 0.70815072 0.55598666 0.89563795 0.78054453 0.87741051 0.94038367\n",
      " 0.86788073 0.81542509 0.89414485 0.4765738  0.54253531 0.69958727\n",
      " 0.38243708 0.31762854 0.54377301 0.49363197 0.74718846 0.82428151\n",
      " 0.71747445 0.19895886]\n",
      "\n",
      "Specific Variances:\n",
      "[0.74019006 0.72038066 0.32979063 0.40090379 0.68545405 0.4373061\n",
      " 0.55578535 0.44084772 0.4140766  0.59078343 0.49766273 0.49783276\n",
      " 0.57891145 0.93544021 0.50331122 0.70973685 0.74661333 0.45333179\n",
      " 0.15743611 0.27104127 0.23206891 0.61974216 0.5496038  0.10244951\n",
      " 0.04420447 0.20593088 0.11751456 0.15862737 0.11854888 0.4604741\n",
      " 0.47599822 0.14227143 0.48072634 0.14118388 0.09778039 0.37698371\n",
      " 0.71392262 0.04815151 0.23837936 0.06270971 0.76517447 0.06317063\n",
      " 0.52441899 0.04063725 0.52652015 0.35075144 0.58033075 0.19565131\n",
      " 0.50545096 0.09778039 0.2755772  0.47255898 0.18418135 0.20555599\n",
      " 0.42435713 0.07279348 0.06001105 0.20598268 0.2829776  0.20846831\n",
      " 0.2036333  0.30591361 0.67906018 0.46372758 0.52168742 0.33705488\n",
      " 0.23879225 0.23172823 0.46642828 0.73952388 0.43569958 0.19688455\n",
      " 0.97716274 0.93230409 0.92495142 0.99902821 0.95874692 0.98945512\n",
      " 0.62103102 0.91870738 0.45344508 0.72073171 0.95176784 0.6794569\n",
      " 0.46247583 0.46105099 0.96170245 0.69863396 0.85438593 0.22526415\n",
      " 0.29184928 0.44401334 0.10436205 0.21945547 0.12258949 0.05961633\n",
      " 0.13211927 0.18457491 0.10585515 0.5234262  0.45746469 0.30041273\n",
      " 0.61756292 0.68237146 0.45622699 0.50636803 0.25281154 0.17571849\n",
      " 0.28252555 0.80104114]\n",
      "\n",
      "Factor Loadings:\n",
      "[[-1.77795588e-01  4.77701446e-01]\n",
      " [-2.15787236e-01  4.82757919e-01]\n",
      " [ 8.18620617e-01  8.34625292e-03]\n",
      " [-5.58918744e-01  5.35449388e-01]\n",
      " [ 5.45624540e-01 -1.29768299e-01]\n",
      " [ 8.94641240e-02  7.44775180e-01]\n",
      " [ 6.07341079e-01 -2.74502211e-01]\n",
      " [-2.86598072e-01  6.90661873e-01]\n",
      " [-3.23291440e-01  6.93834303e-01]\n",
      " [-1.01108926e-01  6.31659364e-01]\n",
      " [-3.77944909e-01  5.99578949e-01]\n",
      " [-2.77070466e-01  6.52226342e-01]\n",
      " [ 5.57946456e-01  3.31337150e-01]\n",
      " [-2.43306842e-01  7.32227401e-02]\n",
      " [ 6.66692955e-01 -2.28493517e-01]\n",
      " [-2.39456413e-01 -4.82621770e-01]\n",
      " [ 1.50357772e-04 -5.03375257e-01]\n",
      " [-1.47613223e-01 -7.24485023e-01]\n",
      " [ 7.90163550e-01 -4.67124665e-01]\n",
      " [ 8.21733537e-01 -2.31760063e-01]\n",
      " [ 8.75558553e-01  3.64460253e-02]\n",
      " [ 2.90184539e-01  5.44105479e-01]\n",
      " [ 3.91438050e-01  5.45135258e-01]\n",
      " [ 9.19554041e-01  2.27971166e-01]\n",
      " [ 9.76228605e-01  5.26615378e-02]\n",
      " [ 8.42718824e-01  2.89644794e-01]\n",
      " [ 9.39179414e-01  2.06752574e-02]\n",
      " [ 8.69631811e-01  2.91741565e-01]\n",
      " [ 9.36683996e-01  6.38295536e-02]\n",
      " [-2.16576521e-01 -7.01869295e-01]\n",
      " [ 1.69109257e-01  7.03849303e-01]\n",
      " [ 8.30862882e-01  4.09139881e-01]\n",
      " [ 4.84547208e-01  5.33373851e-01]\n",
      " [ 8.85941490e-01  2.71889311e-01]\n",
      " [-9.34799250e-01 -1.68433875e-01]\n",
      " [-6.27753976e-01 -4.78478045e-01]\n",
      " [-1.02031883e-01  5.25039877e-01]\n",
      " [-9.71170338e-01 -9.31486256e-02]\n",
      " [-8.02923520e-01 -3.41956814e-01]\n",
      " [-9.61273920e-01  1.15077107e-01]\n",
      " [-5.52119930e-02  4.81432415e-01]\n",
      " [-9.44444431e-01  2.11787832e-01]\n",
      " [-6.17429460e-01  3.07183776e-01]\n",
      " [-9.69313205e-01  1.40693482e-01]\n",
      " [-6.37969097e-01  2.57828003e-01]\n",
      " [-7.15060873e-01  3.71398046e-01]\n",
      " [-4.63269125e-01  4.52825534e-01]\n",
      " [-8.39970027e-01  3.14323145e-01]\n",
      " [-5.32816695e-01  4.58972126e-01]\n",
      " [-9.34799250e-01 -1.68433875e-01]\n",
      " [-7.18780076e-01 -4.55826722e-01]\n",
      " [-6.35699050e-01 -3.51180496e-01]\n",
      " [-8.99757102e-01  7.90936700e-02]\n",
      " [-8.85892035e-01 -9.81799722e-02]\n",
      " [-6.24729592e-01 -4.30529676e-01]\n",
      " [ 9.18385016e-01 -2.89439942e-01]\n",
      " [ 9.19686451e-01 -3.06864430e-01]\n",
      " [ 8.74256301e-01 -1.72317254e-01]\n",
      " [ 8.37785627e-01 -1.23035125e-01]\n",
      " [ 7.24211767e-01  5.16767847e-01]\n",
      " [ 1.67326097e-01  8.76566411e-01]\n",
      " [ 1.97801664e-01  8.09296541e-01]\n",
      " [-3.22730230e-01  4.65601776e-01]\n",
      " [ 5.47718697e-01  4.86082962e-01]\n",
      " [ 5.63142220e-01  4.01476546e-01]\n",
      " [ 8.13461408e-01 -3.50093486e-02]\n",
      " [ 8.32822044e-01 -2.60029222e-01]\n",
      " [ 8.35412316e-01 -2.65250883e-01]\n",
      " [ 7.30146225e-01  2.14057883e-02]\n",
      " [-4.59749747e-02  5.08293640e-01]\n",
      " [-6.81589989e-01  3.15809282e-01]\n",
      " [-8.87840905e-01 -1.21876903e-01]\n",
      " [ 3.21725256e-02 -1.47655656e-01]\n",
      " [ 1.99938212e-01 -1.66495118e-01]\n",
      " [ 2.16212734e-01 -1.68227927e-01]\n",
      " [-1.79241491e-02 -2.55052723e-02]\n",
      " [ 1.00790356e-01 -1.76336003e-01]\n",
      " [-1.01088263e-01 -1.80566031e-02]\n",
      " [ 4.85154870e-01  3.78937636e-01]\n",
      " [-2.45330446e-01  1.45277655e-01]\n",
      " [ 7.31942172e-01 -1.03997946e-01]\n",
      " [ 4.01703771e-01 -3.43369152e-01]\n",
      " [-1.78557049e-01  1.27865333e-01]\n",
      " [ 4.86396905e-01  2.89760513e-01]\n",
      " [ 7.33101523e-01  9.29123559e-03]\n",
      " [ 6.75894935e-01 -2.86557224e-01]\n",
      " [-5.12267744e-03 -1.95630533e-01]\n",
      " [ 2.70045912e-01 -4.77955279e-01]\n",
      " [ 3.07549597e-01 -2.25892271e-01]\n",
      " [ 4.76575043e-02 -8.78899660e-01]\n",
      " [-4.54361258e-02 -8.40289403e-01]\n",
      " [-7.87329163e-02 -7.41476759e-01]\n",
      " [ 8.51167943e-01 -4.13704107e-01]\n",
      " [ 7.75590457e-01 -4.23088606e-01]\n",
      " [ 8.65658942e-01 -3.57833911e-01]\n",
      " [ 8.99755556e-01 -3.61695469e-01]\n",
      " [ 8.43734188e-01 -3.94959929e-01]\n",
      " [ 8.13375129e-01 -3.92232057e-01]\n",
      " [ 8.71426550e-01 -3.67097565e-01]\n",
      " [-2.19637988e-01  6.54471510e-01]\n",
      " [-4.18270566e-01  6.06287923e-01]\n",
      " [ 8.02381478e-01  2.36159336e-01]\n",
      " [-3.70834501e-01  4.94892771e-01]\n",
      " [-3.21464153e-01  4.62913968e-01]\n",
      " [ 7.16422319e-02  7.33921253e-01]\n",
      " [ 3.06737356e-01  6.32095062e-01]\n",
      " [ 7.82645605e-01  3.66952748e-01]\n",
      " [ 8.83493756e-01  2.09093981e-01]\n",
      " [ 7.10881813e-01  4.60566495e-01]\n",
      " [-3.34951177e-01  2.94561650e-01]]\n",
      "Eigenvalues:\n",
      "[4.33518023e+01 1.92209392e+01 1.12471902e+01 7.03036969e+00\n",
      " 3.94039508e+00 3.06310742e+00 2.73042577e+00 1.84595880e+00\n",
      " 1.80924736e+00 1.66799458e+00 1.41031673e+00 1.29336998e+00\n",
      " 1.13090482e+00 9.03090383e-01 8.16739515e-01 8.03382362e-01\n",
      " 6.54396105e-01 6.31569787e-01 5.19918430e-01 4.83332822e-01\n",
      " 4.39333258e-01 3.72665816e-01 3.46136788e-01 3.15043347e-01\n",
      " 2.96870523e-01 2.88176750e-01 2.33484722e-01 2.27080073e-01\n",
      " 2.19752524e-01 1.96845160e-01 1.81725137e-01 1.69429029e-01\n",
      " 1.57378870e-01 1.43877123e-01 1.38651361e-01 1.27308847e-01\n",
      " 1.17244947e-01 1.14272827e-01 1.02273202e-01 9.22665743e-02\n",
      " 8.72426920e-02 7.80627394e-02 7.69099886e-02 7.41873636e-02\n",
      " 6.82922557e-02 6.12746137e-02 5.53634506e-02 4.84415172e-02\n",
      " 4.79732453e-02 4.53093993e-02 4.02735985e-02 3.78281356e-02\n",
      " 3.54579085e-02 3.39205611e-02 3.11410363e-02 3.02818405e-02\n",
      " 2.73994799e-02 2.52537453e-02 2.44146696e-02 2.15459605e-02\n",
      " 1.81275528e-02 1.62103074e-02 1.50080877e-02 1.44244398e-02\n",
      " 1.27203358e-02 1.20703150e-02 1.05926731e-02 1.00805152e-02\n",
      " 9.35550504e-03 9.12252299e-03 8.69845362e-03 7.12958844e-03\n",
      " 6.64348718e-03 6.30635414e-03 5.50582494e-03 5.11666785e-03\n",
      " 4.65857817e-03 4.10661694e-03 3.98006170e-03 3.59377878e-03\n",
      " 3.09645176e-03 2.90115326e-03 2.56805432e-03 2.47870052e-03\n",
      " 2.17527152e-03 1.98562405e-03 1.70994521e-03 1.64893416e-03\n",
      " 1.55708017e-03 1.46777759e-03 1.40662599e-03 1.33382852e-03\n",
      " 1.09762867e-03 9.68831536e-04 8.86739251e-04 7.74136683e-04\n",
      " 6.99220011e-04 5.63742501e-04 5.36034258e-04 4.27777944e-04\n",
      " 3.96175682e-04 2.73992462e-04 2.22759682e-04 1.86293695e-04\n",
      " 1.05772610e-04 8.30203087e-05 7.33804581e-05 6.04952239e-05\n",
      " 2.04837882e-05 1.47408504e-16]\n",
      "\n",
      "Communalities:\n",
      "[0.71543229 0.71632509 0.68183726 0.75614137 0.373525   0.56271836\n",
      " 0.59519464 0.85223487 0.81631203 0.79406517 0.73246809 0.63917066\n",
      " 0.62746564 0.27313583 0.50874392 0.29121273 0.30046717 0.57670546\n",
      " 0.84361948 0.8211676  0.86667831 0.81845164 0.85744331 0.90382397\n",
      " 0.97793738 0.81120045 0.88629369 0.8445543  0.88192869 0.92135131\n",
      " 0.88730805 0.86304146 0.85934068 0.95921724 0.92950018 0.67895305\n",
      " 0.31459261 0.95282951 0.79273739 0.96623322 0.25525636 0.94306584\n",
      " 0.67771802 0.96604752 0.67962292 0.66083933 0.62091274 0.87208897\n",
      " 0.62833907 0.92950018 0.76333537 0.5684309  0.8191026  0.8123615\n",
      " 0.63021237 0.93253546 0.9456152  0.7943866  0.71797334 0.79204956\n",
      " 0.81044096 0.71567468 0.81618876 0.54283778 0.4837762  0.6682987\n",
      " 0.77646644 0.78529465 0.53358752 0.26236821 0.56623023 0.8050607\n",
      " 0.1037174  0.06812083 0.08359633 0.04593362 0.04398117 0.04564238\n",
      " 0.54135912 0.09430546 0.74094572 0.31456705 0.26918914 0.50636159\n",
      " 0.66222497 0.64881422 0.12635427 0.46489847 0.41598706 0.77482339\n",
      " 0.70861131 0.55629445 0.899372   0.79489912 0.87997928 0.9467222\n",
      " 0.87443893 0.82070062 0.89489392 0.56587975 0.71112148 0.9438492\n",
      " 0.38535757 0.82892059 0.92307109 0.93287969 0.93205205 0.97244679\n",
      " 0.84870566 0.22193603]\n",
      "\n",
      "Specific Variances:\n",
      "[0.28456771 0.28367491 0.31816274 0.24385863 0.626475   0.43728164\n",
      " 0.40480536 0.14776513 0.18368797 0.20593483 0.26753191 0.36082934\n",
      " 0.37253436 0.72686417 0.49125608 0.70878727 0.69953283 0.42329454\n",
      " 0.15638052 0.1788324  0.13332169 0.18154836 0.14255669 0.09617603\n",
      " 0.02206262 0.18879955 0.11370631 0.1554457  0.11807131 0.07864869\n",
      " 0.11269195 0.13695854 0.14065932 0.04078276 0.07049982 0.32104695\n",
      " 0.68540739 0.04717049 0.20726261 0.03376678 0.74474364 0.05693416\n",
      " 0.32228198 0.03395248 0.32037708 0.33916067 0.37908726 0.12791103\n",
      " 0.37166093 0.07049982 0.23666463 0.4315691  0.1808974  0.1876385\n",
      " 0.36978763 0.06746454 0.0543848  0.2056134  0.28202666 0.20795044\n",
      " 0.18955904 0.28432532 0.18381124 0.45716222 0.5162238  0.3317013\n",
      " 0.22353356 0.21470535 0.46641248 0.73763179 0.43376977 0.1949393\n",
      " 0.8962826  0.93187917 0.91640367 0.95406638 0.95601883 0.95435762\n",
      " 0.45864088 0.90569454 0.25905428 0.68543295 0.73081086 0.49363841\n",
      " 0.33777503 0.35118578 0.87364573 0.53510153 0.58401294 0.22517661\n",
      " 0.29138869 0.44370555 0.100628   0.20510088 0.12002072 0.0532778\n",
      " 0.12556107 0.17929938 0.10510608 0.43412025 0.28887852 0.0561508\n",
      " 0.61464243 0.17107941 0.07692891 0.06712031 0.06794795 0.02755321\n",
      " 0.15129434 0.77806397]\n",
      "\n",
      "Factor Loadings:\n",
      "[[-5.37262375e-02 -9.80177257e-02  8.38414159e-01]\n",
      " [-9.44661090e-02 -9.70306479e-02  8.35455740e-01]\n",
      " [ 8.04949303e-01  1.83885315e-01 -8.94826728e-03]\n",
      " [-5.01544517e-01 -1.44764484e-03  7.10346655e-01]\n",
      " [ 6.04832835e-01 -8.03773420e-02  3.52381884e-02]\n",
      " [-3.05187682e-02  5.85543666e-01  4.67894834e-01]\n",
      " [ 7.26071673e-01 -2.57039115e-01  4.41073781e-02]\n",
      " [-2.26688164e-01  1.08481053e-01  8.88301303e-01]\n",
      " [-2.79057931e-01  1.36582362e-01  8.48400822e-01]\n",
      " [-1.97867593e-02  7.21667270e-02  8.87955864e-01]\n",
      " [-3.16530579e-01  5.02070634e-02  7.93571504e-01]\n",
      " [-2.59452885e-01  1.84623955e-01  7.33327247e-01]\n",
      " [ 6.04829380e-01  1.41611119e-01  4.91521464e-01]\n",
      " [-1.14732911e-01 -2.89347123e-01  4.19821904e-01]\n",
      " [ 6.36537289e-01  9.18055353e-02 -3.08441148e-01]\n",
      " [-1.44613597e-01 -4.49518933e-01 -2.61213262e-01]\n",
      " [ 1.67526421e-02 -2.46561378e-01 -4.89279066e-01]\n",
      " [-7.73588482e-02 -4.81359225e-01 -5.82249399e-01]\n",
      " [ 8.29746564e-01 -1.34687662e-01 -3.70134232e-01]\n",
      " [ 7.30061360e-01  2.50695837e-01 -4.74688961e-01]\n",
      " [ 7.37108248e-01  4.73188957e-01 -3.15344175e-01]\n",
      " [ 7.55836925e-03  8.86494510e-01 -1.80338561e-01]\n",
      " [ 1.10079055e-01  9.02907801e-01 -1.73445721e-01]\n",
      " [ 8.14962429e-01  4.89163778e-01 -1.94681146e-02]\n",
      " [ 8.76147637e-01  4.16468310e-01 -1.91981376e-01]\n",
      " [ 7.18280187e-01  5.43308034e-01 -9.50832638e-03]\n",
      " [ 8.70163797e-01  3.29741159e-01 -1.42756537e-01]\n",
      " [ 7.64217138e-01  5.08447120e-01  4.48106190e-02]\n",
      " [ 8.72292565e-01  3.37479707e-01 -8.45092768e-02]\n",
      " [ 7.41135490e-02 -9.56310396e-01  3.64542778e-02]\n",
      " [-1.15199540e-01  9.34722305e-01 -1.82025492e-02]\n",
      " [ 7.04902397e-01  5.94479420e-01  1.12908315e-01]\n",
      " [ 2.15436327e-01  8.88956536e-01 -1.50612566e-01]\n",
      " [ 7.10194520e-01  6.53635651e-01 -1.66136751e-01]\n",
      " [-9.06575464e-01 -3.03597996e-01 -1.24295472e-01]\n",
      " [-5.87861766e-01 -4.01880978e-01 -4.14563951e-01]\n",
      " [-1.30068047e-01  2.61303133e-01  4.78952596e-01]\n",
      " [-9.15311982e-01 -3.37880184e-01  2.95036773e-02]\n",
      " [-7.58107373e-01 -3.87514135e-01 -2.60467655e-01]\n",
      " [-9.76443264e-01 -9.67557100e-02  5.85671135e-02]\n",
      " [-1.65823865e-01  4.28363141e-01  2.10389689e-01]\n",
      " [-9.49902554e-01 -7.38790966e-02  1.87863926e-01]\n",
      " [-7.57633924e-01  3.14830961e-01 -6.77519461e-02]\n",
      " [-9.63380029e-01 -1.32655577e-01  1.42649714e-01]\n",
      " [-7.70790976e-01  2.74546675e-01 -1.00639505e-01]\n",
      " [-7.64818698e-01  1.30187910e-01  2.42781384e-01]\n",
      " [-6.33472070e-01  4.68550958e-01  9.26698967e-03]\n",
      " [-9.17015975e-01  1.41589220e-01  1.05466409e-01]\n",
      " [-6.77292268e-01  4.03235512e-01  8.37578655e-02]\n",
      " [-9.06575464e-01 -3.03597996e-01 -1.24295472e-01]\n",
      " [-6.66708682e-01 -4.35250118e-01 -3.59711333e-01]\n",
      " [-6.05393553e-01 -3.29458350e-01 -3.05592450e-01]\n",
      " [-8.81192407e-01 -1.72672538e-01  1.13078468e-01]\n",
      " [-8.62234259e-01 -2.55341191e-01 -6.09463584e-02]\n",
      " [-5.91521594e-01 -3.66914842e-01 -3.81691067e-01]\n",
      " [ 9.35413445e-01  1.17501193e-02 -2.39581047e-01]\n",
      " [ 9.39873193e-01 -2.07396252e-03 -2.49498062e-01]\n",
      " [ 8.60672594e-01  1.18217889e-01 -1.99132665e-01]\n",
      " [ 8.04612534e-01  1.74067115e-01 -2.00680474e-01]\n",
      " [ 6.01267798e-01  6.13462737e-01  2.32787596e-01]\n",
      " [ 5.75525843e-02  6.33330974e-01  6.37197405e-01]\n",
      " [ 1.04621707e-01  5.75243454e-01  6.11411441e-01]\n",
      " [-1.81295705e-01 -1.67007492e-01  8.69154259e-01]\n",
      " [ 4.67515214e-01  4.76554404e-01  3.11710123e-01]\n",
      " [ 4.93106470e-01  4.22169280e-01  2.49790519e-01]\n",
      " [ 7.97039466e-01  1.70640033e-01 -6.25201660e-02]\n",
      " [ 8.63853077e-01 -2.16781245e-02 -1.72494517e-01]\n",
      " [ 8.69042238e-01 -2.89505970e-02 -1.70944724e-01]\n",
      " [ 6.90141568e-01  2.29376985e-01 -6.83983571e-02]\n",
      " [-1.09262301e-01  3.40063202e-01  3.67133464e-01]\n",
      " [-6.82364717e-01  8.24203970e-03  3.17081520e-01]\n",
      " [-8.35464205e-01 -3.27091526e-01 -8.44986418e-03]\n",
      " [-2.60905833e-02  6.87033981e-02 -3.13554652e-01]\n",
      " [ 2.20795470e-01 -7.75302310e-02 -1.15582249e-01]\n",
      " [ 2.56496155e-01 -1.16821555e-01 -6.44885610e-02]\n",
      " [-7.21365552e-02  1.02003766e-01 -1.74141241e-01]\n",
      " [ 1.37095392e-01 -1.33016932e-01 -8.65593256e-02]\n",
      " [-1.45253465e-01  6.82738342e-02 -1.41005287e-01]\n",
      " [ 5.14237965e-01  1.86220386e-01  4.92179240e-01]\n",
      " [-2.86613159e-01  1.03961360e-01  3.67477312e-02]\n",
      " [ 8.32697737e-01 -1.24080061e-01  1.79344195e-01]\n",
      " [ 4.85747969e-01 -2.49654622e-01 -1.27626523e-01]\n",
      " [-5.79801763e-02 -2.37369279e-01  4.57693423e-01]\n",
      " [ 5.36883861e-01  1.03256883e-01  4.55472636e-01]\n",
      " [ 7.92021474e-01  1.31579716e-02  1.86423767e-01]\n",
      " [ 7.77017411e-01 -2.11758580e-01 -1.47128796e-02]\n",
      " [-5.75504673e-02  2.92156931e-02 -3.49554941e-01]\n",
      " [ 2.16586814e-01 -3.61539742e-02 -6.45508726e-01]\n",
      " [ 1.81390370e-01  2.32026764e-01 -5.73801512e-01]\n",
      " [ 1.77076945e-01 -6.36659308e-01 -5.81491244e-01]\n",
      " [ 9.14802848e-02 -6.53699359e-01 -5.22417279e-01]\n",
      " [ 4.36972786e-02 -5.87416386e-01 -4.57522663e-01]\n",
      " [ 8.87383558e-01 -9.38205082e-02 -3.21123234e-01]\n",
      " [ 8.33504931e-01 -1.58140815e-01 -2.74153484e-01]\n",
      " [ 8.61445608e-01  1.87932303e-02 -3.70860564e-01]\n",
      " [ 9.30648375e-01 -5.16534299e-02 -2.79191199e-01]\n",
      " [ 8.83001231e-01 -9.38632065e-02 -2.93150910e-01]\n",
      " [ 8.51472867e-01 -9.58220612e-02 -2.94130430e-01]\n",
      " [ 8.74823789e-01 -3.11752010e-04 -3.59968281e-01]\n",
      " [-2.25193603e-01  2.45755787e-01  6.74367616e-01]\n",
      " [-3.75042000e-01  8.44903443e-02  7.50550706e-01]\n",
      " [ 5.87043347e-01  7.07947325e-01 -3.13113222e-01]\n",
      " [-4.42397459e-01  2.92178507e-01  3.22914511e-01]\n",
      " [-5.74752206e-01  6.76751246e-01 -2.01465248e-01]\n",
      " [-2.15871766e-01  9.36195959e-01  2.75655747e-03]\n",
      " [ 9.56722039e-03  9.57566081e-01 -1.25918053e-01]\n",
      " [ 5.66211998e-01  7.61488893e-01 -1.77737696e-01]\n",
      " [ 6.98530974e-01  6.46574583e-01 -2.57764573e-01]\n",
      " [ 5.02692851e-01  7.69849433e-01 -5.77703163e-02]\n",
      " [-4.04878472e-01  2.11305312e-01  1.15583371e-01]]\n",
      "Eigenvalues:\n",
      "[4.33518023e+01 1.92209392e+01 1.12471902e+01 7.03036969e+00\n",
      " 3.94039508e+00 3.06310742e+00 2.73042577e+00 1.84595880e+00\n",
      " 1.80924736e+00 1.66799458e+00 1.41031673e+00 1.29336998e+00\n",
      " 1.13090482e+00 9.03090383e-01 8.16739515e-01 8.03382362e-01\n",
      " 6.54396105e-01 6.31569787e-01 5.19918430e-01 4.83332822e-01\n",
      " 4.39333258e-01 3.72665816e-01 3.46136788e-01 3.15043347e-01\n",
      " 2.96870523e-01 2.88176750e-01 2.33484722e-01 2.27080073e-01\n",
      " 2.19752524e-01 1.96845160e-01 1.81725137e-01 1.69429029e-01\n",
      " 1.57378870e-01 1.43877123e-01 1.38651361e-01 1.27308847e-01\n",
      " 1.17244947e-01 1.14272827e-01 1.02273202e-01 9.22665743e-02\n",
      " 8.72426920e-02 7.80627394e-02 7.69099886e-02 7.41873636e-02\n",
      " 6.82922557e-02 6.12746137e-02 5.53634506e-02 4.84415172e-02\n",
      " 4.79732453e-02 4.53093993e-02 4.02735985e-02 3.78281356e-02\n",
      " 3.54579085e-02 3.39205611e-02 3.11410363e-02 3.02818405e-02\n",
      " 2.73994799e-02 2.52537453e-02 2.44146696e-02 2.15459605e-02\n",
      " 1.81275528e-02 1.62103074e-02 1.50080877e-02 1.44244398e-02\n",
      " 1.27203358e-02 1.20703150e-02 1.05926731e-02 1.00805152e-02\n",
      " 9.35550504e-03 9.12252299e-03 8.69845362e-03 7.12958844e-03\n",
      " 6.64348718e-03 6.30635414e-03 5.50582494e-03 5.11666785e-03\n",
      " 4.65857817e-03 4.10661694e-03 3.98006170e-03 3.59377878e-03\n",
      " 3.09645176e-03 2.90115326e-03 2.56805432e-03 2.47870052e-03\n",
      " 2.17527152e-03 1.98562405e-03 1.70994521e-03 1.64893416e-03\n",
      " 1.55708017e-03 1.46777759e-03 1.40662599e-03 1.33382852e-03\n",
      " 1.09762867e-03 9.68831536e-04 8.86739251e-04 7.74136683e-04\n",
      " 6.99220011e-04 5.63742501e-04 5.36034258e-04 4.27777944e-04\n",
      " 3.96175682e-04 2.73992462e-04 2.22759682e-04 1.86293695e-04\n",
      " 1.05772610e-04 8.30203087e-05 7.33804581e-05 6.04952239e-05\n",
      " 2.04837882e-05 1.47408504e-16]\n",
      "\n",
      "Communalities:\n",
      "[0.7894372  0.71858527 0.69189717 0.77127825 0.40282739 0.65349411\n",
      " 0.66461892 0.85225425 0.81792266 0.80533137 0.73705066 0.64952987\n",
      " 0.62755396 0.28001414 0.50890255 0.36247518 0.75371512 0.73955627\n",
      " 0.93287084 0.94450481 0.91415951 0.8184555  0.8575786  0.90428472\n",
      " 0.99279126 0.844994   0.91134816 0.8680922  0.9103464  0.92341223\n",
      " 0.90430266 0.86764139 0.8673738  0.96753187 0.93235958 0.85256482\n",
      " 0.62881062 0.95558212 0.87876166 0.96637444 0.62357156 0.94964572\n",
      " 0.82920946 0.96754989 0.81441062 0.70743792 0.80319089 0.87229801\n",
      " 0.78058026 0.93235958 0.89238858 0.86078058 0.91090443 0.93916896\n",
      " 0.85519461 0.93272257 0.94713423 0.81109992 0.75222034 0.79625851\n",
      " 0.86769386 0.75241762 0.85568616 0.56602762 0.51408122 0.69232648\n",
      " 0.77647504 0.78545918 0.58194384 0.71283563 0.77052578 0.8418084\n",
      " 0.15103235 0.07459369 0.08812076 0.05749997 0.06187576 0.06281257\n",
      " 0.66925176 0.29445433 0.78898804 0.40181368 0.30004025 0.50676574\n",
      " 0.66333152 0.76173117 0.33758098 0.48368101 0.45697063 0.8613927\n",
      " 0.70877189 0.61137245 0.97553345 0.87434691 0.93054771 0.95281684\n",
      " 0.94088256 0.92127768 0.95235391 0.64299457 0.78945493 0.94803128\n",
      " 0.5998957  0.8416959  0.92314458 0.93620471 0.96096781 0.97374699\n",
      " 0.91079293 0.26753869]\n",
      "\n",
      "Specific Variances:\n",
      "[0.2105628  0.28141473 0.30810283 0.22872175 0.59717261 0.34650589\n",
      " 0.33538108 0.14774575 0.18207734 0.19466863 0.26294934 0.35047013\n",
      " 0.37244604 0.71998586 0.49109745 0.63752482 0.24628488 0.26044373\n",
      " 0.06712916 0.05549519 0.08584049 0.1815445  0.1424214  0.09571528\n",
      " 0.00720874 0.155006   0.08865184 0.1319078  0.0896536  0.07658777\n",
      " 0.09569734 0.13235861 0.1326262  0.03246813 0.06764042 0.14743518\n",
      " 0.37118938 0.04441788 0.12123834 0.03362556 0.37642844 0.05035428\n",
      " 0.17079054 0.03245011 0.18558938 0.29256208 0.19680911 0.12770199\n",
      " 0.21941974 0.06764042 0.10761142 0.13921942 0.08909557 0.06083104\n",
      " 0.14480539 0.06727743 0.05286577 0.18890008 0.24777966 0.20374149\n",
      " 0.13230614 0.24758238 0.14431384 0.43397238 0.48591878 0.30767352\n",
      " 0.22352496 0.21454082 0.41805616 0.28716437 0.22947422 0.1581916\n",
      " 0.84896765 0.92540631 0.91187924 0.94250003 0.93812424 0.93718743\n",
      " 0.33074824 0.70554567 0.21101196 0.59818632 0.69995975 0.49323426\n",
      " 0.33666848 0.23826883 0.66241902 0.51631899 0.54302937 0.1386073\n",
      " 0.29122811 0.38862755 0.02446655 0.12565309 0.06945229 0.04718316\n",
      " 0.05911744 0.07872232 0.04764609 0.35700543 0.21054507 0.05196872\n",
      " 0.4001043  0.1583041  0.07685542 0.06379529 0.03903219 0.02625301\n",
      " 0.08920707 0.73246131]\n",
      "\n",
      "Factor Loadings:\n",
      "[[-4.71664761e-02 -1.24829862e-01  8.77434542e-01  4.16971494e-02]\n",
      " [-1.58833574e-01 -1.08487175e-01  8.12618692e-01 -1.45734566e-01]\n",
      " [ 7.14934671e-01  2.49354529e-01 -1.92310257e-02 -3.43828547e-01]\n",
      " [-5.06142843e-01 -4.89571545e-02  7.08765451e-01  1.01746755e-01]\n",
      " [ 6.22768077e-01 -5.00536161e-02  8.82965291e-02 -6.84519587e-02]\n",
      " [-4.35151878e-03  5.54524429e-01  5.45111897e-01  2.20977050e-01]\n",
      " [ 7.73138805e-01 -2.24410737e-01  1.19921041e-01 -4.61959767e-02]\n",
      " [-3.11190914e-01  8.96440803e-02  8.54258254e-01 -1.32745020e-01]\n",
      " [-3.71788239e-01  1.17474784e-01  8.03542384e-01 -1.42181133e-01]\n",
      " [-8.22657419e-02  6.02528011e-02  8.84141037e-01 -1.15012785e-01]\n",
      " [-4.06475290e-01  3.12321102e-02  7.40733942e-01 -1.48883456e-01]\n",
      " [-2.96398436e-01  1.55256005e-01  7.33083424e-01  1.27318642e-02]\n",
      " [ 5.11262154e-01  1.83089626e-01  4.87871718e-01 -3.07610698e-01]\n",
      " [-1.67955556e-01 -2.89831071e-01  3.72612489e-01 -1.70185054e-01]\n",
      " [ 6.30221992e-01  1.36872731e-01 -2.81081690e-01 -1.18244383e-01]\n",
      " [-1.04288815e-03 -4.78685077e-01 -1.90716373e-01  3.11387140e-01]\n",
      " [-1.42548716e-01 -1.88194288e-01 -6.59815493e-01 -5.12466008e-01]\n",
      " [-1.22393524e-01 -4.50265755e-01 -6.82327134e-01 -2.37205664e-01]\n",
      " [ 9.21413265e-01 -9.74998893e-02 -2.64334969e-01  6.70017209e-02]\n",
      " [ 8.40419724e-01  2.74238087e-01 -3.43307001e-01  2.12445933e-01]\n",
      " [ 7.76826288e-01  5.06535411e-01 -2.21338833e-01  7.16340035e-02]\n",
      " [-9.73426614e-03  8.81868092e-01 -1.52534339e-01  1.31919231e-01]\n",
      " [ 8.81217426e-02  9.04818490e-01 -1.41286250e-01  1.05616545e-01]\n",
      " [ 7.38653607e-01  5.47121429e-01 -6.83495131e-04 -2.43584162e-01]\n",
      " [ 8.64696524e-01  4.67875678e-01 -1.28084203e-01 -9.88836001e-02]\n",
      " [ 7.12143568e-01  5.77170386e-01  6.47235496e-02 -2.30379668e-02]\n",
      " [ 8.69357713e-01  3.78185945e-01 -7.28730651e-02 -8.50307735e-02]\n",
      " [ 7.40817992e-01  5.48244326e-01  1.08565540e-01 -8.32020458e-02]\n",
      " [ 8.68141587e-01  3.85102159e-01 -1.38446730e-02 -9.04501976e-02]\n",
      " [ 9.04184355e-02 -9.41576170e-01  2.00044122e-03 -1.69313470e-01]\n",
      " [-1.02085822e-01  9.10178735e-01  3.76358930e-02  2.53059986e-01]\n",
      " [ 6.46184382e-01  6.36336448e-01  1.51682636e-01 -1.48847014e-01]\n",
      " [ 1.51741002e-01  9.06814336e-01 -1.45676047e-01 -2.85433148e-02]\n",
      " [ 6.86398064e-01  6.94054378e-01 -1.08811000e-01 -5.32752825e-02]\n",
      " [-8.06261018e-01 -3.71693628e-01 -1.26003787e-01  3.58147522e-01]\n",
      " [-3.52837878e-01 -4.75446697e-01 -3.03097144e-01  6.40431734e-01]\n",
      " [-3.68514735e-01  2.95281459e-01  3.11247740e-01 -5.55824806e-01]\n",
      " [-8.64384959e-01 -3.98004380e-01 -7.99335373e-03  2.23493589e-01]\n",
      " [-5.70144997e-01 -4.63690134e-01 -1.90982173e-01  5.49739581e-01]\n",
      " [-9.21517207e-01 -1.66109294e-01  3.55844670e-02  2.97190047e-01]\n",
      " [ 3.46879539e-03  3.63947819e-01  3.75334915e-01  5.91798291e-01]\n",
      " [-9.34252879e-01 -1.36000110e-01  1.41922163e-01  1.95395358e-01]\n",
      " [-5.88150917e-01  2.26367306e-01  3.65558225e-02  6.56284596e-01]\n",
      " [-9.25659320e-01 -1.98786763e-01  1.08472605e-01  2.43766756e-01]\n",
      " [-6.02523950e-01  1.87222432e-01 -2.22668267e-03  6.45227331e-01]\n",
      " [-8.19422898e-01  9.11744618e-02  1.65446916e-01  1.72791087e-02]\n",
      " [-4.74052495e-01  3.84975387e-01  1.26368486e-01  6.43653693e-01]\n",
      " [-8.72118608e-01  7.28990446e-02  9.42427640e-02  3.12267795e-01]\n",
      " [-5.32508571e-01  3.19754141e-01  1.85772379e-01  6.00217293e-01]\n",
      " [-8.06261018e-01 -3.71693628e-01 -1.26003787e-01  3.58147522e-01]\n",
      " [-4.50133647e-01 -5.09736005e-01 -2.68044371e-01  5.98405970e-01]\n",
      " [-3.43269205e-01 -4.15015045e-01 -1.63043756e-01  7.37649019e-01]\n",
      " [-7.31492269e-01 -2.60433204e-01  1.73814342e-01  5.27054657e-01]\n",
      " [-6.74099266e-01 -3.45292771e-01  1.94119751e-02  6.04280741e-01]\n",
      " [-3.42320284e-01 -4.45709056e-01 -2.54991341e-01  6.88719309e-01]\n",
      " [ 9.06666938e-01  7.87731984e-02 -2.11724007e-01 -2.44223996e-01]\n",
      " [ 9.20800670e-01  6.33073812e-02 -2.14591415e-01 -2.21817620e-01]\n",
      " [ 7.80854043e-01  1.90781999e-01 -2.10645064e-01 -3.47271901e-01]\n",
      " [ 7.07820487e-01  2.46784296e-01 -2.26981864e-01 -3.72541596e-01]\n",
      " [ 4.91745396e-01  6.58327007e-01  2.29494133e-01 -2.61501383e-01]\n",
      " [ 3.76213743e-02  6.13206088e-01  6.93419772e-01  9.70865944e-02]\n",
      " [ 7.13016826e-02  5.62801164e-01  6.55030795e-01  3.90281885e-02]\n",
      " [-1.91272287e-01 -1.96727904e-01  8.83390347e-01  4.54937897e-03]\n",
      " [ 4.34906457e-01  4.94701048e-01  3.59517324e-01 -5.38716689e-02]\n",
      " [ 4.74986396e-01  4.40815401e-01  3.05098612e-01 -3.26460536e-02]\n",
      " [ 6.95863835e-01  2.40161106e-01 -8.61202680e-02 -3.78161269e-01]\n",
      " [ 8.30223614e-01  4.11267656e-02 -1.52036915e-01 -2.49794226e-01]\n",
      " [ 8.38474223e-01  3.34646099e-02 -1.47927267e-01 -2.43757664e-01]\n",
      " [ 5.72526422e-01  2.96097272e-01 -1.09840795e-01 -3.92961505e-01]\n",
      " [ 6.44082736e-02  2.74788811e-01  5.42488178e-01  5.82138203e-01]\n",
      " [-5.25642404e-01 -7.86539692e-02  4.17927900e-01  5.59799664e-01]\n",
      " [-7.05682629e-01 -4.01345631e-01  2.37393600e-02  4.26823799e-01]\n",
      " [-6.50244803e-02  8.46339587e-02 -3.59783391e-01 -1.00981051e-01]\n",
      " [ 1.96212873e-01 -5.43121928e-02 -1.31437818e-01 -1.25970168e-01]\n",
      " [ 2.30147028e-01 -9.19356884e-02 -7.90420867e-02 -1.43014974e-01]\n",
      " [-1.77868232e-02  8.76636575e-02 -1.36851604e-01  1.75414702e-01]\n",
      " [ 9.94188683e-02 -1.11233728e-01 -1.20677676e-01 -1.58289634e-01]\n",
      " [-8.07750496e-02  4.68652947e-02 -1.00483837e-01  2.09748910e-01]\n",
      " [ 5.38815945e-01  1.92458845e-01  5.83275490e-01  4.09686799e-02]\n",
      " [-1.29977928e-01  4.60073599e-02  1.55492145e-01  5.01263990e-01]\n",
      " [ 8.38449144e-01 -8.11122897e-02  2.42547478e-01 -1.43466335e-01]\n",
      " [ 5.76512129e-01 -2.36830339e-01 -4.00816338e-02  1.08408037e-01]\n",
      " [-3.60419029e-02 -2.55198780e-01  4.81771603e-01  3.88707236e-02]\n",
      " [ 4.56562175e-01  1.39220537e-01  4.54198213e-01 -2.69515015e-01]\n",
      " [ 7.10909599e-01  7.29361896e-02  1.82851090e-01 -3.45231587e-01]\n",
      " [ 8.49178107e-01 -1.81531478e-01  8.50203581e-02  2.11087140e-02]\n",
      " [-1.68526380e-01  6.29020765e-02 -4.61951523e-01 -3.03024677e-01]\n",
      " [ 2.28998357e-01 -8.04241428e-03 -6.55568151e-01 -3.75030891e-02]\n",
      " [ 1.55645223e-01  2.61205273e-01 -5.98928491e-01 -7.61686242e-02]\n",
      " [ 3.51738170e-01 -6.43102437e-01 -4.90452455e-01  2.89047749e-01]\n",
      " [ 1.73348750e-01 -6.43375280e-01 -5.12329219e-01  4.80533583e-02]\n",
      " [ 1.91751925e-01 -5.99163823e-01 -3.88489437e-01  2.54327192e-01]\n",
      " [ 9.60984503e-01 -5.09162189e-02 -2.21600825e-01  1.85162193e-02]\n",
      " [ 9.10032762e-01 -1.19313421e-01 -1.77137289e-01  2.39576065e-02]\n",
      " [ 9.20551550e-01  6.33895284e-02 -2.81228750e-01  4.97132362e-03]\n",
      " [ 9.30255482e-01  1.02129949e-02 -2.33732465e-01 -1.80849136e-01]\n",
      " [ 9.47885484e-01 -4.98351874e-02 -1.99750230e-01 -3.45994737e-03]\n",
      " [ 9.38022865e-01 -5.89098964e-02 -1.85003170e-01  6.07802271e-02]\n",
      " [ 9.37588087e-01  4.41418627e-02 -2.66927603e-01  9.14535840e-03]\n",
      " [-3.85149102e-01  2.49551458e-01  5.74608687e-01 -3.19693086e-01]\n",
      " [-5.27829795e-01  7.84419150e-02  6.41242600e-01 -3.05786581e-01]\n",
      " [ 5.75805341e-01  7.41503799e-01 -2.58068412e-01  7.23217780e-03]\n",
      " [-6.13795838e-01  2.95625347e-01  1.83641801e-01 -3.19424033e-01]\n",
      " [-5.08113842e-01  6.22124318e-01 -1.56385506e-01  4.14754302e-01]\n",
      " [-2.38787162e-01  9.14244203e-01  2.29611849e-02  1.72498100e-01]\n",
      " [-3.62549886e-02  9.57438933e-01 -1.14851790e-01  7.07816236e-02]\n",
      " [ 4.62366189e-01  8.12147564e-01 -1.91155157e-01 -2.25967605e-01]\n",
      " [ 6.43818458e-01  6.96711789e-01 -2.32033571e-01 -1.41413874e-01]\n",
      " [ 3.63564700e-01  8.22118088e-01 -9.82319014e-02 -3.05099947e-01]\n",
      " [-4.70929114e-01  1.97919160e-01  5.12565671e-02 -6.29700653e-02]]\n"
     ]
    },
    {
     "data": {
      "image/png": "[encoded data removed]",
      "text/plain": [
       "<Figure size 640x480 with 1 Axes>"
      ]
     },
     "metadata": {},
     "output_type": "display_data"
    }
   ],
   "source": [
    "fa(5)"
   ]
  },
  {
   "cell_type": "markdown",
   "metadata": {},
   "source": [
    "# Feature investigation and creation"
   ]
  },
  {
   "cell_type": "code",
   "execution_count": null,
   "metadata": {},
   "outputs": [],
   "source": []
  }
 ],
 "metadata": {
  "kernelspec": {
   "display_name": "Python 3 (ipykernel)",
   "language": "python",
   "name": "python3"
  },
  "language_info": {
   "codemirror_mode": {
    "name": "ipython",
    "version": 3
   },
   "file_extension": ".py",
   "mimetype": "text/x-python",
   "name": "python",
   "nbconvert_exporter": "python",
   "pygments_lexer": "ipython3",
   "version": "3.9.7"
  }
 },
 "nbformat": 4,
 "nbformat_minor": 4
}
