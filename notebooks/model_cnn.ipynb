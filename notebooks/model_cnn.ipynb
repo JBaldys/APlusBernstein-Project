{
 "cells": [
  {
   "cell_type": "markdown",
   "id": "5e6730a2-98ba-44aa-8b2e-49718b4f7ce4",
   "metadata": {},
   "source": [
    "### Modeling - cnn"
   ]
  },
  {
   "cell_type": "code",
   "execution_count": 36,
   "id": "1df2c059-0501-4429-9bfe-05688ecd9f93",
   "metadata": {},
   "outputs": [],
   "source": [
    "import pandas as pd\n",
    "import numpy as np\n",
    "import os\n",
    "import glob\n",
    "from pyts.image import GramianAngularField\n",
    "import random\n",
    "import tensorflow as tf\n",
    "from tensorflow import keras\n",
    "from tensorflow.keras import layers\n",
    "from tensorflow.keras import Sequential\n",
    "from tensorflow.keras import Input\n",
    "from tensorflow.keras.layers import Conv2D, MaxPool2D, Flatten, Dropout, Dense, BatchNormalization, Conv1D, MaxPooling1D\n",
    "from tensorflow.keras import backend as K, callbacks\n",
    "from sklearn.metrics import accuracy_score\n",
    "from keras.utils import to_categorical\n",
    "\n",
    "from pyts.image import MarkovTransitionField\n",
    "from sklearn.preprocessing import QuantileTransformer\n",
    "# from tsaug import random_time_warp\n",
    "import math"
   ]
  },
  {
   "cell_type": "code",
   "execution_count": 2,
   "id": "d574eece-1fcc-4726-9244-091faa648375",
   "metadata": {},
   "outputs": [],
   "source": [
    "path = '/Users/yutingmei/Projects/APlusBernstein-Project/model'\n",
    "filenames = [i for i in glob.glob(os.path.join(path, \"*classification.csv\"))]\n",
    "df = [pd.read_csv(file, index_col=0, parse_dates=True) \n",
    "      for file in filenames]\n",
    "test = df[0]\n",
    "train = df[1]"
   ]
  },
  {
   "cell_type": "code",
   "execution_count": 10,
   "id": "5bc0673b-12d5-43f5-bcf7-b27789f521f6",
   "metadata": {},
   "outputs": [],
   "source": [
    "# weighted version\n",
    "path2 = '/Users/yutingmei/Projects/APlusBernstein-Project/data/processed/weight/feature/dt_weight_all.csv'\n",
    "df2 = pd.read_csv(path2, index_col=110, parse_dates=True)"
   ]
  },
  {
   "cell_type": "code",
   "execution_count": 48,
   "id": "12bf9ec2-bf4a-45a6-ac40-27f7aa70ac7d",
   "metadata": {},
   "outputs": [],
   "source": [
    "# weighted version + add moving avg, moving vol\n",
    "path3 = '/Users/yutingmei/Projects/APlusBernstein-Project/data/processed/weight/feature/dt_weight_add_555.csv'\n",
    "df3 = pd.read_csv(path3, index_col=110, parse_dates=True)"
   ]
  },
  {
   "cell_type": "markdown",
   "id": "d6710f7d-205e-4f58-8c52-14dfb953751d",
   "metadata": {},
   "source": [
    "#### conv1d"
   ]
  },
  {
   "cell_type": "code",
   "execution_count": 19,
   "id": "16de392e-41c1-4fdd-a848-f3ecc354fe16",
   "metadata": {},
   "outputs": [],
   "source": [
    "train_ = np.array(train.iloc[:,:-2])\n",
    "test_= np.array(test.iloc[:,:-2])"
   ]
  },
  {
   "cell_type": "code",
   "execution_count": 25,
   "id": "d5ee8e03-00b8-4d79-91e0-fad18e767f9b",
   "metadata": {},
   "outputs": [],
   "source": [
    "# split a multivariate sequence into samples\n",
    "def split_sequences(sequences, n_steps):\n",
    "    X, y = list(), list()\n",
    "    for i in range(len(sequences)):\n",
    "        # find the end of this pattern\n",
    "        end_ix = i + n_steps\n",
    "        # check if we are beyond the dataset\n",
    "        if end_ix > len(sequences):\n",
    "            break\n",
    "        # gather input and output parts of the pattern\n",
    "        seq_x, seq_y = sequences[i:end_ix, :-1], sequences[end_ix-1, -1]\n",
    "        X.append(seq_x)\n",
    "        y.append(seq_y)\n",
    "    return np.array(X), np.array(y)"
   ]
  },
  {
   "cell_type": "code",
   "execution_count": 160,
   "id": "5f01df83-fe4f-4730-90bd-02411ecede59",
   "metadata": {},
   "outputs": [],
   "source": [
    "train_x, train_y = split_sequences(train_, n_steps=60)"
   ]
  },
  {
   "cell_type": "code",
   "execution_count": 79,
   "id": "a9305e01-9bee-4273-827c-f2c86d89e0c0",
   "metadata": {},
   "outputs": [
    {
     "data": {
      "text/plain": [
       "<tensorflow.python.keras.callbacks.History at 0x7f89382a9250>"
      ]
     },
     "execution_count": 79,
     "metadata": {},
     "output_type": "execute_result"
    }
   ],
   "source": [
    "n_features = train_x.shape[2]\n",
    "n_steps=60\n",
    "# define model\n",
    "model = Sequential()\n",
    "model.add(Conv1D(filters=64, kernel_size=2, activation='relu', input_shape=(n_steps, n_features)))\n",
    "model.add(MaxPooling1D(pool_size=2))\n",
    "model.add(Flatten())\n",
    "model.add(Dense(100, activation='relu'))\n",
    "model.add(Dense(1))\n",
    "model.compile(optimizer='adam',loss='binary_crossentropy',metrics=['accuracy'])\n",
    "# fit model\n",
    "# _, accuracy = model.evaluate(test_x, test_y, batch_size=32, verbose=0)\n",
    "model.fit(train_x, train_y,  batch_size=128, epochs=300, validation_data=(test_x, test_y), verbose=0)"
   ]
  },
  {
   "cell_type": "code",
   "execution_count": 80,
   "id": "634e6719-4f4d-4e20-871b-b3255681471a",
   "metadata": {},
   "outputs": [],
   "source": [
    "_, accuracy = model.evaluate(test_x, test_y, batch_size=32, verbose=0)"
   ]
  },
  {
   "cell_type": "code",
   "execution_count": 86,
   "id": "63ac76ec-6fdc-4b93-8567-55ea6fe32c89",
   "metadata": {},
   "outputs": [
    {
     "data": {
      "text/plain": [
       "0.4887794256210327"
      ]
     },
     "execution_count": 86,
     "metadata": {},
     "output_type": "execute_result"
    }
   ],
   "source": [
    "accuracy"
   ]
  },
  {
   "cell_type": "markdown",
   "id": "643f36cc-3fe5-415b-809f-fff2b3a2ea7c",
   "metadata": {},
   "source": [
    "### conv2d"
   ]
  },
  {
   "cell_type": "code",
   "execution_count": 3,
   "id": "ba81540d-b0db-442c-b228-ebd6380d46ee",
   "metadata": {},
   "outputs": [],
   "source": [
    "# train_ = np.array(train.iloc[:,:-3])\n",
    "train_target = np.array(train.iloc[:,-3])\n",
    "# test_= np.array(test.iloc[:,:-3])\n",
    "test_target= np.array(test.iloc[:,-3])"
   ]
  },
  {
   "cell_type": "code",
   "execution_count": 4,
   "id": "f5596d06-011d-4bae-970f-1d4c76d0b541",
   "metadata": {},
   "outputs": [],
   "source": [
    "mtf = MarkovTransitionField(image_size=30)\n",
    "im_train = mtf.fit_transform(train.iloc[:,:-3])\n",
    "im_test = mtf.transform(test.iloc[:,:-3])"
   ]
  },
  {
   "cell_type": "code",
   "execution_count": 5,
   "id": "1dd72cf4-da82-48d3-95e7-78c8e269074f",
   "metadata": {},
   "outputs": [],
   "source": [
    "train_X = im_train.reshape((im_train.shape[0], im_train.shape[1], im_train.shape[2],1))\n",
    "test_X = im_test.reshape((im_test.shape[0], im_test.shape[1], im_test.shape[2],1))"
   ]
  },
  {
   "cell_type": "code",
   "execution_count": 8,
   "id": "058decfe-3c4c-4b64-a6cd-9a3ae339f0be",
   "metadata": {},
   "outputs": [],
   "source": [
    "def model2(train_data, train_target, x_test, y_test,):\n",
    "    LR = 1e-3\n",
    "    batch_size = 128\n",
    "    n_epochs = 500\n",
    "    model2d = Sequential()\n",
    "    model2d.add(Conv2D(32, kernel_size=(3, 3), activation='relu', input_shape=train_data.shape[1:]))\n",
    "    model2d.add(BatchNormalization())\n",
    "    # model2d.add(Conv2D(32, kernel_size=(3, 3), activation='relu'))\n",
    "    # model2d.add(BatchNormalization())\n",
    "    # model2d.add(Conv2D(32, kernel_size=(3, 3), strides=2, padding='same', activation='relu'))\n",
    "    # model2d.add(BatchNormalization())\n",
    "    # model2d.add(Dropout(0.4))\n",
    "    # model2d.add(Conv2D(64, kernel_size=(3, 3), activation='relu'))\n",
    "    # model2d.add(BatchNormalization()),\n",
    "    # model2d.add(Conv2D(64, kernel_size=(3, 3), activation='relu'))\n",
    "    # model2d.add(BatchNormalization()),\n",
    "    model2d.add(Conv2D(64, kernel_size=(3, 3), strides=2, padding='same', activation='relu'))\n",
    "    model2d.add(BatchNormalization()),\n",
    "    model2d.add(Dropout(0.4)),\n",
    "    model2d.add(Conv2D(128, kernel_size=4, activation='relu'))\n",
    "    model2d.add(BatchNormalization())\n",
    "    model2d.add(Flatten())\n",
    "    model2d.add(Dropout(0.4))\n",
    "    model2d.add(Dense(1, activation='sigmoid'))\n",
    "    model2d.compile(optimizer=keras.optimizers.Adam(lr=LR), loss='binary_crossentropy', metrics=[\"accuracy\"])\n",
    "    model2d.fit(train_data, train_target, epochs=n_epochs, batch_size=batch_size, verbose=0,validation_split=0.25)\n",
    "    print(\"Evaluate on test data\")\n",
    "    results = model2d.evaluate(x_test, y_test, batch_size=128)\n",
    "    print(\"test loss, test acc:\", results)\n",
    "    return model2d"
   ]
  },
  {
   "cell_type": "code",
   "execution_count": 9,
   "id": "af2a848c-b9f6-4856-b406-3e7ced15cd0a",
   "metadata": {},
   "outputs": [
    {
     "name": "stdout",
     "output_type": "stream",
     "text": [
      "Evaluate on test data\n",
      "15/15 [==============================] - 1s 53ms/step - loss: 2.7695 - accuracy: 0.4979\n",
      "test loss, test acc: [2.769523859024048, 0.49787911772727966]\n"
     ]
    }
   ],
   "source": [
    "mdl2 = model2(train_X, train_target, test_X, test_target)"
   ]
  },
  {
   "cell_type": "code",
   "execution_count": 11,
   "id": "189b2ec3-e6aa-4d90-8fc6-7c9ad28a542c",
   "metadata": {},
   "outputs": [
    {
     "name": "stderr",
     "output_type": "stream",
     "text": [
      "/Users/yutingmei/opt/anaconda3/envs/team_env/lib/python3.9/site-packages/tensorflow/python/keras/engine/sequential.py:450: UserWarning: `model.predict_classes()` is deprecated and will be removed after 2021-01-01. Please use instead:* `np.argmax(model.predict(x), axis=-1)`,   if your model does multi-class classification   (e.g. if it uses a `softmax` last-layer activation).* `(model.predict(x) > 0.5).astype(\"int32\")`,   if your model does binary classification   (e.g. if it uses a `sigmoid` last-layer activation).\n",
      "  warnings.warn('`model.predict_classes()` is deprecated and '\n"
     ]
    }
   ],
   "source": [
    "yhat = mdl2.predict_classes(test_X)"
   ]
  },
  {
   "cell_type": "code",
   "execution_count": 23,
   "id": "095e5dc4-f33c-45a3-b850-e408101d5c52",
   "metadata": {},
   "outputs": [],
   "source": [
    "path_yp = '/Users/yutingmei/Projects/APlusBernstein-Project/model/cnn/'\n",
    "pd.DataFrame(yhat).to_csv(path_yp + 'ypred_1st.csv', index = False)"
   ]
  },
  {
   "cell_type": "markdown",
   "id": "25dfd9e7-600a-4abc-a58e-5b2ac022b302",
   "metadata": {},
   "source": [
    "#### * try weighted strategy version"
   ]
  },
  {
   "cell_type": "code",
   "execution_count": 27,
   "id": "ad1afca0-7868-45fa-a959-51d6e89a25ad",
   "metadata": {},
   "outputs": [],
   "source": [
    "# do quantile transformation first for weighted version\n",
    "X = df2.iloc[:, :-3]\n",
    "quantile = QuantileTransformer(output_distribution='normal')\n",
    "X_trans = quantile.fit_transform(X)"
   ]
  },
  {
   "cell_type": "code",
   "execution_count": 32,
   "id": "1ee9a5cf-e80a-43e1-bf48-cfdb929538fd",
   "metadata": {},
   "outputs": [],
   "source": [
    "X_trans = pd.DataFrame(X_trans, columns = X.columns, index = X.index)"
   ]
  },
  {
   "cell_type": "code",
   "execution_count": 40,
   "id": "d89f2a02-b0a3-42b5-ab99-0b0acc489222",
   "metadata": {},
   "outputs": [],
   "source": [
    "def traintest_split(proportion, df):\n",
    "    test_size = math.ceil(df.shape[0] * proportion)\n",
    "\n",
    "    X_train = df[:-test_size]\n",
    "    X_test = df[-test_size:]\n",
    "    return X_train, X_test"
   ]
  },
  {
   "cell_type": "code",
   "execution_count": 41,
   "id": "b36afbd3-e507-4460-98f0-7f888dd20454",
   "metadata": {},
   "outputs": [],
   "source": [
    "trainw, testw = traintest_split(.2, df2)"
   ]
  },
  {
   "cell_type": "code",
   "execution_count": 42,
   "id": "d0fd7271-0417-4d1e-b0da-13f4d7a43dfa",
   "metadata": {},
   "outputs": [],
   "source": [
    "def trans_shape_2d(train, test, i, img_size):\n",
    "    train_target = np.array(train.iloc[:,i])\n",
    "    test_target= np.array(test.iloc[:,i])\n",
    "    mtf = MarkovTransitionField(image_size=img_size)\n",
    "    im_train = mtf.fit_transform(train.iloc[:,:i])\n",
    "    im_test = mtf.transform(test.iloc[:,:i])\n",
    "    train_X = im_train.reshape((im_train.shape[0], im_train.shape[1], im_train.shape[2],1))\n",
    "    test_X = im_test.reshape((im_test.shape[0], im_test.shape[1], im_test.shape[2],1))\n",
    "    return train_X, test_X, train_target, test_target"
   ]
  },
  {
   "cell_type": "code",
   "execution_count": 43,
   "id": "c394002c-3622-4d1c-83cd-970754fbfd35",
   "metadata": {},
   "outputs": [],
   "source": [
    "X_trainw, X_testw, y_trainw, y_testw = trans_shape_2d(trainw, testw, -3, 30)"
   ]
  },
  {
   "cell_type": "code",
   "execution_count": 44,
   "id": "4068a011-dbb4-45b3-9773-ddaa91ea8de8",
   "metadata": {},
   "outputs": [
    {
     "name": "stdout",
     "output_type": "stream",
     "text": [
      "Evaluate on test data\n",
      "9/9 [==============================] - 0s 50ms/step - loss: 1.0970 - accuracy: 0.5344\n",
      "test loss, test acc: [1.0969626903533936, 0.534401535987854]\n"
     ]
    }
   ],
   "source": [
    "# accuracy improved!!\n",
    "mdl2w = model2(X_trainw, y_trainw, X_testw, y_testw)"
   ]
  },
  {
   "cell_type": "code",
   "execution_count": 45,
   "id": "4bab1c17-9b05-4610-b8c4-fec9afaed641",
   "metadata": {},
   "outputs": [
    {
     "name": "stderr",
     "output_type": "stream",
     "text": [
      "/Users/yutingmei/opt/anaconda3/envs/team_env/lib/python3.9/site-packages/tensorflow/python/keras/engine/sequential.py:450: UserWarning: `model.predict_classes()` is deprecated and will be removed after 2021-01-01. Please use instead:* `np.argmax(model.predict(x), axis=-1)`,   if your model does multi-class classification   (e.g. if it uses a `softmax` last-layer activation).* `(model.predict(x) > 0.5).astype(\"int32\")`,   if your model does binary classification   (e.g. if it uses a `sigmoid` last-layer activation).\n",
      "  warnings.warn('`model.predict_classes()` is deprecated and '\n"
     ]
    }
   ],
   "source": [
    "yhatw = mdl2w.predict_classes(X_testw)"
   ]
  },
  {
   "cell_type": "code",
   "execution_count": 47,
   "id": "bfd98163-6650-4d55-a412-fc93d20eab2f",
   "metadata": {},
   "outputs": [],
   "source": [
    "path_yp = '/Users/yutingmei/Projects/APlusBernstein-Project/model/cnn/'\n",
    "pd.DataFrame(yhatw).to_csv(path_yp + 'ypred_w_1st.csv', index = False)"
   ]
  },
  {
   "cell_type": "markdown",
   "id": "4537dd4d-e612-45a0-a63a-da9a5cfa24ef",
   "metadata": {},
   "source": [
    "* try weighted + add moving avg, moving vol"
   ]
  },
  {
   "cell_type": "code",
   "execution_count": 16,
   "id": "7919ff9b-7b76-4ee5-9b92-dfc8e77c8fc5",
   "metadata": {},
   "outputs": [],
   "source": [
    "def q_trans(df,i):\n",
    "    X = df.iloc[:, :-i]\n",
    "    quantile = QuantileTransformer(output_distribution='normal')\n",
    "    X_trans = quantile.fit_transform(X)\n",
    "    X_trans = pd.DataFrame(X_trans, columns = X.columns, index = X.index)\n",
    "    trans = pd.concat([X_trans, df.iloc[:,-i:]], axis=1)\n",
    "    return trans"
   ]
  },
  {
   "cell_type": "code",
   "execution_count": 56,
   "id": "784d76c6-a904-41ed-98f7-7f2c75e0f13d",
   "metadata": {},
   "outputs": [],
   "source": [
    "trans = q_trans(df3,3)"
   ]
  },
  {
   "cell_type": "code",
   "execution_count": 57,
   "id": "003d8958-e4d9-4fff-9d3f-af0df78b7779",
   "metadata": {},
   "outputs": [],
   "source": [
    "trainwa, testwa = traintest_split(.2, trans)"
   ]
  },
  {
   "cell_type": "code",
   "execution_count": 58,
   "id": "6a214a6e-46f2-424b-8eb2-d1b75025bba6",
   "metadata": {},
   "outputs": [],
   "source": [
    "X_trainwa, X_testwa, y_trainwa, y_testwa = trans_shape_2d(trainwa, testwa, -3, 30)"
   ]
  },
  {
   "cell_type": "code",
   "execution_count": 62,
   "id": "c8b4c851-60f5-4f03-81be-084e24d33fbb",
   "metadata": {},
   "outputs": [
    {
     "name": "stdout",
     "output_type": "stream",
     "text": [
      "Evaluate on test data\n",
      "9/9 [==============================] - 1s 54ms/step - loss: 1.2017 - accuracy: 0.5014\n",
      "test loss, test acc: [1.2016968727111816, 0.5014137625694275]\n"
     ]
    }
   ],
   "source": [
    "# accuracy decrease, might be the reason of adding too much features but not enough data\n",
    "mdl2wa = model2(X_trainwa, y_trainwa, X_testwa, y_testwa)"
   ]
  },
  {
   "cell_type": "code",
   "execution_count": 63,
   "id": "0df9ff35-5094-4a17-97eb-68808a2ccbd0",
   "metadata": {},
   "outputs": [
    {
     "name": "stderr",
     "output_type": "stream",
     "text": [
      "/Users/yutingmei/opt/anaconda3/envs/team_env/lib/python3.9/site-packages/tensorflow/python/keras/engine/sequential.py:450: UserWarning: `model.predict_classes()` is deprecated and will be removed after 2021-01-01. Please use instead:* `np.argmax(model.predict(x), axis=-1)`,   if your model does multi-class classification   (e.g. if it uses a `softmax` last-layer activation).* `(model.predict(x) > 0.5).astype(\"int32\")`,   if your model does binary classification   (e.g. if it uses a `sigmoid` last-layer activation).\n",
      "  warnings.warn('`model.predict_classes()` is deprecated and '\n"
     ]
    }
   ],
   "source": [
    "yhatwa = mdl2wa.predict_classes(X_testwa)"
   ]
  },
  {
   "cell_type": "code",
   "execution_count": 64,
   "id": "8ec2fa66-bf28-43fe-abcb-5d71bf8008dc",
   "metadata": {},
   "outputs": [],
   "source": [
    "path_yp = '/Users/yutingmei/Projects/APlusBernstein-Project/model/cnn/'\n",
    "pd.DataFrame(yhatwa).to_csv(path_yp + 'ypred_w_2st.csv', index = False)"
   ]
  },
  {
   "cell_type": "markdown",
   "id": "ce700027-35b9-4022-8dae-852eb3ae1889",
   "metadata": {},
   "source": [
    "* try data augmentation"
   ]
  },
  {
   "cell_type": "code",
   "execution_count": 18,
   "id": "1f336354",
   "metadata": {},
   "outputs": [],
   "source": [
    "from tsaug import TimeWarp, Crop, Quantize, Drift, Reverse\n",
    "import pandas as pd\n",
    "import numpy as np\n",
    "import os\n",
    "import glob\n",
    "from pyts.image import MarkovTransitionField\n",
    "from sklearn.preprocessing import QuantileTransformer"
   ]
  },
  {
   "cell_type": "code",
   "execution_count": 19,
   "id": "aae726e3",
   "metadata": {},
   "outputs": [],
   "source": [
    "transag = q_trans(df2,3)"
   ]
  },
  {
   "cell_type": "code",
   "execution_count": 23,
   "id": "ee78c74c",
   "metadata": {},
   "outputs": [],
   "source": [
    "transag_x = transag.iloc[:,:-3]\n",
    "transag_y = transag.iloc[:,-3]"
   ]
  },
  {
   "cell_type": "code",
   "execution_count": 14,
   "id": "9c40a9b2",
   "metadata": {},
   "outputs": [],
   "source": [
    "augmenter = (\n",
    "    TimeWarp() * 5  # random time warping 5 times in parallel\n",
    "    + Crop(size=300)  # random crop subsequences with length 300\n",
    "    + Drift(max_drift=(0.1, 0.5)) @ 0.8  # with 80% probability, random drift the signal up to 10% - 50%\n",
    "    + Reverse() @ 0.2  # with 50% probability, reverse the sequence\n",
    ")"
   ]
  },
  {
   "cell_type": "code",
   "execution_count": 28,
   "id": "53769d83",
   "metadata": {},
   "outputs": [],
   "source": [
    "mtf = MarkovTransitionField(image_size=30)\n",
    "im_x = mtf.fit_transform(transag_x)\n",
    "x = im_x.reshape((im_x.shape[0], im_x.shape[1], im_x.shape[2],1))"
   ]
  },
  {
   "cell_type": "code",
   "execution_count": 37,
   "id": "14a9bab8",
   "metadata": {},
   "outputs": [],
   "source": [
    "transag_x = np.array(transag.iloc[:,:-3])\n",
    "X = transag_x.reshape((transag_x.shape[0], transag_x.shape[1], 1))"
   ]
  },
  {
   "cell_type": "code",
   "execution_count": 47,
   "id": "27a2e37c",
   "metadata": {},
   "outputs": [],
   "source": [
    "y = np.arange(len(df2))"
   ]
  },
  {
   "cell_type": "code",
   "execution_count": 32,
   "id": "3aaa30ea",
   "metadata": {},
   "outputs": [],
   "source": [
    "# y = transag.iloc[:,-3]\n",
    "# y = np.array(y)"
   ]
  },
  {
   "cell_type": "code",
   "execution_count": 49,
   "id": "02c21b62",
   "metadata": {},
   "outputs": [],
   "source": [
    "# x_aug, y_aug = augmenter.augment(y, transag_x)"
   ]
  },
  {
   "cell_type": "code",
   "execution_count": null,
   "id": "49ac9b24",
   "metadata": {},
   "outputs": [],
   "source": []
  }
 ],
 "metadata": {
  "kernelspec": {
   "display_name": "Python 3 (ipykernel)",
   "language": "python",
   "name": "python3"
  },
  "language_info": {
   "codemirror_mode": {
    "name": "ipython",
    "version": 3
   },
   "file_extension": ".py",
   "mimetype": "text/x-python",
   "name": "python",
   "nbconvert_exporter": "python",
   "pygments_lexer": "ipython3",
   "version": "3.9.7"
  }
 },
 "nbformat": 4,
 "nbformat_minor": 5
}
