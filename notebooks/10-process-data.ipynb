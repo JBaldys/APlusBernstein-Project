{
 "cells": [
  {
   "cell_type": "markdown",
   "metadata": {},
   "source": [
    "# 10-process-data\n",
    "> Importing, cleaning, testing, and saving data\n",
    "\n",
    "This series of notebooks reflects operations to scrape, prepare, validate, and save the data."
   ]
  },
  {
   "cell_type": "markdown",
   "metadata": {},
   "source": [
    "#### Partition dataset with categories and subcategories "
   ]
  },
  {
   "cell_type": "code",
   "execution_count": 1,
   "metadata": {},
   "outputs": [],
   "source": [
    "import sys\n",
    "from pathlib import Path\n",
    "import dask.dataframe as dd \n",
    "import dask as dk\n",
    "import pandas as pd \n",
    "import pyarrow\n",
    "import re\n",
    "\n",
    "sys.path.append(str(Path().resolve().parent))\n",
    "\n",
    "from src.constants import raw_data_dir, processed_data_dir, raw_data_name"
   ]
  },
  {
   "cell_type": "code",
   "execution_count": 3,
   "metadata": {},
   "outputs": [],
   "source": [
    "def read_sheet(sheet: int):\n",
    "    return dk.delayed(pd.read_excel)(raw_data_dir / raw_data_name, sheet_name = sheet)"
   ]
  },
  {
   "cell_type": "code",
   "execution_count": 6,
   "metadata": {},
   "outputs": [],
   "source": [
    "ddf_factors = read_sheet(1)\n",
    "ddf_categories = read_sheet(2)\n",
    "\n",
    "ddf_factors_long = ddf_factors.melt(id_vars = ['Date'], \n",
    "                                    var_name = \"Variable\", \n",
    "                                    value_name = 'value')"
   ]
  },
  {
   "cell_type": "code",
   "execution_count": 14,
   "metadata": {},
   "outputs": [],
   "source": [
    "p = re.compile(r\" |&|/\")\n",
    "\n",
    "ddf_all = ddf_factors_long.merge(ddf_categories, on = 'Variable', how = 'left')\n",
    "ddfs = []\n",
    "categories = ddf_categories[\"Category\"].unique().compute()\n",
    "for c in categories:\n",
    "    factors = ddf_categories.loc[ddf_categories[\"Category\"] == c, \"Variable\"].tolist()\n",
    "    ddf = ddf_factors[factors]\n",
    "\n",
    "    c = p.sub(\"-\", c, 1).replace(\"& \", \"\").lower()\n",
    "    ddfs.append(ddf.to_parquet(processed_data_dir / f\"{c}.parquet\"))\n",
    "    \n",
    "dk.compute(*ddfs)"
   ]
  },
  {
   "cell_type": "markdown",
   "metadata": {},
   "source": [
    "#### Group summary"
   ]
  },
  {
   "cell_type": "code",
   "execution_count": 121,
   "metadata": {},
   "outputs": [],
   "source": [
    "import itertools as it \n",
    "\n",
    "category_split_dir = Path(processed_data_dir) / \"split\" / \"category\"\n",
    "subcategory_split_dir = Path(processed_data_dir) / \"split\" / \"subcategory\"\n",
    "files = it.chain(category_split_dir.glob(\"*.parquet\"), subcategory_split_dir.glob(\"*.parquet\"))"
   ]
  },
  {
   "cell_type": "code",
   "execution_count": 122,
   "metadata": {},
   "outputs": [],
   "source": [
    "summary_dir = processed_data_dir / \"summary\"\n",
    "out = []\n",
    "@dk.delayed\n",
    "def summarize_category(file: str):\n",
    "    aggs = pd.read_parquet(file).agg(\n",
    "        [\"min\", \"max\", \"mean\", \"median\", \"std\", \"skew\", \"kurt\", lambda col: col.isnull().mean()])\n",
    "\n",
    "    aggs.index = [\"min\", \"max\", \"mean\", \"median\", \"std\", \"skewness\", \"kurtosis\", \"pct_missing\"]\n",
    "    \n",
    "    group = file.parents[0].name\n",
    "    c = file.stem\n",
    "    return aggs.to_csv(summary_dir / f\"{group}/{c}.csv\")\n"
   ]
  },
  {
   "cell_type": "code",
   "execution_count": 123,
   "metadata": {},
   "outputs": [],
   "source": [
    "for f in files:\n",
    "    out.append(summarize_category(f))"
   ]
  },
  {
   "cell_type": "code",
   "execution_count": 125,
   "metadata": {},
   "outputs": [
    {
     "data": {
      "text/plain": [
       "([None,\n",
       "  None,\n",
       "  None,\n",
       "  None,\n",
       "  None,\n",
       "  None,\n",
       "  None,\n",
       "  None,\n",
       "  None,\n",
       "  None,\n",
       "  None,\n",
       "  None,\n",
       "  None,\n",
       "  None,\n",
       "  None,\n",
       "  None,\n",
       "  None,\n",
       "  None,\n",
       "  None,\n",
       "  None,\n",
       "  None,\n",
       "  None,\n",
       "  None],)"
      ]
     },
     "execution_count": 125,
     "metadata": {},
     "output_type": "execute_result"
    }
   ],
   "source": [
    "dk.compute(out)"
   ]
  }
 ],
 "metadata": {
  "kernelspec": {
   "display_name": "Python 3",
   "language": "python",
   "name": "python3"
  },
  "language_info": {
   "codemirror_mode": {
    "name": "ipython",
    "version": 3
   },
   "file_extension": ".py",
   "mimetype": "text/x-python",
   "name": "python",
   "nbconvert_exporter": "python",
   "pygments_lexer": "ipython3",
   "version": "3.9.12"
  }
 },
 "nbformat": 4,
 "nbformat_minor": 4
}
