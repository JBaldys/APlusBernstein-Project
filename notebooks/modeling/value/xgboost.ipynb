{
 "cells": [
  {
   "cell_type": "code",
   "execution_count": 11,
   "metadata": {},
   "outputs": [],
   "source": [
    "from xgboost import XGBClassifier\n",
    "\n",
    "import sys\n",
    "from pathlib import Path\n",
    "import pandas as pd \n",
    "import numpy as np\n",
    "sys.path.append(str(Path(\"../../..\").resolve()))\n",
    "from src.constants import model_data_dir"
   ]
  },
  {
   "cell_type": "code",
   "execution_count": 12,
   "metadata": {},
   "outputs": [],
   "source": [
    "remove_cols = [\"sc_1d_fwd_rel_d\", \"mom_1d_fwd_rel_d\"]\n",
    "\n",
    "df_train = pd.read_csv(model_data_dir / \"train_classification.csv\").drop(remove_cols + [\"Date\"], axis=1)\n",
    "df_test = pd.read_csv(model_data_dir / \"test_classification.csv\").drop(remove_cols, axis=1)\n",
    "test_dates = pd.to_datetime(df_test[\"Date\"])\n",
    "df_test.drop(\"Date\", axis=1, inplace=True)"
   ]
  },
  {
   "cell_type": "code",
   "execution_count": 13,
   "metadata": {},
   "outputs": [],
   "source": [
    "((y_train, x_train), (y_test, x_test)) = ((df_train.pop(\"value_1d_fwd_rel_d\"), df_train), (df_test.pop(\"value_1d_fwd_rel_d\"), df_test))"
   ]
  },
  {
   "cell_type": "code",
   "execution_count": 14,
   "metadata": {},
   "outputs": [],
   "source": [
    "xgb_classifier = XGBClassifier(early_stopping_rounds=2)"
   ]
  },
  {
   "cell_type": "code",
   "execution_count": 15,
   "metadata": {},
   "outputs": [
    {
     "name": "stdout",
     "output_type": "stream",
     "text": [
      "[0]\tvalidation_0-logloss:0.69768\n",
      "[1]\tvalidation_0-logloss:0.70487\n"
     ]
    }
   ],
   "source": [
    "xgb_classifier.fit(x_train, y_train,\n",
    "                eval_set=[(x_test, y_test)])\n",
    "y_pred = xgb_classifier.predict(x_test)"
   ]
  },
  {
   "cell_type": "code",
   "execution_count": 18,
   "metadata": {},
   "outputs": [
    {
     "data": {
      "text/plain": [
       "0.49893955461293743"
      ]
     },
     "execution_count": 18,
     "metadata": {},
     "output_type": "execute_result"
    }
   ],
   "source": [
    "np.mean(y_pred == y_test)"
   ]
  }
 ],
 "metadata": {
  "interpreter": {
   "hash": "eb74c8d9ad66af7fcab0b82fb03282332e8e98e671d4c74408809bf0c7d3f73d"
  },
  "kernelspec": {
   "display_name": "Python 3.9.12 ('venv': venv)",
   "language": "python",
   "name": "python3"
  },
  "language_info": {
   "codemirror_mode": {
    "name": "ipython",
    "version": 3
   },
   "file_extension": ".py",
   "mimetype": "text/x-python",
   "name": "python",
   "nbconvert_exporter": "python",
   "pygments_lexer": "ipython3",
   "version": "3.9.12"
  },
  "orig_nbformat": 4
 },
 "nbformat": 4,
 "nbformat_minor": 2
}
