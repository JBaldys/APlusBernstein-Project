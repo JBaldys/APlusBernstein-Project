{
 "cells": [
  {
   "cell_type": "code",
   "execution_count": 44,
   "metadata": {},
   "outputs": [],
   "source": [
    "import sys\n",
    "from pathlib import Path\n",
    "import pandas as pd \n",
    "import numpy as np\n",
    "import keras\n",
    "from keras.layers import LSTM, Dense, Dropout, LeakyReLU\n",
    "from keras.models import Sequential\n",
    "from keras.preprocessing.sequence import TimeseriesGenerator\n",
    "sys.path.append(str(Path(\"../../..\").resolve()))\n",
    "from src.constants import model_data_dir\n"
   ]
  },
  {
   "cell_type": "code",
   "execution_count": 68,
   "metadata": {},
   "outputs": [],
   "source": [
    "df_train = pd.read_csv(model_data_dir / \"train_regression.csv\").drop([\"Date\", \"sc_1d_fwd_rel_ret\", \"mom_1d_fwd_rel_ret\"], axis=1)\n",
    "df_test = pd.read_csv(model_data_dir / \"test_regression.csv\").drop([\"sc_1d_fwd_rel_ret\", \"mom_1d_fwd_rel_ret\"], axis=1)\n",
    "test_dates = pd.to_datetime(df_test[\"Date\"])\n",
    "df_test.drop(\"Date\", axis=1, inplace=True)"
   ]
  },
  {
   "cell_type": "code",
   "execution_count": 35,
   "metadata": {},
   "outputs": [],
   "source": [
    "((y_train, x_train), (y_test, x_test)) = ((df_train.pop(\"value_1d_fwd_rel_ret\"), df_train), (df_test.pop(\"value_1d_fwd_rel_ret\"), df_test))"
   ]
  },
  {
   "cell_type": "code",
   "execution_count": 81,
   "metadata": {},
   "outputs": [],
   "source": [
    "win_length = 30\n",
    "batch_size = 90\n",
    "num_features = x_train.shape[1]\n",
    "train_generator = TimeseriesGenerator(x_train, y_train, length=win_length, sampling_rate=1, batch_size=batch_size)\n",
    "test_generator = TimeseriesGenerator(x_test, y_test, length=win_length, sampling_rate=1, batch_size=batch_size)\n"
   ]
  },
  {
   "cell_type": "code",
   "execution_count": 82,
   "metadata": {},
   "outputs": [],
   "source": [
    "model = Sequential()\n",
    "model.add(LSTM(128, input_shape= (win_length, num_features), return_sequences=True))\n",
    "model.add(LeakyReLU(alpha=0.5)) \n",
    "model.add(LSTM(128, return_sequences=True))\n",
    "model.add(LeakyReLU(alpha=0.5)) \n",
    "model.add(Dropout(0.3)) \n",
    "model.add(LSTM(64, return_sequences=False))\n",
    "model.add(Dropout(0.3)) \n",
    "model.add(Dense(1))"
   ]
  },
  {
   "cell_type": "code",
   "execution_count": 83,
   "metadata": {},
   "outputs": [
    {
     "name": "stdout",
     "output_type": "stream",
     "text": [
      "Model: \"sequential_3\"\n",
      "_________________________________________________________________\n",
      " Layer (type)                Output Shape              Param #   \n",
      "=================================================================\n",
      " lstm_7 (LSTM)               (None, 30, 128)           115712    \n",
      "                                                                 \n",
      " leaky_re_lu_4 (LeakyReLU)   (None, 30, 128)           0         \n",
      "                                                                 \n",
      " lstm_8 (LSTM)               (None, 30, 128)           131584    \n",
      "                                                                 \n",
      " leaky_re_lu_5 (LeakyReLU)   (None, 30, 128)           0         \n",
      "                                                                 \n",
      " dropout_4 (Dropout)         (None, 30, 128)           0         \n",
      "                                                                 \n",
      " lstm_9 (LSTM)               (None, 64)                49408     \n",
      "                                                                 \n",
      " dropout_5 (Dropout)         (None, 64)                0         \n",
      "                                                                 \n",
      " dense_2 (Dense)             (None, 1)                 65        \n",
      "                                                                 \n",
      "=================================================================\n",
      "Total params: 296,769\n",
      "Trainable params: 296,769\n",
      "Non-trainable params: 0\n",
      "_________________________________________________________________\n"
     ]
    }
   ],
   "source": [
    "model.summary()"
   ]
  },
  {
   "cell_type": "code",
   "execution_count": 84,
   "metadata": {},
   "outputs": [
    {
     "name": "stdout",
     "output_type": "stream",
     "text": [
      "Epoch 1/50\n"
     ]
    },
    {
     "name": "stderr",
     "output_type": "stream",
     "text": [
      "/var/folders/r2/ycy8hp_54yd7bxc_0kyb5trm0000gn/T/ipykernel_20178/2311332047.py:5: UserWarning: `Model.fit_generator` is deprecated and will be removed in a future version. Please use `Model.fit`, which supports generators.\n",
      "  history = model.fit_generator(train_generator, epochs=50,\n"
     ]
    },
    {
     "name": "stdout",
     "output_type": "stream",
     "text": [
      "38/38 [==============================] - 13s 155ms/step - loss: 0.0096 - mean_absolute_error: 0.0550 - val_loss: 1.6515e-04 - val_mean_absolute_error: 0.0122\n",
      "Epoch 2/50\n",
      "38/38 [==============================] - 4s 118ms/step - loss: 1.7630e-04 - mean_absolute_error: 0.0104 - val_loss: 1.8691e-05 - val_mean_absolute_error: 0.0030\n",
      "Epoch 3/50\n",
      "38/38 [==============================] - 4s 105ms/step - loss: 9.1839e-05 - mean_absolute_error: 0.0076 - val_loss: 1.8419e-05 - val_mean_absolute_error: 0.0029\n",
      "Epoch 4/50\n",
      "38/38 [==============================] - 4s 117ms/step - loss: 7.5900e-05 - mean_absolute_error: 0.0069 - val_loss: 1.8004e-05 - val_mean_absolute_error: 0.0029\n",
      "Epoch 5/50\n",
      "38/38 [==============================] - 5s 120ms/step - loss: 6.1615e-05 - mean_absolute_error: 0.0062 - val_loss: 1.7963e-05 - val_mean_absolute_error: 0.0029\n",
      "Epoch 6/50\n",
      "38/38 [==============================] - 4s 108ms/step - loss: 4.9957e-05 - mean_absolute_error: 0.0056 - val_loss: 1.8084e-05 - val_mean_absolute_error: 0.0029\n",
      "Epoch 7/50\n",
      "38/38 [==============================] - 5s 121ms/step - loss: 4.2600e-05 - mean_absolute_error: 0.0052 - val_loss: 1.7997e-05 - val_mean_absolute_error: 0.0029\n",
      "Epoch 8/50\n",
      "38/38 [==============================] - 5s 121ms/step - loss: 3.4293e-05 - mean_absolute_error: 0.0046 - val_loss: 1.8086e-05 - val_mean_absolute_error: 0.0029\n",
      "Epoch 9/50\n",
      "38/38 [==============================] - 4s 110ms/step - loss: 2.9952e-05 - mean_absolute_error: 0.0043 - val_loss: 1.7786e-05 - val_mean_absolute_error: 0.0028\n",
      "Epoch 10/50\n",
      "38/38 [==============================] - 5s 121ms/step - loss: 2.7414e-05 - mean_absolute_error: 0.0041 - val_loss: 1.7679e-05 - val_mean_absolute_error: 0.0028\n",
      "Epoch 11/50\n",
      "38/38 [==============================] - 5s 123ms/step - loss: 2.3716e-05 - mean_absolute_error: 0.0038 - val_loss: 1.7926e-05 - val_mean_absolute_error: 0.0029\n",
      "Epoch 12/50\n",
      "38/38 [==============================] - 4s 112ms/step - loss: 2.2577e-05 - mean_absolute_error: 0.0037 - val_loss: 1.8068e-05 - val_mean_absolute_error: 0.0029\n",
      "Epoch 13/50\n",
      "38/38 [==============================] - 5s 123ms/step - loss: 2.0236e-05 - mean_absolute_error: 0.0035 - val_loss: 1.8229e-05 - val_mean_absolute_error: 0.0029\n",
      "Epoch 14/50\n",
      "38/38 [==============================] - 5s 120ms/step - loss: 1.8468e-05 - mean_absolute_error: 0.0033 - val_loss: 1.7962e-05 - val_mean_absolute_error: 0.0029\n",
      "Epoch 15/50\n",
      "38/38 [==============================] - 4s 112ms/step - loss: 1.7382e-05 - mean_absolute_error: 0.0032 - val_loss: 1.8345e-05 - val_mean_absolute_error: 0.0029\n",
      "Epoch 16/50\n",
      "38/38 [==============================] - 5s 110ms/step - loss: 1.6645e-05 - mean_absolute_error: 0.0031 - val_loss: 1.8943e-05 - val_mean_absolute_error: 0.0030\n",
      "Epoch 17/50\n",
      "38/38 [==============================] - 5s 122ms/step - loss: 1.5373e-05 - mean_absolute_error: 0.0030 - val_loss: 2.0862e-05 - val_mean_absolute_error: 0.0033\n",
      "Epoch 18/50\n",
      "38/38 [==============================] - 5s 126ms/step - loss: 1.4515e-05 - mean_absolute_error: 0.0029 - val_loss: 1.8806e-05 - val_mean_absolute_error: 0.0030\n",
      "Epoch 19/50\n",
      "38/38 [==============================] - 4s 113ms/step - loss: 1.4155e-05 - mean_absolute_error: 0.0028 - val_loss: 2.0311e-05 - val_mean_absolute_error: 0.0032\n",
      "Epoch 20/50\n",
      "38/38 [==============================] - 5s 125ms/step - loss: 1.3481e-05 - mean_absolute_error: 0.0028 - val_loss: 1.9376e-05 - val_mean_absolute_error: 0.0031\n",
      "Epoch 21/50\n",
      "38/38 [==============================] - 5s 125ms/step - loss: 1.2860e-05 - mean_absolute_error: 0.0027 - val_loss: 1.9672e-05 - val_mean_absolute_error: 0.0031\n",
      "Epoch 22/50\n",
      "38/38 [==============================] - 4s 110ms/step - loss: 1.3018e-05 - mean_absolute_error: 0.0027 - val_loss: 1.8566e-05 - val_mean_absolute_error: 0.0030\n",
      "Epoch 23/50\n",
      "38/38 [==============================] - 5s 122ms/step - loss: 1.2382e-05 - mean_absolute_error: 0.0026 - val_loss: 1.8132e-05 - val_mean_absolute_error: 0.0029\n",
      "Epoch 24/50\n",
      "38/38 [==============================] - 5s 122ms/step - loss: 1.2378e-05 - mean_absolute_error: 0.0026 - val_loss: 1.9960e-05 - val_mean_absolute_error: 0.0032\n",
      "Epoch 25/50\n",
      "38/38 [==============================] - 4s 110ms/step - loss: 1.2027e-05 - mean_absolute_error: 0.0025 - val_loss: 1.8728e-05 - val_mean_absolute_error: 0.0030\n",
      "Epoch 26/50\n",
      "38/38 [==============================] - 5s 122ms/step - loss: 1.1703e-05 - mean_absolute_error: 0.0025 - val_loss: 1.8181e-05 - val_mean_absolute_error: 0.0029\n",
      "Epoch 27/50\n",
      "38/38 [==============================] - 5s 123ms/step - loss: 1.1808e-05 - mean_absolute_error: 0.0025 - val_loss: 1.7916e-05 - val_mean_absolute_error: 0.0029\n",
      "Epoch 28/50\n",
      "38/38 [==============================] - 4s 111ms/step - loss: 1.2357e-05 - mean_absolute_error: 0.0026 - val_loss: 1.8924e-05 - val_mean_absolute_error: 0.0030\n",
      "Epoch 29/50\n",
      "38/38 [==============================] - 5s 122ms/step - loss: 1.1997e-05 - mean_absolute_error: 0.0026 - val_loss: 1.8429e-05 - val_mean_absolute_error: 0.0030\n",
      "Epoch 30/50\n",
      "38/38 [==============================] - 4s 117ms/step - loss: 1.1514e-05 - mean_absolute_error: 0.0025 - val_loss: 1.8963e-05 - val_mean_absolute_error: 0.0030\n",
      "Epoch 31/50\n",
      "38/38 [==============================] - 4s 107ms/step - loss: 1.1361e-05 - mean_absolute_error: 0.0025 - val_loss: 1.8685e-05 - val_mean_absolute_error: 0.0030\n",
      "Epoch 32/50\n",
      "38/38 [==============================] - 5s 123ms/step - loss: 1.1328e-05 - mean_absolute_error: 0.0025 - val_loss: 1.9247e-05 - val_mean_absolute_error: 0.0031\n",
      "Epoch 33/50\n",
      "38/38 [==============================] - 5s 123ms/step - loss: 1.1596e-05 - mean_absolute_error: 0.0025 - val_loss: 1.9077e-05 - val_mean_absolute_error: 0.0031\n",
      "Epoch 34/50\n",
      "38/38 [==============================] - 4s 113ms/step - loss: 1.1052e-05 - mean_absolute_error: 0.0024 - val_loss: 1.8256e-05 - val_mean_absolute_error: 0.0029\n",
      "Epoch 35/50\n",
      "38/38 [==============================] - 5s 124ms/step - loss: 1.1493e-05 - mean_absolute_error: 0.0025 - val_loss: 1.8536e-05 - val_mean_absolute_error: 0.0030\n",
      "Epoch 36/50\n",
      "38/38 [==============================] - 5s 127ms/step - loss: 1.1117e-05 - mean_absolute_error: 0.0024 - val_loss: 1.8615e-05 - val_mean_absolute_error: 0.0030\n",
      "Epoch 37/50\n",
      "38/38 [==============================] - 4s 112ms/step - loss: 1.1482e-05 - mean_absolute_error: 0.0025 - val_loss: 1.8024e-05 - val_mean_absolute_error: 0.0029\n",
      "Epoch 38/50\n",
      "38/38 [==============================] - 5s 123ms/step - loss: 1.1259e-05 - mean_absolute_error: 0.0024 - val_loss: 1.8888e-05 - val_mean_absolute_error: 0.0030\n",
      "Epoch 39/50\n",
      "38/38 [==============================] - 5s 125ms/step - loss: 1.1072e-05 - mean_absolute_error: 0.0024 - val_loss: 1.8360e-05 - val_mean_absolute_error: 0.0029\n",
      "Epoch 40/50\n",
      "38/38 [==============================] - 5s 128ms/step - loss: 1.1132e-05 - mean_absolute_error: 0.0024 - val_loss: 1.7856e-05 - val_mean_absolute_error: 0.0029\n",
      "Epoch 41/50\n",
      "38/38 [==============================] - 4s 116ms/step - loss: 1.1334e-05 - mean_absolute_error: 0.0024 - val_loss: 1.8244e-05 - val_mean_absolute_error: 0.0029\n",
      "Epoch 42/50\n",
      "38/38 [==============================] - 5s 128ms/step - loss: 1.1421e-05 - mean_absolute_error: 0.0025 - val_loss: 1.7952e-05 - val_mean_absolute_error: 0.0029\n",
      "Epoch 43/50\n",
      "38/38 [==============================] - 5s 127ms/step - loss: 1.1072e-05 - mean_absolute_error: 0.0024 - val_loss: 1.8182e-05 - val_mean_absolute_error: 0.0029\n",
      "Epoch 44/50\n",
      "38/38 [==============================] - 4s 104ms/step - loss: 1.1166e-05 - mean_absolute_error: 0.0024 - val_loss: 1.7967e-05 - val_mean_absolute_error: 0.0029\n",
      "Epoch 45/50\n",
      "38/38 [==============================] - 4s 117ms/step - loss: 1.1074e-05 - mean_absolute_error: 0.0024 - val_loss: 1.8110e-05 - val_mean_absolute_error: 0.0029\n",
      "Epoch 46/50\n",
      "38/38 [==============================] - 5s 131ms/step - loss: 1.1161e-05 - mean_absolute_error: 0.0024 - val_loss: 1.8621e-05 - val_mean_absolute_error: 0.0030\n",
      "Epoch 47/50\n",
      "38/38 [==============================] - 4s 108ms/step - loss: 1.1170e-05 - mean_absolute_error: 0.0024 - val_loss: 1.8006e-05 - val_mean_absolute_error: 0.0029\n",
      "Epoch 48/50\n",
      "38/38 [==============================] - 5s 120ms/step - loss: 1.1098e-05 - mean_absolute_error: 0.0024 - val_loss: 1.8406e-05 - val_mean_absolute_error: 0.0029\n",
      "Epoch 49/50\n",
      "38/38 [==============================] - 5s 122ms/step - loss: 1.0908e-05 - mean_absolute_error: 0.0024 - val_loss: 1.8918e-05 - val_mean_absolute_error: 0.0030\n",
      "Epoch 50/50\n",
      "38/38 [==============================] - 4s 110ms/step - loss: 1.0852e-05 - mean_absolute_error: 0.0024 - val_loss: 1.8160e-05 - val_mean_absolute_error: 0.0029\n"
     ]
    }
   ],
   "source": [
    "model.compile(loss=keras.losses.MeanSquaredError(),\n",
    "              optimizer=\"adam\",\n",
    "              metrics=[keras.metrics.MeanAbsoluteError()])\n",
    "\n",
    "history = model.fit_generator(train_generator, epochs=50,\n",
    "                    validation_data=test_generator,\n",
    "                    shuffle=False,)"
   ]
  },
  {
   "cell_type": "code",
   "execution_count": 85,
   "metadata": {},
   "outputs": [
    {
     "name": "stderr",
     "output_type": "stream",
     "text": [
      "/var/folders/r2/ycy8hp_54yd7bxc_0kyb5trm0000gn/T/ipykernel_20178/953353012.py:1: UserWarning: `Model.predict_generator` is deprecated and will be removed in a future version. Please use `Model.predict`, which supports generators.\n",
      "  predictions = model.predict_generator(test_generator)\n"
     ]
    }
   ],
   "source": [
    "predictions = model.predict_generator(test_generator)\n",
    "df_preds = pd.DataFrame({\"ds\": test_dates[win_length:], \"y\": y_test[win_length:], })\n",
    "df_preds[\"yhat\"] = predictions.flatten()"
   ]
  },
  {
   "cell_type": "code",
   "execution_count": 86,
   "metadata": {},
   "outputs": [
    {
     "data": {
      "text/plain": [
       "<AxesSubplot:>"
      ]
     },
     "execution_count": 86,
     "metadata": {},
     "output_type": "execute_result"
    },
    {
     "data": {
      "image/png": "[encoded data removed]",
      "text/plain": [
       "<Figure size 432x288 with 1 Axes>"
      ]
     },
     "metadata": {
      "needs_background": "light"
     },
     "output_type": "display_data"
    }
   ],
   "source": [
    "df_preds[[\"y\", \"yhat\"]].plot()"
   ]
  }
 ],
 "metadata": {
  "interpreter": {
   "hash": "eb74c8d9ad66af7fcab0b82fb03282332e8e98e671d4c74408809bf0c7d3f73d"
  },
  "kernelspec": {
   "display_name": "Python 3.9.12 ('venv': venv)",
   "language": "python",
   "name": "python3"
  },
  "language_info": {
   "codemirror_mode": {
    "name": "ipython",
    "version": 3
   },
   "file_extension": ".py",
   "mimetype": "text/x-python",
   "name": "python",
   "nbconvert_exporter": "python",
   "pygments_lexer": "ipython3",
   "version": "3.9.12"
  },
  "orig_nbformat": 4
 },
 "nbformat": 4,
 "nbformat_minor": 2
}
