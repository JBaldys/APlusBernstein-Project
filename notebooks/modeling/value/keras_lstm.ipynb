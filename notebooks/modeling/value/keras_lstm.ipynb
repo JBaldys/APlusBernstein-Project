{
 "cells": [
  {
   "cell_type": "code",
   "execution_count": 111,
   "metadata": {},
   "outputs": [],
   "source": [
    "import sys\n",
    "from pathlib import Path\n",
    "import pandas as pd \n",
    "import numpy as np\n",
    "import keras\n",
    "from keras.layers import LSTM, Dense, Dropout, LeakyReLU, GRU\n",
    "from keras.models import Sequential\n",
    "from keras.preprocessing.sequence import TimeseriesGenerator\n",
    "sys.path.append(str(Path(\"../../..\").resolve()))\n",
    "from src.constants import model_data_dir\n"
   ]
  },
  {
   "cell_type": "code",
   "execution_count": 112,
   "metadata": {},
   "outputs": [],
   "source": [
    "df_train = pd.read_csv(model_data_dir / \"train_regression.csv\").drop([\"Date\", \"sc_1d_fwd_rel_ret\", \"mom_1d_fwd_rel_ret\"], axis=1)\n",
    "df_test = pd.read_csv(model_data_dir / \"test_regression.csv\").drop([\"sc_1d_fwd_rel_ret\", \"mom_1d_fwd_rel_ret\"], axis=1)\n",
    "test_dates = pd.to_datetime(df_test[\"Date\"])\n",
    "df_test.drop(\"Date\", axis=1, inplace=True)"
   ]
  },
  {
   "cell_type": "code",
   "execution_count": 113,
   "metadata": {},
   "outputs": [],
   "source": [
    "((y_train, x_train), (y_test, x_test)) = ((df_train.pop(\"value_1d_fwd_rel_ret\"), df_train), (df_test.pop(\"value_1d_fwd_rel_ret\"), df_test))"
   ]
  },
  {
   "cell_type": "code",
   "execution_count": 114,
   "metadata": {},
   "outputs": [],
   "source": [
    "win_length = 30\n",
    "batch_size = 90\n",
    "num_features = x_train.shape[1]\n",
    "train_generator = TimeseriesGenerator(x_train, y_train, length=win_length, sampling_rate=1, batch_size=batch_size)\n",
    "test_generator = TimeseriesGenerator(x_test, y_test, length=win_length, sampling_rate=1, batch_size=batch_size)\n"
   ]
  },
  {
   "cell_type": "markdown",
   "metadata": {},
   "source": [
    "## LSTM"
   ]
  },
  {
   "cell_type": "code",
   "execution_count": 115,
   "metadata": {},
   "outputs": [],
   "source": [
    "model = Sequential()\n",
    "model.add(LSTM(128, input_shape= (win_length, num_features), return_sequences=True))\n",
    "model.add(LeakyReLU(alpha=0.5)) \n",
    "model.add(LSTM(128, return_sequences=True))\n",
    "model.add(LeakyReLU(alpha=0.5)) \n",
    "model.add(Dropout(0.3)) \n",
    "model.add(LSTM(64, return_sequences=False))\n",
    "model.add(Dropout(0.3)) \n",
    "model.add(Dense(1))"
   ]
  },
  {
   "cell_type": "code",
   "execution_count": 116,
   "metadata": {},
   "outputs": [
    {
     "name": "stdout",
     "output_type": "stream",
     "text": [
      "Model: \"sequential_6\"\n",
      "_________________________________________________________________\n",
      " Layer (type)                Output Shape              Param #   \n",
      "=================================================================\n",
      " lstm_10 (LSTM)              (None, 30, 128)           115712    \n",
      "                                                                 \n",
      " leaky_re_lu_8 (LeakyReLU)   (None, 30, 128)           0         \n",
      "                                                                 \n",
      " lstm_11 (LSTM)              (None, 30, 128)           131584    \n",
      "                                                                 \n",
      " leaky_re_lu_9 (LeakyReLU)   (None, 30, 128)           0         \n",
      "                                                                 \n",
      " dropout_8 (Dropout)         (None, 30, 128)           0         \n",
      "                                                                 \n",
      " lstm_12 (LSTM)              (None, 64)                49408     \n",
      "                                                                 \n",
      " dropout_9 (Dropout)         (None, 64)                0         \n",
      "                                                                 \n",
      " dense_4 (Dense)             (None, 1)                 65        \n",
      "                                                                 \n",
      "=================================================================\n",
      "Total params: 296,769\n",
      "Trainable params: 296,769\n",
      "Non-trainable params: 0\n",
      "_________________________________________________________________\n"
     ]
    }
   ],
   "source": [
    "model.summary()"
   ]
  },
  {
   "cell_type": "code",
   "execution_count": 117,
   "metadata": {},
   "outputs": [
    {
     "name": "stdout",
     "output_type": "stream",
     "text": [
      "Epoch 1/50\n"
     ]
    },
    {
     "name": "stderr",
     "output_type": "stream",
     "text": [
      "/var/folders/r2/ycy8hp_54yd7bxc_0kyb5trm0000gn/T/ipykernel_20178/2842819395.py:8: UserWarning: `Model.fit_generator` is deprecated and will be removed in a future version. Please use `Model.fit`, which supports generators.\n",
      "  history = model.fit_generator(train_generator, epochs=50,\n"
     ]
    },
    {
     "name": "stdout",
     "output_type": "stream",
     "text": [
      "38/38 [==============================] - 13s 149ms/step - loss: 0.0092 - mean_absolute_error: 0.0540 - val_loss: 2.8327e-05 - val_mean_absolute_error: 0.0040\n",
      "Epoch 2/50\n",
      "38/38 [==============================] - 4s 99ms/step - loss: 1.3762e-04 - mean_absolute_error: 0.0092 - val_loss: 4.2826e-05 - val_mean_absolute_error: 0.0052\n",
      "Epoch 3/50\n",
      "38/38 [==============================] - 4s 117ms/step - loss: 8.4402e-05 - mean_absolute_error: 0.0073 - val_loss: 3.0339e-05 - val_mean_absolute_error: 0.0042\n",
      "Epoch 4/50\n",
      "38/38 [==============================] - 4s 105ms/step - loss: 6.6748e-05 - mean_absolute_error: 0.0065 - val_loss: 3.5676e-05 - val_mean_absolute_error: 0.0047\n",
      "Epoch 5/50\n",
      "38/38 [==============================] - 5s 128ms/step - loss: 5.5453e-05 - mean_absolute_error: 0.0060 - val_loss: 2.6785e-05 - val_mean_absolute_error: 0.0038\n",
      "Epoch 6/50\n",
      "38/38 [==============================] - 5s 127ms/step - loss: 5.1512e-05 - mean_absolute_error: 0.0057 - val_loss: 2.6686e-05 - val_mean_absolute_error: 0.0039\n",
      "Epoch 7/50\n",
      "38/38 [==============================] - 4s 111ms/step - loss: 4.5446e-05 - mean_absolute_error: 0.0054 - val_loss: 2.4874e-05 - val_mean_absolute_error: 0.0037\n",
      "Epoch 8/50\n",
      "38/38 [==============================] - 5s 125ms/step - loss: 4.1173e-05 - mean_absolute_error: 0.0051 - val_loss: 2.3740e-05 - val_mean_absolute_error: 0.0035\n",
      "Epoch 9/50\n",
      "38/38 [==============================] - 4s 109ms/step - loss: 3.7487e-05 - mean_absolute_error: 0.0048 - val_loss: 2.3651e-05 - val_mean_absolute_error: 0.0035\n",
      "Epoch 10/50\n",
      "38/38 [==============================] - 5s 123ms/step - loss: 3.4980e-05 - mean_absolute_error: 0.0047 - val_loss: 2.2803e-05 - val_mean_absolute_error: 0.0034\n",
      "Epoch 11/50\n",
      "38/38 [==============================] - 4s 105ms/step - loss: 3.4557e-05 - mean_absolute_error: 0.0046 - val_loss: 2.3224e-05 - val_mean_absolute_error: 0.0035\n",
      "Epoch 12/50\n",
      "38/38 [==============================] - 5s 133ms/step - loss: 3.1628e-05 - mean_absolute_error: 0.0044 - val_loss: 2.1845e-05 - val_mean_absolute_error: 0.0033\n",
      "Epoch 13/50\n",
      "38/38 [==============================] - 4s 103ms/step - loss: 2.9684e-05 - mean_absolute_error: 0.0043 - val_loss: 2.2051e-05 - val_mean_absolute_error: 0.0034\n",
      "Epoch 14/50\n",
      "38/38 [==============================] - 4s 118ms/step - loss: 2.8948e-05 - mean_absolute_error: 0.0042 - val_loss: 2.2607e-05 - val_mean_absolute_error: 0.0034\n",
      "Epoch 15/50\n",
      "38/38 [==============================] - 5s 120ms/step - loss: 2.8627e-05 - mean_absolute_error: 0.0042 - val_loss: 2.1493e-05 - val_mean_absolute_error: 0.0033\n",
      "Epoch 16/50\n",
      "38/38 [==============================] - 4s 111ms/step - loss: 2.5808e-05 - mean_absolute_error: 0.0040 - val_loss: 2.1163e-05 - val_mean_absolute_error: 0.0033\n",
      "Epoch 17/50\n",
      "38/38 [==============================] - 4s 116ms/step - loss: 2.7421e-05 - mean_absolute_error: 0.0041 - val_loss: 2.0926e-05 - val_mean_absolute_error: 0.0032\n",
      "Epoch 18/50\n",
      "38/38 [==============================] - 4s 117ms/step - loss: 2.4479e-05 - mean_absolute_error: 0.0039 - val_loss: 2.0647e-05 - val_mean_absolute_error: 0.0032\n",
      "Epoch 19/50\n",
      "38/38 [==============================] - 5s 120ms/step - loss: 2.3743e-05 - mean_absolute_error: 0.0038 - val_loss: 2.1168e-05 - val_mean_absolute_error: 0.0033\n",
      "Epoch 20/50\n",
      "38/38 [==============================] - 4s 103ms/step - loss: 2.3243e-05 - mean_absolute_error: 0.0037 - val_loss: 2.0562e-05 - val_mean_absolute_error: 0.0032\n",
      "Epoch 21/50\n",
      "38/38 [==============================] - 5s 124ms/step - loss: 2.1964e-05 - mean_absolute_error: 0.0036 - val_loss: 2.1257e-05 - val_mean_absolute_error: 0.0033\n",
      "Epoch 22/50\n",
      "38/38 [==============================] - 4s 106ms/step - loss: 2.2063e-05 - mean_absolute_error: 0.0036 - val_loss: 2.0601e-05 - val_mean_absolute_error: 0.0032\n",
      "Epoch 23/50\n",
      "38/38 [==============================] - 5s 120ms/step - loss: 2.2443e-05 - mean_absolute_error: 0.0036 - val_loss: 2.0468e-05 - val_mean_absolute_error: 0.0032\n",
      "Epoch 24/50\n",
      "38/38 [==============================] - 5s 123ms/step - loss: 2.0716e-05 - mean_absolute_error: 0.0035 - val_loss: 2.0331e-05 - val_mean_absolute_error: 0.0032\n",
      "Epoch 25/50\n",
      "38/38 [==============================] - 4s 109ms/step - loss: 2.0322e-05 - mean_absolute_error: 0.0035 - val_loss: 2.1132e-05 - val_mean_absolute_error: 0.0033\n",
      "Epoch 26/50\n",
      "38/38 [==============================] - 5s 124ms/step - loss: 1.8453e-05 - mean_absolute_error: 0.0033 - val_loss: 2.1149e-05 - val_mean_absolute_error: 0.0033\n",
      "Epoch 27/50\n",
      "38/38 [==============================] - 4s 104ms/step - loss: 1.9287e-05 - mean_absolute_error: 0.0034 - val_loss: 2.0147e-05 - val_mean_absolute_error: 0.0031\n",
      "Epoch 28/50\n",
      "38/38 [==============================] - 4s 117ms/step - loss: 1.9277e-05 - mean_absolute_error: 0.0034 - val_loss: 2.0682e-05 - val_mean_absolute_error: 0.0032\n",
      "Epoch 29/50\n",
      "38/38 [==============================] - 4s 103ms/step - loss: 1.8119e-05 - mean_absolute_error: 0.0033 - val_loss: 2.0556e-05 - val_mean_absolute_error: 0.0032\n",
      "Epoch 30/50\n",
      "38/38 [==============================] - 4s 118ms/step - loss: 1.7716e-05 - mean_absolute_error: 0.0032 - val_loss: 2.0254e-05 - val_mean_absolute_error: 0.0031\n",
      "Epoch 31/50\n",
      "38/38 [==============================] - 4s 102ms/step - loss: 1.8203e-05 - mean_absolute_error: 0.0033 - val_loss: 2.1395e-05 - val_mean_absolute_error: 0.0033\n",
      "Epoch 32/50\n",
      "38/38 [==============================] - 4s 116ms/step - loss: 1.7011e-05 - mean_absolute_error: 0.0031 - val_loss: 2.0308e-05 - val_mean_absolute_error: 0.0032\n",
      "Epoch 33/50\n",
      "38/38 [==============================] - 4s 117ms/step - loss: 1.7412e-05 - mean_absolute_error: 0.0032 - val_loss: 2.0744e-05 - val_mean_absolute_error: 0.0032\n",
      "Epoch 34/50\n",
      "38/38 [==============================] - 4s 101ms/step - loss: 1.7056e-05 - mean_absolute_error: 0.0031 - val_loss: 1.9719e-05 - val_mean_absolute_error: 0.0031\n",
      "Epoch 35/50\n",
      "38/38 [==============================] - 5s 119ms/step - loss: 1.6763e-05 - mean_absolute_error: 0.0031 - val_loss: 1.9815e-05 - val_mean_absolute_error: 0.0031\n",
      "Epoch 36/50\n",
      "38/38 [==============================] - 4s 104ms/step - loss: 1.6430e-05 - mean_absolute_error: 0.0031 - val_loss: 1.9700e-05 - val_mean_absolute_error: 0.0031\n",
      "Epoch 37/50\n",
      "38/38 [==============================] - 5s 120ms/step - loss: 1.5805e-05 - mean_absolute_error: 0.0030 - val_loss: 2.1192e-05 - val_mean_absolute_error: 0.0033\n",
      "Epoch 38/50\n",
      "38/38 [==============================] - 4s 105ms/step - loss: 1.5477e-05 - mean_absolute_error: 0.0030 - val_loss: 2.0228e-05 - val_mean_absolute_error: 0.0031\n",
      "Epoch 39/50\n",
      "38/38 [==============================] - 5s 120ms/step - loss: 1.5483e-05 - mean_absolute_error: 0.0030 - val_loss: 1.9959e-05 - val_mean_absolute_error: 0.0031\n",
      "Epoch 40/50\n",
      "38/38 [==============================] - 4s 104ms/step - loss: 1.5962e-05 - mean_absolute_error: 0.0030 - val_loss: 2.0478e-05 - val_mean_absolute_error: 0.0032\n",
      "Epoch 41/50\n",
      "38/38 [==============================] - 5s 121ms/step - loss: 1.5723e-05 - mean_absolute_error: 0.0030 - val_loss: 1.9531e-05 - val_mean_absolute_error: 0.0031\n",
      "Epoch 42/50\n",
      "38/38 [==============================] - 5s 125ms/step - loss: 1.5741e-05 - mean_absolute_error: 0.0030 - val_loss: 2.0092e-05 - val_mean_absolute_error: 0.0031\n",
      "Epoch 43/50\n",
      "38/38 [==============================] - 4s 107ms/step - loss: 1.5693e-05 - mean_absolute_error: 0.0030 - val_loss: 2.1543e-05 - val_mean_absolute_error: 0.0033\n",
      "Epoch 44/50\n",
      "38/38 [==============================] - 5s 121ms/step - loss: 1.4124e-05 - mean_absolute_error: 0.0028 - val_loss: 1.9441e-05 - val_mean_absolute_error: 0.0030\n",
      "Epoch 45/50\n",
      "38/38 [==============================] - 4s 105ms/step - loss: 1.4576e-05 - mean_absolute_error: 0.0029 - val_loss: 2.0203e-05 - val_mean_absolute_error: 0.0031\n",
      "Epoch 46/50\n",
      "38/38 [==============================] - 5s 119ms/step - loss: 1.4335e-05 - mean_absolute_error: 0.0028 - val_loss: 1.9489e-05 - val_mean_absolute_error: 0.0030\n",
      "Epoch 47/50\n",
      "38/38 [==============================] - 4s 105ms/step - loss: 1.4082e-05 - mean_absolute_error: 0.0028 - val_loss: 1.9883e-05 - val_mean_absolute_error: 0.0031\n",
      "Epoch 48/50\n",
      "38/38 [==============================] - 5s 120ms/step - loss: 1.4282e-05 - mean_absolute_error: 0.0028 - val_loss: 2.0818e-05 - val_mean_absolute_error: 0.0032\n",
      "Epoch 49/50\n",
      "38/38 [==============================] - 4s 105ms/step - loss: 1.4022e-05 - mean_absolute_error: 0.0028 - val_loss: 1.9649e-05 - val_mean_absolute_error: 0.0031\n",
      "Epoch 50/50\n",
      "38/38 [==============================] - 5s 120ms/step - loss: 1.4041e-05 - mean_absolute_error: 0.0028 - val_loss: 2.0061e-05 - val_mean_absolute_error: 0.0031\n"
     ]
    }
   ],
   "source": [
    "early_stop = keras.callbacks.EarlyStopping(monitor = \"val_loss\",\n",
    "                                        patience = 10)\n",
    "\n",
    "model.compile(loss=keras.losses.MeanSquaredError(),\n",
    "              optimizer=\"adam\",\n",
    "              metrics=[keras.metrics.MeanAbsoluteError()])\n",
    "\n",
    "history = model.fit_generator(train_generator, epochs=50,\n",
    "                    validation_data=test_generator,\n",
    "                    shuffle=False, callbacks=[early_stop])"
   ]
  },
  {
   "cell_type": "code",
   "execution_count": 118,
   "metadata": {},
   "outputs": [
    {
     "name": "stderr",
     "output_type": "stream",
     "text": [
      "/var/folders/r2/ycy8hp_54yd7bxc_0kyb5trm0000gn/T/ipykernel_20178/953353012.py:1: UserWarning: `Model.predict_generator` is deprecated and will be removed in a future version. Please use `Model.predict`, which supports generators.\n",
      "  predictions = model.predict_generator(test_generator)\n"
     ]
    }
   ],
   "source": [
    "predictions = model.predict_generator(test_generator)\n",
    "df_preds = pd.DataFrame({\"ds\": test_dates[win_length:], \"y\": y_test[win_length:], })\n",
    "df_preds[\"yhat\"] = predictions.flatten()"
   ]
  },
  {
   "cell_type": "code",
   "execution_count": 119,
   "metadata": {},
   "outputs": [
    {
     "data": {
      "text/plain": [
       "<AxesSubplot:>"
      ]
     },
     "execution_count": 119,
     "metadata": {},
     "output_type": "execute_result"
    },
    {
     "data": {
      "image/png": "[encoded data removed]",
      "text/plain": [
       "<Figure size 432x288 with 1 Axes>"
      ]
     },
     "metadata": {
      "needs_background": "light"
     },
     "output_type": "display_data"
    }
   ],
   "source": [
    "df_preds[[\"y\", \"yhat\"]].plot()"
   ]
  },
  {
   "cell_type": "markdown",
   "metadata": {},
   "source": [
    "## GRU "
   ]
  },
  {
   "cell_type": "code",
   "execution_count": 120,
   "metadata": {},
   "outputs": [],
   "source": [
    "model_gru = Sequential()\n",
    "model_gru.add(GRU(128, input_shape= (win_length, num_features), return_sequences=True))\n",
    "model_gru.add(LeakyReLU(alpha=0.5)) \n",
    "model_gru.add(GRU(128, return_sequences=True))\n",
    "model_gru.add(LeakyReLU(alpha=0.5)) \n",
    "model_gru.add(Dropout(0.3)) \n",
    "model_gru.add(GRU(64, return_sequences=False))\n",
    "model_gru.add(Dropout(0.3)) \n",
    "model_gru.add(Dense(1))"
   ]
  },
  {
   "cell_type": "code",
   "execution_count": 121,
   "metadata": {},
   "outputs": [
    {
     "name": "stdout",
     "output_type": "stream",
     "text": [
      "Epoch 1/50\n"
     ]
    },
    {
     "name": "stderr",
     "output_type": "stream",
     "text": [
      "/var/folders/r2/ycy8hp_54yd7bxc_0kyb5trm0000gn/T/ipykernel_20178/3841558504.py:5: UserWarning: `Model.fit_generator` is deprecated and will be removed in a future version. Please use `Model.fit`, which supports generators.\n",
      "  history_gru = model_gru.fit_generator(train_generator, epochs=50,\n"
     ]
    },
    {
     "name": "stdout",
     "output_type": "stream",
     "text": [
      "38/38 [==============================] - 13s 145ms/step - loss: 0.0208 - mean_absolute_error: 0.0916 - val_loss: 1.4631e-04 - val_mean_absolute_error: 0.0095\n",
      "Epoch 2/50\n",
      "38/38 [==============================] - 3s 88ms/step - loss: 8.8905e-04 - mean_absolute_error: 0.0238 - val_loss: 1.1060e-04 - val_mean_absolute_error: 0.0083\n",
      "Epoch 3/50\n",
      "38/38 [==============================] - 4s 113ms/step - loss: 5.8339e-04 - mean_absolute_error: 0.0191 - val_loss: 9.3129e-05 - val_mean_absolute_error: 0.0076\n",
      "Epoch 4/50\n",
      "38/38 [==============================] - 4s 99ms/step - loss: 4.5874e-04 - mean_absolute_error: 0.0169 - val_loss: 6.9782e-05 - val_mean_absolute_error: 0.0066\n",
      "Epoch 5/50\n",
      "38/38 [==============================] - 5s 119ms/step - loss: 4.0751e-04 - mean_absolute_error: 0.0161 - val_loss: 5.7847e-05 - val_mean_absolute_error: 0.0060\n",
      "Epoch 6/50\n",
      "38/38 [==============================] - 4s 96ms/step - loss: 3.5305e-04 - mean_absolute_error: 0.0149 - val_loss: 5.0152e-05 - val_mean_absolute_error: 0.0055\n",
      "Epoch 7/50\n",
      "38/38 [==============================] - 4s 109ms/step - loss: 3.0391e-04 - mean_absolute_error: 0.0136 - val_loss: 4.7860e-05 - val_mean_absolute_error: 0.0054\n",
      "Epoch 8/50\n",
      "38/38 [==============================] - 4s 111ms/step - loss: 2.8270e-04 - mean_absolute_error: 0.0132 - val_loss: 5.3251e-05 - val_mean_absolute_error: 0.0057\n",
      "Epoch 9/50\n",
      "38/38 [==============================] - 4s 97ms/step - loss: 2.4759e-04 - mean_absolute_error: 0.0125 - val_loss: 3.9045e-05 - val_mean_absolute_error: 0.0048\n",
      "Epoch 10/50\n",
      "38/38 [==============================] - 5s 127ms/step - loss: 2.1885e-04 - mean_absolute_error: 0.0117 - val_loss: 3.5927e-05 - val_mean_absolute_error: 0.0046\n",
      "Epoch 11/50\n",
      "38/38 [==============================] - 4s 107ms/step - loss: 1.8946e-04 - mean_absolute_error: 0.0110 - val_loss: 3.7969e-05 - val_mean_absolute_error: 0.0048\n",
      "Epoch 12/50\n",
      "38/38 [==============================] - 5s 120ms/step - loss: 1.7745e-04 - mean_absolute_error: 0.0104 - val_loss: 3.5836e-05 - val_mean_absolute_error: 0.0046\n",
      "Epoch 13/50\n",
      "38/38 [==============================] - 4s 105ms/step - loss: 1.5520e-04 - mean_absolute_error: 0.0099 - val_loss: 3.1570e-05 - val_mean_absolute_error: 0.0043\n",
      "Epoch 14/50\n",
      "38/38 [==============================] - 4s 115ms/step - loss: 1.4416e-04 - mean_absolute_error: 0.0095 - val_loss: 3.3986e-05 - val_mean_absolute_error: 0.0045\n",
      "Epoch 15/50\n",
      "38/38 [==============================] - 4s 100ms/step - loss: 1.3352e-04 - mean_absolute_error: 0.0091 - val_loss: 3.3804e-05 - val_mean_absolute_error: 0.0045\n",
      "Epoch 16/50\n",
      "38/38 [==============================] - 4s 113ms/step - loss: 1.2659e-04 - mean_absolute_error: 0.0089 - val_loss: 2.8571e-05 - val_mean_absolute_error: 0.0040\n",
      "Epoch 17/50\n",
      "38/38 [==============================] - 4s 114ms/step - loss: 1.1825e-04 - mean_absolute_error: 0.0086 - val_loss: 2.7401e-05 - val_mean_absolute_error: 0.0039\n",
      "Epoch 18/50\n",
      "38/38 [==============================] - 4s 98ms/step - loss: 1.0571e-04 - mean_absolute_error: 0.0082 - val_loss: 2.7198e-05 - val_mean_absolute_error: 0.0039\n",
      "Epoch 19/50\n",
      "38/38 [==============================] - 4s 110ms/step - loss: 9.5679e-05 - mean_absolute_error: 0.0077 - val_loss: 2.5974e-05 - val_mean_absolute_error: 0.0038\n",
      "Epoch 20/50\n",
      "38/38 [==============================] - 4s 95ms/step - loss: 9.4265e-05 - mean_absolute_error: 0.0077 - val_loss: 2.5572e-05 - val_mean_absolute_error: 0.0038\n",
      "Epoch 21/50\n",
      "38/38 [==============================] - 4s 116ms/step - loss: 8.9444e-05 - mean_absolute_error: 0.0075 - val_loss: 2.8156e-05 - val_mean_absolute_error: 0.0040\n",
      "Epoch 22/50\n",
      "38/38 [==============================] - 4s 93ms/step - loss: 8.3554e-05 - mean_absolute_error: 0.0072 - val_loss: 2.4633e-05 - val_mean_absolute_error: 0.0037\n",
      "Epoch 23/50\n",
      "38/38 [==============================] - 4s 118ms/step - loss: 7.9687e-05 - mean_absolute_error: 0.0070 - val_loss: 2.5607e-05 - val_mean_absolute_error: 0.0038\n",
      "Epoch 24/50\n",
      "38/38 [==============================] - 4s 108ms/step - loss: 7.1302e-05 - mean_absolute_error: 0.0067 - val_loss: 2.3867e-05 - val_mean_absolute_error: 0.0036\n",
      "Epoch 25/50\n",
      "38/38 [==============================] - 4s 117ms/step - loss: 6.6864e-05 - mean_absolute_error: 0.0065 - val_loss: 2.6931e-05 - val_mean_absolute_error: 0.0039\n",
      "Epoch 26/50\n",
      "38/38 [==============================] - 4s 115ms/step - loss: 6.6288e-05 - mean_absolute_error: 0.0065 - val_loss: 2.6254e-05 - val_mean_absolute_error: 0.0038\n",
      "Epoch 27/50\n",
      "38/38 [==============================] - 4s 95ms/step - loss: 6.5179e-05 - mean_absolute_error: 0.0064 - val_loss: 2.3254e-05 - val_mean_absolute_error: 0.0035\n",
      "Epoch 28/50\n",
      "38/38 [==============================] - 4s 112ms/step - loss: 5.9171e-05 - mean_absolute_error: 0.0061 - val_loss: 2.3805e-05 - val_mean_absolute_error: 0.0036\n",
      "Epoch 29/50\n",
      "38/38 [==============================] - 4s 103ms/step - loss: 5.8226e-05 - mean_absolute_error: 0.0060 - val_loss: 2.5349e-05 - val_mean_absolute_error: 0.0037\n",
      "Epoch 30/50\n",
      "38/38 [==============================] - 5s 135ms/step - loss: 5.2374e-05 - mean_absolute_error: 0.0058 - val_loss: 2.2015e-05 - val_mean_absolute_error: 0.0034\n",
      "Epoch 31/50\n",
      "38/38 [==============================] - 4s 96ms/step - loss: 4.9673e-05 - mean_absolute_error: 0.0056 - val_loss: 2.2158e-05 - val_mean_absolute_error: 0.0034\n",
      "Epoch 32/50\n",
      "38/38 [==============================] - 4s 112ms/step - loss: 5.2408e-05 - mean_absolute_error: 0.0057 - val_loss: 2.2257e-05 - val_mean_absolute_error: 0.0034\n",
      "Epoch 33/50\n",
      "38/38 [==============================] - 4s 101ms/step - loss: 4.9543e-05 - mean_absolute_error: 0.0056 - val_loss: 2.1938e-05 - val_mean_absolute_error: 0.0034\n",
      "Epoch 34/50\n",
      "38/38 [==============================] - 5s 128ms/step - loss: 4.5906e-05 - mean_absolute_error: 0.0054 - val_loss: 2.3698e-05 - val_mean_absolute_error: 0.0036\n",
      "Epoch 35/50\n",
      "38/38 [==============================] - 4s 114ms/step - loss: 4.2169e-05 - mean_absolute_error: 0.0051 - val_loss: 2.3239e-05 - val_mean_absolute_error: 0.0035\n",
      "Epoch 36/50\n",
      "38/38 [==============================] - 4s 97ms/step - loss: 4.2693e-05 - mean_absolute_error: 0.0052 - val_loss: 2.2009e-05 - val_mean_absolute_error: 0.0034\n",
      "Epoch 37/50\n",
      "38/38 [==============================] - 5s 124ms/step - loss: 4.2390e-05 - mean_absolute_error: 0.0051 - val_loss: 2.1859e-05 - val_mean_absolute_error: 0.0034\n",
      "Epoch 38/50\n",
      "38/38 [==============================] - 4s 107ms/step - loss: 4.0834e-05 - mean_absolute_error: 0.0051 - val_loss: 2.1602e-05 - val_mean_absolute_error: 0.0033\n",
      "Epoch 39/50\n",
      "38/38 [==============================] - 4s 118ms/step - loss: 4.0926e-05 - mean_absolute_error: 0.0051 - val_loss: 2.2610e-05 - val_mean_absolute_error: 0.0034\n",
      "Epoch 40/50\n",
      "38/38 [==============================] - 4s 98ms/step - loss: 3.8794e-05 - mean_absolute_error: 0.0049 - val_loss: 2.1166e-05 - val_mean_absolute_error: 0.0033\n",
      "Epoch 41/50\n",
      "38/38 [==============================] - 4s 112ms/step - loss: 3.6893e-05 - mean_absolute_error: 0.0048 - val_loss: 2.1610e-05 - val_mean_absolute_error: 0.0033\n",
      "Epoch 42/50\n",
      "38/38 [==============================] - 4s 96ms/step - loss: 3.7019e-05 - mean_absolute_error: 0.0048 - val_loss: 2.0757e-05 - val_mean_absolute_error: 0.0032\n",
      "Epoch 43/50\n",
      "38/38 [==============================] - 4s 104ms/step - loss: 3.4140e-05 - mean_absolute_error: 0.0046 - val_loss: 2.2681e-05 - val_mean_absolute_error: 0.0035\n",
      "Epoch 44/50\n",
      "38/38 [==============================] - 5s 120ms/step - loss: 3.4127e-05 - mean_absolute_error: 0.0046 - val_loss: 2.0991e-05 - val_mean_absolute_error: 0.0033\n",
      "Epoch 45/50\n",
      "38/38 [==============================] - 4s 99ms/step - loss: 3.3809e-05 - mean_absolute_error: 0.0046 - val_loss: 2.1365e-05 - val_mean_absolute_error: 0.0033\n",
      "Epoch 46/50\n",
      "38/38 [==============================] - 4s 114ms/step - loss: 3.1532e-05 - mean_absolute_error: 0.0044 - val_loss: 2.2608e-05 - val_mean_absolute_error: 0.0034\n",
      "Epoch 47/50\n",
      "38/38 [==============================] - 4s 96ms/step - loss: 3.3055e-05 - mean_absolute_error: 0.0045 - val_loss: 2.1598e-05 - val_mean_absolute_error: 0.0033\n",
      "Epoch 48/50\n",
      "38/38 [==============================] - 4s 112ms/step - loss: 3.0945e-05 - mean_absolute_error: 0.0044 - val_loss: 2.0835e-05 - val_mean_absolute_error: 0.0032\n",
      "Epoch 49/50\n",
      "38/38 [==============================] - 4s 98ms/step - loss: 3.1477e-05 - mean_absolute_error: 0.0044 - val_loss: 2.1193e-05 - val_mean_absolute_error: 0.0033\n",
      "Epoch 50/50\n",
      "38/38 [==============================] - 4s 113ms/step - loss: 3.0350e-05 - mean_absolute_error: 0.0043 - val_loss: 2.1365e-05 - val_mean_absolute_error: 0.0033\n"
     ]
    }
   ],
   "source": [
    "model_gru.compile(loss=keras.losses.MeanSquaredError(),\n",
    "              optimizer=\"adam\",\n",
    "              metrics=[keras.metrics.MeanAbsoluteError()])\n",
    "\n",
    "history_gru = model_gru.fit_generator(train_generator, epochs=50,\n",
    "                    validation_data=test_generator,\n",
    "                    shuffle=False, callbacks=[early_stop])"
   ]
  },
  {
   "cell_type": "code",
   "execution_count": 122,
   "metadata": {},
   "outputs": [
    {
     "name": "stderr",
     "output_type": "stream",
     "text": [
      "/var/folders/r2/ycy8hp_54yd7bxc_0kyb5trm0000gn/T/ipykernel_20178/2811852203.py:1: UserWarning: `Model.predict_generator` is deprecated and will be removed in a future version. Please use `Model.predict`, which supports generators.\n",
      "  predictions_gru = model_gru.predict_generator(test_generator)\n"
     ]
    }
   ],
   "source": [
    "predictions_gru = model_gru.predict_generator(test_generator)\n",
    "df_preds_gru = pd.DataFrame({\"ds\": test_dates[win_length:], \"y\": y_test[win_length:], })\n",
    "df_preds_gru[\"yhat\"] = predictions_gru.flatten()"
   ]
  },
  {
   "cell_type": "code",
   "execution_count": 123,
   "metadata": {},
   "outputs": [
    {
     "data": {
      "text/plain": [
       "<AxesSubplot:>"
      ]
     },
     "execution_count": 123,
     "metadata": {},
     "output_type": "execute_result"
    },
    {
     "data": {
      "image/png": "[encoded data removed]",
      "text/plain": [
       "<Figure size 432x288 with 1 Axes>"
      ]
     },
     "metadata": {
      "needs_background": "light"
     },
     "output_type": "display_data"
    }
   ],
   "source": [
    "df_preds_gru[[\"y\", \"yhat\"]].plot()"
   ]
  }
 ],
 "metadata": {
  "interpreter": {
   "hash": "eb74c8d9ad66af7fcab0b82fb03282332e8e98e671d4c74408809bf0c7d3f73d"
  },
  "kernelspec": {
   "display_name": "Python 3.9.12 ('venv': venv)",
   "language": "python",
   "name": "python3"
  },
  "language_info": {
   "codemirror_mode": {
    "name": "ipython",
    "version": 3
   },
   "file_extension": ".py",
   "mimetype": "text/x-python",
   "name": "python",
   "nbconvert_exporter": "python",
   "pygments_lexer": "ipython3",
   "version": "3.9.12"
  },
  "orig_nbformat": 4
 },
 "nbformat": 4,
 "nbformat_minor": 2
}
