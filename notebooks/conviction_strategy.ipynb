{
 "cells": [
  {
   "cell_type": "code",
   "execution_count": 1,
   "id": "bb85a293",
   "metadata": {},
   "outputs": [],
   "source": [
    "import pandas as pd\n",
    "import numpy as np\n",
    "#we want to give highest weightage 50 \n",
    "#second is 30 \n",
    "#third is 20"
   ]
  },
  {
   "cell_type": "code",
   "execution_count": null,
   "id": "66e6f079",
   "metadata": {},
   "outputs": [],
   "source": [
    "#here we need to add weights instead of multiplying by 1/3 and those weighst are calculated by the probability in the table\n",
    "#for highest probability give weight 50 \n",
    "#for 2nd highest give 30 \n",
    "#for lowest give 20\n",
    "def balanced_profolio(target, pred):\n",
    "    #target_ = target.iloc[:, 1:4]\n",
    "    target = target.iloc[:, -3:]\n",
    "    start = 100000\n",
    "    initial = 100000\n",
    "    s_p = target.iloc[:, 4]#add this \n",
    "    #real = target.iloc[:, -3:]\n",
    "    real = target.iloc[:, 1:4]\n",
    "    compare_result = []\n",
    "    for i in range(pred.shape[0]):\n",
    "        row = target_.iloc[i, :]\n",
    "        start = sum(list(map(lambda x: (start / 3) * (x), row)))#here we do start *(.5/.3/.2 based on weight)*x\n",
    "        if pred.iloc[i,:].sum() >= 2:\n",
    "            op_invest = 1\n",
    "            op_s_p = -1\n",
    "        else:\n",
    "            op_invest = -1\n",
    "            op_s_p = 1\n",
    "        if real.iloc[i, :].sum() >= 2:\n",
    "            op_real = 1\n",
    "        else:\n",
    "            op_real = -1\n",
    "        if op_real != op_invest:\n",
    "            op_final = -1\n",
    "        else:\n",
    "            op_final = 1\n",
    "        result_pred = (op_invest * start + op_s_p * s_p[i] * initial) * op_final\n",
    "        compare_result.append(result_pred)\n",
    "    return compare_result"
   ]
  }
 ],
 "metadata": {
  "kernelspec": {
   "display_name": "Python 3 (ipykernel)",
   "language": "python",
   "name": "python3"
  },
  "language_info": {
   "codemirror_mode": {
    "name": "ipython",
    "version": 3
   },
   "file_extension": ".py",
   "mimetype": "text/x-python",
   "name": "python",
   "nbconvert_exporter": "python",
   "pygments_lexer": "ipython3",
   "version": "3.9.7"
  }
 },
 "nbformat": 4,
 "nbformat_minor": 5
}
