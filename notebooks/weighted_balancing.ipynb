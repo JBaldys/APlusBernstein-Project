{
 "cells": [
  {
   "cell_type": "code",
   "execution_count": 2,
   "id": "371e7e5a",
   "metadata": {},
   "outputs": [
    {
     "name": "stdout",
     "output_type": "stream",
     "text": [
      "Collecting PyPortfolioOpt\n",
      "  Downloading pyportfolioopt-1.5.2-py3-none-any.whl (61 kB)\n",
      "\u001b[K     |████████████████████████████████| 61 kB 2.1 MB/s eta 0:00:01\n",
      "\u001b[?25hRequirement already satisfied: scipy<2.0,>=1.3 in /Users/anubhanagar/opt/anaconda3/lib/python3.9/site-packages (from PyPortfolioOpt) (1.7.1)\n",
      "Requirement already satisfied: pandas>=0.19 in /Users/anubhanagar/opt/anaconda3/lib/python3.9/site-packages (from PyPortfolioOpt) (1.3.4)\n",
      "Requirement already satisfied: numpy<2.0,>=1.12 in /Users/anubhanagar/opt/anaconda3/lib/python3.9/site-packages (from PyPortfolioOpt) (1.20.3)\n",
      "Collecting cvxpy<2.0.0,>=1.1.10\n",
      "  Downloading cvxpy-1.2.0-cp39-cp39-macosx_10_9_x86_64.whl (880 kB)\n",
      "\u001b[K     |████████████████████████████████| 880 kB 4.4 MB/s eta 0:00:01\n",
      "\u001b[?25hCollecting ecos>=2\n",
      "  Downloading ecos-2.0.10-cp39-cp39-macosx_10_9_x86_64.whl (88 kB)\n",
      "\u001b[K     |████████████████████████████████| 88 kB 48.1 MB/s  eta 0:00:01\n",
      "\u001b[?25hCollecting osqp>=0.4.1\n",
      "  Downloading osqp-0.6.2.post5-cp39-cp39-macosx_10_9_x86_64.whl (249 kB)\n",
      "\u001b[K     |████████████████████████████████| 249 kB 8.5 MB/s eta 0:00:01\n",
      "\u001b[?25hCollecting scs>=1.1.6\n",
      "  Downloading scs-3.2.0-cp39-cp39-macosx_10_9_x86_64.whl (11.4 MB)\n",
      "\u001b[K     |████████████████████████████████| 11.4 MB 14.8 MB/s eta 0:00:01\n",
      "\u001b[?25hCollecting qdldl\n",
      "  Downloading qdldl-0.1.5.post2-cp39-cp39-macosx_10_9_x86_64.whl (98 kB)\n",
      "\u001b[K     |████████████████████████████████| 98 kB 23.2 MB/s eta 0:00:01\n",
      "\u001b[?25hRequirement already satisfied: python-dateutil>=2.7.3 in /Users/anubhanagar/opt/anaconda3/lib/python3.9/site-packages (from pandas>=0.19->PyPortfolioOpt) (2.8.2)\n",
      "Requirement already satisfied: pytz>=2017.3 in /Users/anubhanagar/opt/anaconda3/lib/python3.9/site-packages (from pandas>=0.19->PyPortfolioOpt) (2021.3)\n",
      "Requirement already satisfied: six>=1.5 in /Users/anubhanagar/opt/anaconda3/lib/python3.9/site-packages (from python-dateutil>=2.7.3->pandas>=0.19->PyPortfolioOpt) (1.16.0)\n",
      "Installing collected packages: qdldl, scs, osqp, ecos, cvxpy, PyPortfolioOpt\n",
      "Successfully installed PyPortfolioOpt-1.5.2 cvxpy-1.2.0 ecos-2.0.10 osqp-0.6.2.post5 qdldl-0.1.5.post2 scs-3.2.0\n",
      "Note: you may need to restart the kernel to use updated packages.\n"
     ]
    }
   ],
   "source": [
    "pip install PyPortfolioOpt"
   ]
  },
  {
   "cell_type": "code",
   "execution_count": 44,
   "id": "12c8c556",
   "metadata": {},
   "outputs": [
    {
     "data": {
      "text/html": [
       "<div>\n",
       "<style scoped>\n",
       "    .dataframe tbody tr th:only-of-type {\n",
       "        vertical-align: middle;\n",
       "    }\n",
       "\n",
       "    .dataframe tbody tr th {\n",
       "        vertical-align: top;\n",
       "    }\n",
       "\n",
       "    .dataframe thead th {\n",
       "        text-align: right;\n",
       "    }\n",
       "</style>\n",
       "<table border=\"1\" class=\"dataframe\">\n",
       "  <thead>\n",
       "    <tr style=\"text-align: right;\">\n",
       "      <th></th>\n",
       "      <th>sc_1d_fwd_rel_ret</th>\n",
       "      <th>mom_1d_fwd_rel_ret</th>\n",
       "      <th>value_1d_fwd_rel_ret</th>\n",
       "    </tr>\n",
       "  </thead>\n",
       "  <tbody>\n",
       "    <tr>\n",
       "      <th>0</th>\n",
       "      <td>0.005416</td>\n",
       "      <td>-0.000329</td>\n",
       "      <td>0.002091</td>\n",
       "    </tr>\n",
       "    <tr>\n",
       "      <th>1</th>\n",
       "      <td>-0.005597</td>\n",
       "      <td>-0.000251</td>\n",
       "      <td>0.000522</td>\n",
       "    </tr>\n",
       "    <tr>\n",
       "      <th>2</th>\n",
       "      <td>0.002269</td>\n",
       "      <td>0.002999</td>\n",
       "      <td>0.000093</td>\n",
       "    </tr>\n",
       "    <tr>\n",
       "      <th>3</th>\n",
       "      <td>0.001520</td>\n",
       "      <td>0.007639</td>\n",
       "      <td>0.002141</td>\n",
       "    </tr>\n",
       "    <tr>\n",
       "      <th>4</th>\n",
       "      <td>-0.000087</td>\n",
       "      <td>0.001010</td>\n",
       "      <td>0.002480</td>\n",
       "    </tr>\n",
       "    <tr>\n",
       "      <th>...</th>\n",
       "      <td>...</td>\n",
       "      <td>...</td>\n",
       "      <td>...</td>\n",
       "    </tr>\n",
       "    <tr>\n",
       "      <th>1841</th>\n",
       "      <td>0.002553</td>\n",
       "      <td>-0.003195</td>\n",
       "      <td>-0.001594</td>\n",
       "    </tr>\n",
       "    <tr>\n",
       "      <th>1842</th>\n",
       "      <td>-0.010477</td>\n",
       "      <td>-0.011423</td>\n",
       "      <td>-0.000088</td>\n",
       "    </tr>\n",
       "    <tr>\n",
       "      <th>1843</th>\n",
       "      <td>-0.006402</td>\n",
       "      <td>-0.000410</td>\n",
       "      <td>-0.002580</td>\n",
       "    </tr>\n",
       "    <tr>\n",
       "      <th>1844</th>\n",
       "      <td>0.002143</td>\n",
       "      <td>-0.009954</td>\n",
       "      <td>0.005957</td>\n",
       "    </tr>\n",
       "    <tr>\n",
       "      <th>1845</th>\n",
       "      <td>-0.005269</td>\n",
       "      <td>-0.013471</td>\n",
       "      <td>0.005230</td>\n",
       "    </tr>\n",
       "  </tbody>\n",
       "</table>\n",
       "<p>1846 rows × 3 columns</p>\n",
       "</div>"
      ],
      "text/plain": [
       "      sc_1d_fwd_rel_ret  mom_1d_fwd_rel_ret  value_1d_fwd_rel_ret\n",
       "0              0.005416           -0.000329              0.002091\n",
       "1             -0.005597           -0.000251              0.000522\n",
       "2              0.002269            0.002999              0.000093\n",
       "3              0.001520            0.007639              0.002141\n",
       "4             -0.000087            0.001010              0.002480\n",
       "...                 ...                 ...                   ...\n",
       "1841           0.002553           -0.003195             -0.001594\n",
       "1842          -0.010477           -0.011423             -0.000088\n",
       "1843          -0.006402           -0.000410             -0.002580\n",
       "1844           0.002143           -0.009954              0.005957\n",
       "1845          -0.005269           -0.013471              0.005230\n",
       "\n",
       "[1846 rows x 3 columns]"
      ]
     },
     "execution_count": 44,
     "metadata": {},
     "output_type": "execute_result"
    }
   ],
   "source": [
    "#using pyfolio \n",
    "from pypfopt.expected_returns import mean_historical_return\n",
    "from pypfopt.risk_models import CovarianceShrinkage\n",
    "import pandas as pd\n",
    "path = '/Users/anubhanagar/Desktop/APlusBernstein-Project/data/pred/lstm_preds.csv'\n",
    "df_all = pd.read_csv(path)\n",
    "df = df_all.iloc[:, -3:]\n",
    "df"
   ]
  },
  {
   "cell_type": "code",
   "execution_count": 45,
   "id": "6b5478c5",
   "metadata": {},
   "outputs": [
    {
     "data": {
      "text/plain": [
       "0"
      ]
     },
     "execution_count": 45,
     "metadata": {},
     "output_type": "execute_result"
    }
   ],
   "source": [
    "df[\"sc_1d_fwd_rel_ret\"].isnull().sum()"
   ]
  },
  {
   "cell_type": "code",
   "execution_count": 46,
   "id": "fef2fde9",
   "metadata": {},
   "outputs": [],
   "source": [
    "#df.dropna(subset = [\"sc_1d_fwd_rel_ret\"])\n",
    "mu = mean_historical_return(df, compounding = False, returns_data = True)\n",
    "S = CovarianceShrinkage(df).ledoit_wolf()"
   ]
  },
  {
   "cell_type": "code",
   "execution_count": 47,
   "id": "9014673a",
   "metadata": {},
   "outputs": [
    {
     "data": {
      "text/plain": [
       "sc_1d_fwd_rel_ret       0.000780\n",
       "mom_1d_fwd_rel_ret      0.042487\n",
       "value_1d_fwd_rel_ret   -0.002527\n",
       "dtype: float64"
      ]
     },
     "execution_count": 47,
     "metadata": {},
     "output_type": "execute_result"
    }
   ],
   "source": [
    "mu"
   ]
  },
  {
   "cell_type": "code",
   "execution_count": 48,
   "id": "60bf97c4",
   "metadata": {},
   "outputs": [
    {
     "data": {
      "text/html": [
       "<div>\n",
       "<style scoped>\n",
       "    .dataframe tbody tr th:only-of-type {\n",
       "        vertical-align: middle;\n",
       "    }\n",
       "\n",
       "    .dataframe tbody tr th {\n",
       "        vertical-align: top;\n",
       "    }\n",
       "\n",
       "    .dataframe thead th {\n",
       "        text-align: right;\n",
       "    }\n",
       "</style>\n",
       "<table border=\"1\" class=\"dataframe\">\n",
       "  <thead>\n",
       "    <tr style=\"text-align: right;\">\n",
       "      <th></th>\n",
       "      <th>sc_1d_fwd_rel_ret</th>\n",
       "      <th>mom_1d_fwd_rel_ret</th>\n",
       "      <th>value_1d_fwd_rel_ret</th>\n",
       "    </tr>\n",
       "  </thead>\n",
       "  <tbody>\n",
       "    <tr>\n",
       "      <th>sc_1d_fwd_rel_ret</th>\n",
       "      <td>4.082278e+06</td>\n",
       "      <td>-0.000000e+00</td>\n",
       "      <td>0.000000e+00</td>\n",
       "    </tr>\n",
       "    <tr>\n",
       "      <th>mom_1d_fwd_rel_ret</th>\n",
       "      <td>-0.000000e+00</td>\n",
       "      <td>4.082278e+06</td>\n",
       "      <td>0.000000e+00</td>\n",
       "    </tr>\n",
       "    <tr>\n",
       "      <th>value_1d_fwd_rel_ret</th>\n",
       "      <td>0.000000e+00</td>\n",
       "      <td>0.000000e+00</td>\n",
       "      <td>4.082278e+06</td>\n",
       "    </tr>\n",
       "  </tbody>\n",
       "</table>\n",
       "</div>"
      ],
      "text/plain": [
       "                      sc_1d_fwd_rel_ret  mom_1d_fwd_rel_ret  \\\n",
       "sc_1d_fwd_rel_ret          4.082278e+06       -0.000000e+00   \n",
       "mom_1d_fwd_rel_ret        -0.000000e+00        4.082278e+06   \n",
       "value_1d_fwd_rel_ret       0.000000e+00        0.000000e+00   \n",
       "\n",
       "                      value_1d_fwd_rel_ret  \n",
       "sc_1d_fwd_rel_ret             0.000000e+00  \n",
       "mom_1d_fwd_rel_ret            0.000000e+00  \n",
       "value_1d_fwd_rel_ret          4.082278e+06  "
      ]
     },
     "execution_count": 48,
     "metadata": {},
     "output_type": "execute_result"
    }
   ],
   "source": [
    "S"
   ]
  },
  {
   "cell_type": "code",
   "execution_count": 49,
   "id": "10832ce1",
   "metadata": {},
   "outputs": [],
   "source": [
    "#Mean variance optimization\n",
    "from pypfopt.efficient_frontier import EfficientFrontier\n",
    "\n",
    "ef = EfficientFrontier(mu, S)\n",
    "weights = ef.max_sharpe()"
   ]
  },
  {
   "cell_type": "code",
   "execution_count": 50,
   "id": "239b6f45",
   "metadata": {},
   "outputs": [
    {
     "name": "stdout",
     "output_type": "stream",
     "text": [
      "OrderedDict([('sc_1d_fwd_rel_ret', 0.0), ('mom_1d_fwd_rel_ret', 1.0), ('value_1d_fwd_rel_ret', 0.0)])\n"
     ]
    }
   ],
   "source": [
    "cleaned_weights = ef.clean_weights()\n",
    "ef.save_weights_to_file(\"weights.txt\")  # saves to file\n",
    "print(cleaned_weights)"
   ]
  },
  {
   "cell_type": "code",
   "execution_count": 51,
   "id": "8680951c",
   "metadata": {},
   "outputs": [
    {
     "name": "stdout",
     "output_type": "stream",
     "text": [
      "Expected annual return: 4.2%\n",
      "Annual volatility: 202046.5%\n",
      "Sharpe Ratio: 0.00\n"
     ]
    },
    {
     "data": {
      "text/plain": [
       "(0.042487064970933686, 2020.464857494151, 1.1129649143624753e-05)"
      ]
     },
     "execution_count": 51,
     "metadata": {},
     "output_type": "execute_result"
    }
   ],
   "source": [
    "ef.portfolio_performance(verbose=True)"
   ]
  },
  {
   "cell_type": "code",
   "execution_count": null,
   "id": "ad36c444",
   "metadata": {},
   "outputs": [],
   "source": []
  }
 ],
 "metadata": {
  "kernelspec": {
   "display_name": "Python 3 (ipykernel)",
   "language": "python",
   "name": "python3"
  },
  "language_info": {
   "codemirror_mode": {
    "name": "ipython",
    "version": 3
   },
   "file_extension": ".py",
   "mimetype": "text/x-python",
   "name": "python",
   "nbconvert_exporter": "python",
   "pygments_lexer": "ipython3",
   "version": "3.9.7"
  }
 },
 "nbformat": 4,
 "nbformat_minor": 5
}
