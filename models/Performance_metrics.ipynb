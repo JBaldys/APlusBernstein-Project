{
 "cells": [
  {
   "cell_type": "code",
   "execution_count": 21,
   "id": "5240c8ac",
   "metadata": {},
   "outputs": [],
   "source": [
    "import pandas as pd \n",
    "import statistics\n",
    "import numpy as np"
   ]
  },
  {
   "cell_type": "code",
   "execution_count": 9,
   "id": "af8b398d",
   "metadata": {},
   "outputs": [
    {
     "data": {
      "text/html": [
       "<div>\n",
       "<style scoped>\n",
       "    .dataframe tbody tr th:only-of-type {\n",
       "        vertical-align: middle;\n",
       "    }\n",
       "\n",
       "    .dataframe tbody tr th {\n",
       "        vertical-align: top;\n",
       "    }\n",
       "\n",
       "    .dataframe thead th {\n",
       "        text-align: right;\n",
       "    }\n",
       "</style>\n",
       "<table border=\"1\" class=\"dataframe\">\n",
       "  <thead>\n",
       "    <tr style=\"text-align: right;\">\n",
       "      <th></th>\n",
       "      <th>Returns</th>\n",
       "    </tr>\n",
       "  </thead>\n",
       "  <tbody>\n",
       "    <tr>\n",
       "      <th>0</th>\n",
       "      <td>1</td>\n",
       "    </tr>\n",
       "    <tr>\n",
       "      <th>1</th>\n",
       "      <td>2</td>\n",
       "    </tr>\n",
       "    <tr>\n",
       "      <th>2</th>\n",
       "      <td>3</td>\n",
       "    </tr>\n",
       "    <tr>\n",
       "      <th>3</th>\n",
       "      <td>4</td>\n",
       "    </tr>\n",
       "    <tr>\n",
       "      <th>4</th>\n",
       "      <td>5</td>\n",
       "    </tr>\n",
       "  </tbody>\n",
       "</table>\n",
       "</div>"
      ],
      "text/plain": [
       "   Returns\n",
       "0        1\n",
       "1        2\n",
       "2        3\n",
       "3        4\n",
       "4        5"
      ]
     },
     "execution_count": 9,
     "metadata": {},
     "output_type": "execute_result"
    }
   ],
   "source": [
    "Net_return = pd.read_csv(\"/Users/anubhanagar/Desktop/APlusBernstein-Project/models/demo_return_data.csv\")#using demo file for this \n",
    "Net_return.head()#net return should be a one row return containing net returns of each day"
   ]
  },
  {
   "cell_type": "code",
   "execution_count": 10,
   "id": "f06a2551",
   "metadata": {},
   "outputs": [
    {
     "data": {
      "text/plain": [
       "3.5"
      ]
     },
     "execution_count": 10,
     "metadata": {},
     "output_type": "execute_result"
    }
   ],
   "source": [
    "#performance metrics \n",
    "# Average of returns or mean daily average \n",
    "Average_daily_ret = statistics.mean(Net_return[\"Returns\"])\n",
    "print(Average_daily_ret)"
   ]
  },
  {
   "cell_type": "code",
   "execution_count": 15,
   "id": "dbbbf4cb",
   "metadata": {},
   "outputs": [
    {
     "data": {
      "text/plain": [
       "5.0"
      ]
     },
     "execution_count": 15,
     "metadata": {},
     "output_type": "execute_result"
    }
   ],
   "source": [
    "#Holding period returns\n",
    "HPR = (Net_return['Returns'].iat[-1] - Net_return['Returns'].iat[0])/Net_return['Returns'].iat[0]\n",
    "HPR"
   ]
  },
  {
   "cell_type": "code",
   "execution_count": 19,
   "id": "336fd4a5",
   "metadata": {},
   "outputs": [
    {
     "data": {
      "text/plain": [
       "1.8708286933869707"
      ]
     },
     "execution_count": 19,
     "metadata": {},
     "output_type": "execute_result"
    }
   ],
   "source": [
    "#volatility of returns \n",
    "vol = statistics.stdev(Net_return[\"Returns\"])\n",
    "vol"
   ]
  },
  {
   "cell_type": "code",
   "execution_count": 22,
   "id": "52b77065",
   "metadata": {},
   "outputs": [
    {
     "data": {
      "text/plain": [
       "42.002142802480925"
      ]
     },
     "execution_count": 22,
     "metadata": {},
     "output_type": "execute_result"
    }
   ],
   "source": [
    "#Sharpe Ratio \n",
    "#risk_free_rate = 0.05\n",
    "def sharpe_ratio(HPR, risk_free_rate, vol):\n",
    "    \n",
    "    return (HPR - risk_free_rate) / vol*(np.sqrt(252))\n",
    "sharpe_ratio(HPR = HPR,risk_free_rate= 0.05, vol = vol )"
   ]
  }
 ],
 "metadata": {
  "kernelspec": {
   "display_name": "Python 3 (ipykernel)",
   "language": "python",
   "name": "python3"
  },
  "language_info": {
   "codemirror_mode": {
    "name": "ipython",
    "version": 3
   },
   "file_extension": ".py",
   "mimetype": "text/x-python",
   "name": "python",
   "nbconvert_exporter": "python",
   "pygments_lexer": "ipython3",
   "version": "3.9.7"
  }
 },
 "nbformat": 4,
 "nbformat_minor": 5
}
